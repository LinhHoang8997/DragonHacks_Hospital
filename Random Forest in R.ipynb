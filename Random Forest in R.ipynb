{
 "cells": [
  {
   "cell_type": "code",
   "execution_count": 64,
   "metadata": {
    "ExecuteTime": {
     "end_time": "2019-04-22T21:11:53.630109Z",
     "start_time": "2019-04-22T21:10:29.707Z"
    }
   },
   "outputs": [],
   "source": [
    "library(party)\n",
    "library(randomForest)\n",
    "library(caret)\n",
    "library(readr)\n",
    "library(dplyr)\n",
    "# library(tictoc)"
   ]
  },
  {
   "cell_type": "code",
   "execution_count": 65,
   "metadata": {
    "ExecuteTime": {
     "end_time": "2019-04-22T21:11:54.354512Z",
     "start_time": "2019-04-22T21:10:29.723Z"
    },
    "scrolled": true
   },
   "outputs": [
    {
     "name": "stderr",
     "output_type": "stream",
     "text": [
      "Parsed with column specification:\n",
      "cols(\n",
      "  `Loan ID` = col_character(),\n",
      "  `Customer ID` = col_character(),\n",
      "  `Loan Status` = col_character(),\n",
      "  `Current Loan Amount` = col_integer(),\n",
      "  Term = col_character(),\n",
      "  `Credit Score` = col_integer(),\n",
      "  `Annual Income` = col_integer(),\n",
      "  `Years in current job` = col_character(),\n",
      "  `Home Ownership` = col_character(),\n",
      "  Purpose = col_character(),\n",
      "  `Monthly Debt` = col_double(),\n",
      "  `Years of Credit History` = col_double(),\n",
      "  `Months since last delinquent` = col_integer(),\n",
      "  `Number of Open Accounts` = col_integer(),\n",
      "  `Number of Credit Problems` = col_integer(),\n",
      "  `Current Credit Balance` = col_integer(),\n",
      "  `Maximum Open Credit` = col_integer(),\n",
      "  Bankruptcies = col_integer(),\n",
      "  `Tax Liens` = col_integer()\n",
      ")\n"
     ]
    },
    {
     "name": "stdout",
     "output_type": "stream",
     "text": [
      "'data.frame':\t100514 obs. of  19 variables:\n",
      " $ Loan ID                     : chr  \"14dd8831-6af5-400b-83ec-68e61888a048\" \"4771cc26-131a-45db-b5aa-537ea4ba5342\" \"4eed4e6a-aa2f-4c91-8651-ce984ee8fb26\" \"77598f7b-32e7-4e3b-a6e5-06ba0d98fe8a\" ...\n",
      " $ Customer ID                 : chr  \"981165ec-3274-42f5-a3b4-d104041a9ca9\" \"2de017a3-2e01-49cb-a581-08169e83be29\" \"5efb2b2b-bf11-4dfd-a572-3761a2694725\" \"e777faab-98ae-45af-9a86-7ce5b33b1011\" ...\n",
      " $ Loan Status                 : chr  \"Fully Paid\" \"Fully Paid\" \"Fully Paid\" \"Fully Paid\" ...\n",
      " $ Current Loan Amount         : int  445412 262328 99999999 347666 176220 206602 217646 648714 548746 215952 ...\n",
      " $ Term                        : chr  \"Short Term\" \"Short Term\" \"Short Term\" \"Long Term\" ...\n",
      " $ Credit Score                : int  709 NA 741 721 NA 7290 730 NA 678 739 ...\n",
      " $ Annual Income               : int  1167493 NA 2231892 806949 NA 896857 1184194 NA 2559110 1454735 ...\n",
      " $ Years in current job        : chr  \"8 years\" \"10+ years\" \"8 years\" \"3 years\" ...\n",
      " $ Home Ownership              : chr  \"Home Mortgage\" \"Home Mortgage\" \"Own Home\" \"Own Home\" ...\n",
      " $ Purpose                     : chr  \"Home Improvements\" \"Debt Consolidation\" \"Debt Consolidation\" \"Debt Consolidation\" ...\n",
      " $ Monthly Debt                : num  5215 33296 29201 8742 20640 ...\n",
      " $ Years of Credit History     : num  17.2 21.1 14.9 12 6.1 17.3 19.6 8.2 22.6 13.9 ...\n",
      " $ Months since last delinquent: int  NA 8 29 NA NA NA 10 8 33 NA ...\n",
      " $ Number of Open Accounts     : int  6 35 18 9 15 6 13 15 4 20 ...\n",
      " $ Number of Credit Problems   : int  1 0 1 0 0 0 1 0 0 0 ...\n",
      " $ Current Credit Balance      : int  228190 229976 297996 256329 253460 215308 122170 193306 437171 669560 ...\n",
      " $ Maximum Open Credit         : int  416746 850784 750090 386958 427174 272448 272052 864204 555038 1021460 ...\n",
      " $ Bankruptcies                : int  1 0 0 0 0 0 1 0 0 0 ...\n",
      " $ Tax Liens                   : int  0 0 0 0 0 0 0 0 0 0 ...\n",
      " - attr(*, \"spec\")=List of 2\n",
      "  ..$ cols   :List of 19\n",
      "  .. ..$ Loan ID                     : list()\n",
      "  .. .. ..- attr(*, \"class\")= chr  \"collector_character\" \"collector\"\n",
      "  .. ..$ Customer ID                 : list()\n",
      "  .. .. ..- attr(*, \"class\")= chr  \"collector_character\" \"collector\"\n",
      "  .. ..$ Loan Status                 : list()\n",
      "  .. .. ..- attr(*, \"class\")= chr  \"collector_character\" \"collector\"\n",
      "  .. ..$ Current Loan Amount         : list()\n",
      "  .. .. ..- attr(*, \"class\")= chr  \"collector_integer\" \"collector\"\n",
      "  .. ..$ Term                        : list()\n",
      "  .. .. ..- attr(*, \"class\")= chr  \"collector_character\" \"collector\"\n",
      "  .. ..$ Credit Score                : list()\n",
      "  .. .. ..- attr(*, \"class\")= chr  \"collector_integer\" \"collector\"\n",
      "  .. ..$ Annual Income               : list()\n",
      "  .. .. ..- attr(*, \"class\")= chr  \"collector_integer\" \"collector\"\n",
      "  .. ..$ Years in current job        : list()\n",
      "  .. .. ..- attr(*, \"class\")= chr  \"collector_character\" \"collector\"\n",
      "  .. ..$ Home Ownership              : list()\n",
      "  .. .. ..- attr(*, \"class\")= chr  \"collector_character\" \"collector\"\n",
      "  .. ..$ Purpose                     : list()\n",
      "  .. .. ..- attr(*, \"class\")= chr  \"collector_character\" \"collector\"\n",
      "  .. ..$ Monthly Debt                : list()\n",
      "  .. .. ..- attr(*, \"class\")= chr  \"collector_double\" \"collector\"\n",
      "  .. ..$ Years of Credit History     : list()\n",
      "  .. .. ..- attr(*, \"class\")= chr  \"collector_double\" \"collector\"\n",
      "  .. ..$ Months since last delinquent: list()\n",
      "  .. .. ..- attr(*, \"class\")= chr  \"collector_integer\" \"collector\"\n",
      "  .. ..$ Number of Open Accounts     : list()\n",
      "  .. .. ..- attr(*, \"class\")= chr  \"collector_integer\" \"collector\"\n",
      "  .. ..$ Number of Credit Problems   : list()\n",
      "  .. .. ..- attr(*, \"class\")= chr  \"collector_integer\" \"collector\"\n",
      "  .. ..$ Current Credit Balance      : list()\n",
      "  .. .. ..- attr(*, \"class\")= chr  \"collector_integer\" \"collector\"\n",
      "  .. ..$ Maximum Open Credit         : list()\n",
      "  .. .. ..- attr(*, \"class\")= chr  \"collector_integer\" \"collector\"\n",
      "  .. ..$ Bankruptcies                : list()\n",
      "  .. .. ..- attr(*, \"class\")= chr  \"collector_integer\" \"collector\"\n",
      "  .. ..$ Tax Liens                   : list()\n",
      "  .. .. ..- attr(*, \"class\")= chr  \"collector_integer\" \"collector\"\n",
      "  ..$ default: list()\n",
      "  .. ..- attr(*, \"class\")= chr  \"collector_guess\" \"collector\"\n",
      "  ..- attr(*, \"class\")= chr \"col_spec\"\n"
     ]
    }
   ],
   "source": [
    "df = as.data.frame(read_csv('credit_train.csv'))\n",
    "str(df)\n",
    "# Str() is a power function that gives a more complete overview of the the language"
   ]
  },
  {
   "cell_type": "code",
   "execution_count": 66,
   "metadata": {
    "ExecuteTime": {
     "end_time": "2019-04-22T21:11:54.442398Z",
     "start_time": "2019-04-22T21:10:29.747Z"
    }
   },
   "outputs": [],
   "source": [
    "# Remove NaN values - dropping those row\n",
    "df <- na.omit(df)"
   ]
  },
  {
   "cell_type": "code",
   "execution_count": 67,
   "metadata": {
    "ExecuteTime": {
     "end_time": "2019-04-22T21:11:54.578212Z",
     "start_time": "2019-04-22T21:10:29.757Z"
    }
   },
   "outputs": [
    {
     "data": {
      "text/plain": [
       "   Loan ID          Customer ID        Loan Status        Current Loan Amount\n",
       " Length:38010       Length:38010       Length:38010       Min.   :   21450   \n",
       " Class :character   Class :character   Class :character   1st Qu.:  185972   \n",
       " Mode  :character   Mode  :character   Mode  :character   Median :  322872   \n",
       "                                                          Mean   :13699292   \n",
       "                                                          3rd Qu.:  539792   \n",
       "                                                          Max.   :99999999   \n",
       "     Term            Credit Score  Annual Income      Years in current job\n",
       " Length:38010       Min.   : 585   Min.   :  111245   Length:38010        \n",
       " Class :character   1st Qu.: 702   1st Qu.:  914209   Class :character    \n",
       " Mode  :character   Median : 721   Median : 1245754   Mode  :character    \n",
       "                    Mean   :1061   Mean   : 1444221                       \n",
       "                    3rd Qu.: 738   3rd Qu.: 1725604                       \n",
       "                    Max.   :7510   Max.   :30838995                       \n",
       " Home Ownership       Purpose           Monthly Debt    Years of Credit History\n",
       " Length:38010       Length:38010       Min.   :     0   Min.   : 3.80          \n",
       " Class :character   Class :character   1st Qu.: 10948   1st Qu.:14.60          \n",
       " Mode  :character   Mode  :character   Median : 16946   Median :17.80          \n",
       "                                       Mean   : 19064   Mean   :19.26          \n",
       "                                       3rd Qu.: 24579   3rd Qu.:22.50          \n",
       "                                       Max.   :229058   Max.   :70.50          \n",
       " Months since last delinquent Number of Open Accounts Number of Credit Problems\n",
       " Min.   :  0.00               Min.   : 1.00           Min.   : 0.0000          \n",
       " 1st Qu.: 16.00               1st Qu.: 8.00           1st Qu.: 0.0000          \n",
       " Median : 32.00               Median :11.00           Median : 0.0000          \n",
       " Mean   : 34.96               Mean   :11.45           Mean   : 0.1903          \n",
       " 3rd Qu.: 51.00               3rd Qu.:14.00           3rd Qu.: 0.0000          \n",
       " Max.   :176.00               Max.   :48.00           Max.   :15.0000          \n",
       " Current Credit Balance Maximum Open Credit  Bankruptcies      Tax Liens       \n",
       " Min.   :      0        Min.   :        0   Min.   :0.0000   Min.   : 0.00000  \n",
       " 1st Qu.: 100206        1st Qu.:   246334   1st Qu.:0.0000   1st Qu.: 0.00000  \n",
       " Median : 186038        Median :   419386   Median :0.0000   Median : 0.00000  \n",
       " Mean   : 262297        Mean   :   663408   Mean   :0.1177   Mean   : 0.03949  \n",
       " 3rd Qu.: 326225        3rd Qu.:   700144   3rd Qu.:0.0000   3rd Qu.: 0.00000  \n",
       " Max.   :7350321        Max.   :798255370   Max.   :7.0000   Max.   :15.00000  "
      ]
     },
     "metadata": {},
     "output_type": "display_data"
    }
   ],
   "source": [
    "summary(df)"
   ]
  },
  {
   "cell_type": "code",
   "execution_count": 68,
   "metadata": {
    "ExecuteTime": {
     "end_time": "2019-04-22T21:11:54.650133Z",
     "start_time": "2019-04-22T21:10:29.764Z"
    }
   },
   "outputs": [],
   "source": [
    "df <- select(df,-`Loan ID`,-`Customer ID`) "
   ]
  },
  {
   "cell_type": "code",
   "execution_count": 69,
   "metadata": {
    "ExecuteTime": {
     "end_time": "2019-04-22T21:11:55.637626Z",
     "start_time": "2019-04-22T21:10:29.773Z"
    }
   },
   "outputs": [],
   "source": [
    "# Select only categorical fields/columns \n",
    "catg_df = select_if(df,is.character)\n",
    "\n",
    "# One hot code all categorical values \n",
    "dummy <- dummyVars(\"~ .\", data = catg_df,fullRank = TRUE, sep=\".\")\n",
    "dummy_df <- as.data.frame(predict(dummy, df))"
   ]
  },
  {
   "cell_type": "code",
   "execution_count": 70,
   "metadata": {
    "ExecuteTime": {
     "end_time": "2019-04-22T21:11:55.689526Z",
     "start_time": "2019-04-22T21:10:29.788Z"
    }
   },
   "outputs": [
    {
     "data": {
      "text/html": [
       "<ol class=list-inline>\n",
       "\t<li>38010</li>\n",
       "\t<li>31</li>\n",
       "</ol>\n"
      ],
      "text/latex": [
       "\\begin{enumerate*}\n",
       "\\item 38010\n",
       "\\item 31\n",
       "\\end{enumerate*}\n"
      ],
      "text/markdown": [
       "1. 38010\n",
       "2. 31\n",
       "\n",
       "\n"
      ],
      "text/plain": [
       "[1] 38010    31"
      ]
     },
     "metadata": {},
     "output_type": "display_data"
    }
   ],
   "source": [
    "dim(dummy_df)"
   ]
  },
  {
   "cell_type": "code",
   "execution_count": 71,
   "metadata": {
    "ExecuteTime": {
     "end_time": "2019-04-22T21:11:55.857299Z",
     "start_time": "2019-04-22T21:10:29.794Z"
    }
   },
   "outputs": [],
   "source": [
    "# Merge dummy_df back into dummy, while dropping the old categorical variables\\\n",
    "df <- select_if(df,Negate(is.character))\n",
    "df_new <- cbind(df,dummy_df)"
   ]
  },
  {
   "cell_type": "code",
   "execution_count": 72,
   "metadata": {
    "ExecuteTime": {
     "end_time": "2019-04-22T21:11:55.953171Z",
     "start_time": "2019-04-22T21:10:29.809Z"
    }
   },
   "outputs": [
    {
     "data": {
      "text/html": [
       "<table>\n",
       "<thead><tr><th></th><th scope=col>Current Loan Amount</th><th scope=col>Credit Score</th><th scope=col>Annual Income</th><th scope=col>Monthly Debt</th><th scope=col>Years of Credit History</th><th scope=col>Months since last delinquent</th><th scope=col>Number of Open Accounts</th><th scope=col>Number of Credit Problems</th><th scope=col>Current Credit Balance</th><th scope=col>Maximum Open Credit</th><th scope=col>...</th><th scope=col>Purposemajor_purchase</th><th scope=col>PurposeMedical Bills</th><th scope=col>Purposemoving</th><th scope=col>Purposeother</th><th scope=col>PurposeOther</th><th scope=col>Purposerenewable_energy</th><th scope=col>Purposesmall_business</th><th scope=col>PurposeTake a Trip</th><th scope=col>Purposevacation</th><th scope=col>Purposewedding</th></tr></thead>\n",
       "<tbody>\n",
       "\t<tr><th scope=row>3</th><td>99999999</td><td>741     </td><td>2231892 </td><td>29200.53</td><td>14.9    </td><td>29      </td><td>18      </td><td>1       </td><td>297996  </td><td>750090  </td><td>...     </td><td>0       </td><td>0       </td><td>0       </td><td>0       </td><td>0       </td><td>0       </td><td>0       </td><td>0       </td><td>0       </td><td>0       </td></tr>\n",
       "\t<tr><th scope=row>7</th><td>  217646</td><td>730     </td><td>1184194 </td><td>10855.08</td><td>19.6    </td><td>10      </td><td>13      </td><td>1       </td><td>122170  </td><td>272052  </td><td>...     </td><td>0       </td><td>0       </td><td>0       </td><td>0       </td><td>0       </td><td>0       </td><td>0       </td><td>0       </td><td>0       </td><td>0       </td></tr>\n",
       "</tbody>\n",
       "</table>\n"
      ],
      "text/latex": [
       "\\begin{tabular}{r|lllllllllllllllllllllllllllllllllllllllllll}\n",
       "  & Current Loan Amount & Credit Score & Annual Income & Monthly Debt & Years of Credit History & Months since last delinquent & Number of Open Accounts & Number of Credit Problems & Current Credit Balance & Maximum Open Credit & ... & Purposemajor\\_purchase & PurposeMedical Bills & Purposemoving & Purposeother & PurposeOther & Purposerenewable\\_energy & Purposesmall\\_business & PurposeTake a Trip & Purposevacation & Purposewedding\\\\\n",
       "\\hline\n",
       "\t3 & 99999999 & 741      & 2231892  & 29200.53 & 14.9     & 29       & 18       & 1        & 297996   & 750090   & ...      & 0        & 0        & 0        & 0        & 0        & 0        & 0        & 0        & 0        & 0       \\\\\n",
       "\t7 &   217646 & 730      & 1184194  & 10855.08 & 19.6     & 10       & 13       & 1        & 122170   & 272052   & ...      & 0        & 0        & 0        & 0        & 0        & 0        & 0        & 0        & 0        & 0       \\\\\n",
       "\\end{tabular}\n"
      ],
      "text/markdown": [
       "\n",
       "| <!--/--> | Current Loan Amount | Credit Score | Annual Income | Monthly Debt | Years of Credit History | Months since last delinquent | Number of Open Accounts | Number of Credit Problems | Current Credit Balance | Maximum Open Credit | ... | Purposemajor_purchase | PurposeMedical Bills | Purposemoving | Purposeother | PurposeOther | Purposerenewable_energy | Purposesmall_business | PurposeTake a Trip | Purposevacation | Purposewedding | \n",
       "|---|---|\n",
       "| 3 | 99999999 | 741      | 2231892  | 29200.53 | 14.9     | 29       | 18       | 1        | 297996   | 750090   | ...      | 0        | 0        | 0        | 0        | 0        | 0        | 0        | 0        | 0        | 0        | \n",
       "| 7 |   217646 | 730      | 1184194  | 10855.08 | 19.6     | 10       | 13       | 1        | 122170   | 272052   | ...      | 0        | 0        | 0        | 0        | 0        | 0        | 0        | 0        | 0        | 0        | \n",
       "\n",
       "\n"
      ],
      "text/plain": [
       "  Current Loan Amount Credit Score Annual Income Monthly Debt\n",
       "3 99999999            741          2231892       29200.53    \n",
       "7   217646            730          1184194       10855.08    \n",
       "  Years of Credit History Months since last delinquent Number of Open Accounts\n",
       "3 14.9                    29                           18                     \n",
       "7 19.6                    10                           13                     \n",
       "  Number of Credit Problems Current Credit Balance Maximum Open Credit ...\n",
       "3 1                         297996                 750090              ...\n",
       "7 1                         122170                 272052              ...\n",
       "  Purposemajor_purchase PurposeMedical Bills Purposemoving Purposeother\n",
       "3 0                     0                    0             0           \n",
       "7 0                     0                    0             0           \n",
       "  PurposeOther Purposerenewable_energy Purposesmall_business PurposeTake a Trip\n",
       "3 0            0                       0                     0                 \n",
       "7 0            0                       0                     0                 \n",
       "  Purposevacation Purposewedding\n",
       "3 0               0             \n",
       "7 0               0             "
      ]
     },
     "metadata": {},
     "output_type": "display_data"
    }
   ],
   "source": [
    "head(df_new,2)"
   ]
  },
  {
   "cell_type": "code",
   "execution_count": 73,
   "metadata": {
    "ExecuteTime": {
     "end_time": "2019-04-22T21:11:56.029492Z",
     "start_time": "2019-04-22T21:10:29.817Z"
    }
   },
   "outputs": [],
   "source": [
    "# colnames(df_new)"
   ]
  },
  {
   "cell_type": "code",
   "execution_count": 74,
   "metadata": {
    "ExecuteTime": {
     "end_time": "2019-04-22T21:11:56.105367Z",
     "start_time": "2019-04-22T21:10:29.826Z"
    }
   },
   "outputs": [],
   "source": [
    "colnames(df_new) <- gsub(\"`\", \"\", colnames(df_new))\n",
    "colnames(df_new) <- gsub(\" \", \".\", colnames(df_new))\n",
    "# # In R, use \\\\ to grab special character"
   ]
  },
  {
   "cell_type": "code",
   "execution_count": 75,
   "metadata": {
    "ExecuteTime": {
     "end_time": "2019-04-22T21:11:56.173277Z",
     "start_time": "2019-04-22T21:10:29.838Z"
    }
   },
   "outputs": [
    {
     "data": {
      "text/html": [
       "<ol class=list-inline>\n",
       "\t<li>'Current.Loan.Amount'</li>\n",
       "\t<li>'Credit.Score'</li>\n",
       "\t<li>'Annual.Income'</li>\n",
       "\t<li>'Monthly.Debt'</li>\n",
       "\t<li>'Years.of.Credit.History'</li>\n",
       "\t<li>'Months.since.last.delinquent'</li>\n",
       "\t<li>'Number.of.Open.Accounts'</li>\n",
       "\t<li>'Number.of.Credit.Problems'</li>\n",
       "\t<li>'Current.Credit.Balance'</li>\n",
       "\t<li>'Maximum.Open.Credit'</li>\n",
       "\t<li>'Bankruptcies'</li>\n",
       "\t<li>'Tax.Liens'</li>\n",
       "\t<li>'Loan.StatusFully.Paid'</li>\n",
       "\t<li>'TermShort.Term'</li>\n",
       "\t<li>'Years.in.current.job1.year'</li>\n",
       "\t<li>'Years.in.current.job10+.years'</li>\n",
       "\t<li>'Years.in.current.job2.years'</li>\n",
       "\t<li>'Years.in.current.job3.years'</li>\n",
       "\t<li>'Years.in.current.job4.years'</li>\n",
       "\t<li>'Years.in.current.job5.years'</li>\n",
       "\t<li>'Years.in.current.job6.years'</li>\n",
       "\t<li>'Years.in.current.job7.years'</li>\n",
       "\t<li>'Years.in.current.job8.years'</li>\n",
       "\t<li>'Years.in.current.job9.years'</li>\n",
       "\t<li>'Years.in.current.jobn/a'</li>\n",
       "\t<li>'Home.OwnershipHome.Mortgage'</li>\n",
       "\t<li>'Home.OwnershipOwn.Home'</li>\n",
       "\t<li>'Home.OwnershipRent'</li>\n",
       "\t<li>'PurposeBuy.a.Car'</li>\n",
       "\t<li>'PurposeBuy.House'</li>\n",
       "\t<li>'PurposeDebt.Consolidation'</li>\n",
       "\t<li>'PurposeEducational.Expenses'</li>\n",
       "\t<li>'PurposeHome.Improvements'</li>\n",
       "\t<li>'Purposemajor_purchase'</li>\n",
       "\t<li>'PurposeMedical.Bills'</li>\n",
       "\t<li>'Purposemoving'</li>\n",
       "\t<li>'Purposeother'</li>\n",
       "\t<li>'PurposeOther'</li>\n",
       "\t<li>'Purposerenewable_energy'</li>\n",
       "\t<li>'Purposesmall_business'</li>\n",
       "\t<li>'PurposeTake.a.Trip'</li>\n",
       "\t<li>'Purposevacation'</li>\n",
       "\t<li>'Purposewedding'</li>\n",
       "</ol>\n"
      ],
      "text/latex": [
       "\\begin{enumerate*}\n",
       "\\item 'Current.Loan.Amount'\n",
       "\\item 'Credit.Score'\n",
       "\\item 'Annual.Income'\n",
       "\\item 'Monthly.Debt'\n",
       "\\item 'Years.of.Credit.History'\n",
       "\\item 'Months.since.last.delinquent'\n",
       "\\item 'Number.of.Open.Accounts'\n",
       "\\item 'Number.of.Credit.Problems'\n",
       "\\item 'Current.Credit.Balance'\n",
       "\\item 'Maximum.Open.Credit'\n",
       "\\item 'Bankruptcies'\n",
       "\\item 'Tax.Liens'\n",
       "\\item 'Loan.StatusFully.Paid'\n",
       "\\item 'TermShort.Term'\n",
       "\\item 'Years.in.current.job1.year'\n",
       "\\item 'Years.in.current.job10+.years'\n",
       "\\item 'Years.in.current.job2.years'\n",
       "\\item 'Years.in.current.job3.years'\n",
       "\\item 'Years.in.current.job4.years'\n",
       "\\item 'Years.in.current.job5.years'\n",
       "\\item 'Years.in.current.job6.years'\n",
       "\\item 'Years.in.current.job7.years'\n",
       "\\item 'Years.in.current.job8.years'\n",
       "\\item 'Years.in.current.job9.years'\n",
       "\\item 'Years.in.current.jobn/a'\n",
       "\\item 'Home.OwnershipHome.Mortgage'\n",
       "\\item 'Home.OwnershipOwn.Home'\n",
       "\\item 'Home.OwnershipRent'\n",
       "\\item 'PurposeBuy.a.Car'\n",
       "\\item 'PurposeBuy.House'\n",
       "\\item 'PurposeDebt.Consolidation'\n",
       "\\item 'PurposeEducational.Expenses'\n",
       "\\item 'PurposeHome.Improvements'\n",
       "\\item 'Purposemajor\\_purchase'\n",
       "\\item 'PurposeMedical.Bills'\n",
       "\\item 'Purposemoving'\n",
       "\\item 'Purposeother'\n",
       "\\item 'PurposeOther'\n",
       "\\item 'Purposerenewable\\_energy'\n",
       "\\item 'Purposesmall\\_business'\n",
       "\\item 'PurposeTake.a.Trip'\n",
       "\\item 'Purposevacation'\n",
       "\\item 'Purposewedding'\n",
       "\\end{enumerate*}\n"
      ],
      "text/markdown": [
       "1. 'Current.Loan.Amount'\n",
       "2. 'Credit.Score'\n",
       "3. 'Annual.Income'\n",
       "4. 'Monthly.Debt'\n",
       "5. 'Years.of.Credit.History'\n",
       "6. 'Months.since.last.delinquent'\n",
       "7. 'Number.of.Open.Accounts'\n",
       "8. 'Number.of.Credit.Problems'\n",
       "9. 'Current.Credit.Balance'\n",
       "10. 'Maximum.Open.Credit'\n",
       "11. 'Bankruptcies'\n",
       "12. 'Tax.Liens'\n",
       "13. 'Loan.StatusFully.Paid'\n",
       "14. 'TermShort.Term'\n",
       "15. 'Years.in.current.job1.year'\n",
       "16. 'Years.in.current.job10+.years'\n",
       "17. 'Years.in.current.job2.years'\n",
       "18. 'Years.in.current.job3.years'\n",
       "19. 'Years.in.current.job4.years'\n",
       "20. 'Years.in.current.job5.years'\n",
       "21. 'Years.in.current.job6.years'\n",
       "22. 'Years.in.current.job7.years'\n",
       "23. 'Years.in.current.job8.years'\n",
       "24. 'Years.in.current.job9.years'\n",
       "25. 'Years.in.current.jobn/a'\n",
       "26. 'Home.OwnershipHome.Mortgage'\n",
       "27. 'Home.OwnershipOwn.Home'\n",
       "28. 'Home.OwnershipRent'\n",
       "29. 'PurposeBuy.a.Car'\n",
       "30. 'PurposeBuy.House'\n",
       "31. 'PurposeDebt.Consolidation'\n",
       "32. 'PurposeEducational.Expenses'\n",
       "33. 'PurposeHome.Improvements'\n",
       "34. 'Purposemajor_purchase'\n",
       "35. 'PurposeMedical.Bills'\n",
       "36. 'Purposemoving'\n",
       "37. 'Purposeother'\n",
       "38. 'PurposeOther'\n",
       "39. 'Purposerenewable_energy'\n",
       "40. 'Purposesmall_business'\n",
       "41. 'PurposeTake.a.Trip'\n",
       "42. 'Purposevacation'\n",
       "43. 'Purposewedding'\n",
       "\n",
       "\n"
      ],
      "text/plain": [
       " [1] \"Current.Loan.Amount\"           \"Credit.Score\"                 \n",
       " [3] \"Annual.Income\"                 \"Monthly.Debt\"                 \n",
       " [5] \"Years.of.Credit.History\"       \"Months.since.last.delinquent\" \n",
       " [7] \"Number.of.Open.Accounts\"       \"Number.of.Credit.Problems\"    \n",
       " [9] \"Current.Credit.Balance\"        \"Maximum.Open.Credit\"          \n",
       "[11] \"Bankruptcies\"                  \"Tax.Liens\"                    \n",
       "[13] \"Loan.StatusFully.Paid\"         \"TermShort.Term\"               \n",
       "[15] \"Years.in.current.job1.year\"    \"Years.in.current.job10+.years\"\n",
       "[17] \"Years.in.current.job2.years\"   \"Years.in.current.job3.years\"  \n",
       "[19] \"Years.in.current.job4.years\"   \"Years.in.current.job5.years\"  \n",
       "[21] \"Years.in.current.job6.years\"   \"Years.in.current.job7.years\"  \n",
       "[23] \"Years.in.current.job8.years\"   \"Years.in.current.job9.years\"  \n",
       "[25] \"Years.in.current.jobn/a\"       \"Home.OwnershipHome.Mortgage\"  \n",
       "[27] \"Home.OwnershipOwn.Home\"        \"Home.OwnershipRent\"           \n",
       "[29] \"PurposeBuy.a.Car\"              \"PurposeBuy.House\"             \n",
       "[31] \"PurposeDebt.Consolidation\"     \"PurposeEducational.Expenses\"  \n",
       "[33] \"PurposeHome.Improvements\"      \"Purposemajor_purchase\"        \n",
       "[35] \"PurposeMedical.Bills\"          \"Purposemoving\"                \n",
       "[37] \"Purposeother\"                  \"PurposeOther\"                 \n",
       "[39] \"Purposerenewable_energy\"       \"Purposesmall_business\"        \n",
       "[41] \"PurposeTake.a.Trip\"            \"Purposevacation\"              \n",
       "[43] \"Purposewedding\"               "
      ]
     },
     "metadata": {},
     "output_type": "display_data"
    }
   ],
   "source": [
    "# length(colnames(df_new))\n",
    "colnames(df_new)"
   ]
  },
  {
   "cell_type": "markdown",
   "metadata": {},
   "source": [
    "**Key distinction:**\n",
    "\n",
    "'Loan.StatusFully.Paid' is automatically kept as the one field.\n",
    "\n",
    "R's dummyVars has removed the 'ChargedOff' option (the negative) from the model.\n",
    "\n",
    "With Python, one must remove the ChargedOff as it can mess with the model. "
   ]
  },
  {
   "cell_type": "code",
   "execution_count": 76,
   "metadata": {
    "ExecuteTime": {
     "end_time": "2019-04-22T21:11:56.273143Z",
     "start_time": "2019-04-22T21:10:29.846Z"
    }
   },
   "outputs": [],
   "source": [
    "set.seed(100)\n",
    "train <- sample(nrow(df_new), 0.75*nrow(df_new), replace = FALSE)\n",
    "TrainSet <- df_new[train,]\n",
    "TestSet <- df_new[-train,]"
   ]
  },
  {
   "cell_type": "code",
   "execution_count": 77,
   "metadata": {
    "ExecuteTime": {
     "end_time": "2019-04-22T21:11:56.333063Z",
     "start_time": "2019-04-22T21:10:29.857Z"
    }
   },
   "outputs": [],
   "source": [
    "# cat('Training Set Shape:', dim(TrainSet),\"\\n\")\n",
    "# cat('Testing Set Shape:',dim(TestSet))"
   ]
  },
  {
   "cell_type": "code",
   "execution_count": 78,
   "metadata": {
    "ExecuteTime": {
     "end_time": "2019-04-22T21:11:56.420946Z",
     "start_time": "2019-04-22T21:10:29.866Z"
    }
   },
   "outputs": [],
   "source": [
    "train_labels <- as.factor(TrainSet$Loan.StatusFully.Paid)\n",
    "train_features <- select(TrainSet, -Loan.StatusFully.Paid)"
   ]
  },
  {
   "cell_type": "code",
   "execution_count": 79,
   "metadata": {
    "ExecuteTime": {
     "end_time": "2019-04-22T21:11:56.484862Z",
     "start_time": "2019-04-22T21:10:29.871Z"
    }
   },
   "outputs": [],
   "source": [
    "test_labels <- as.factor(TestSet$Loan.StatusFully.Paid)\n",
    "test_features <- select(TestSet, -Loan.StatusFully.Paid)"
   ]
  },
  {
   "cell_type": "code",
   "execution_count": 80,
   "metadata": {
    "ExecuteTime": {
     "end_time": "2019-04-22T21:14:24.028174Z",
     "start_time": "2019-04-22T21:10:29.876Z"
    },
    "scrolled": true
   },
   "outputs": [],
   "source": [
    "random_forest = rf <- randomForest(train_features,train_labels, ntree=200, importance=TRUE)\n"
   ]
  },
  {
   "cell_type": "code",
   "execution_count": 81,
   "metadata": {
    "ExecuteTime": {
     "end_time": "2019-04-22T21:14:24.310980Z",
     "start_time": "2019-04-22T21:10:29.886Z"
    }
   },
   "outputs": [
    {
     "name": "stdout",
     "output_type": "stream",
     "text": [
      "\n",
      "Call:\n",
      " randomForest(x = train_features, y = train_labels, ntree = 200,      importance = TRUE) \n",
      "               Type of random forest: classification\n",
      "                     Number of trees: 200\n",
      "No. of variables tried at each split: 6\n",
      "\n",
      "        OOB estimate of  error rate: 15.26%\n",
      "Confusion matrix:\n",
      "     0     1 class.error\n",
      "0 1623  4298 0.725890897\n",
      "1   53 22533 0.002346586\n"
     ]
    }
   ],
   "source": [
    "print(rf)"
   ]
  },
  {
   "cell_type": "code",
   "execution_count": 82,
   "metadata": {
    "ExecuteTime": {
     "end_time": "2019-04-22T21:14:24.382883Z",
     "start_time": "2019-04-22T21:10:29.892Z"
    },
    "scrolled": true
   },
   "outputs": [],
   "source": [
    "# plot(rf)\n",
    "# # Have to find a way to do this in Python"
   ]
  },
  {
   "cell_type": "code",
   "execution_count": 83,
   "metadata": {
    "ExecuteTime": {
     "end_time": "2019-04-22T21:14:26.143111Z",
     "start_time": "2019-04-22T21:10:29.904Z"
    }
   },
   "outputs": [
    {
     "data": {
      "text/plain": [
       "         \n",
       "predTrain     0     1\n",
       "        0  5862     0\n",
       "        1    59 22586"
      ]
     },
     "metadata": {},
     "output_type": "display_data"
    }
   ],
   "source": [
    "# Predicting on train set\n",
    "predTrain <- predict(rf, TrainSet, type = \"class\")\n",
    "# Checking classification accuracy\n",
    "table(predTrain, TrainSet$Loan.StatusFully.Paid)  "
   ]
  },
  {
   "cell_type": "code",
   "execution_count": 84,
   "metadata": {
    "ExecuteTime": {
     "end_time": "2019-04-22T21:14:26.882124Z",
     "start_time": "2019-04-22T21:10:29.909Z"
    },
    "scrolled": false
   },
   "outputs": [
    {
     "name": "stdout",
     "output_type": "stream",
     "text": [
      "[1] \"The accuracy is: \"\n"
     ]
    },
    {
     "data": {
      "text/html": [
       "0.846890455645586"
      ],
      "text/latex": [
       "0.846890455645586"
      ],
      "text/markdown": [
       "0.846890455645586"
      ],
      "text/plain": [
       "[1] 0.8468905"
      ]
     },
     "metadata": {},
     "output_type": "display_data"
    },
    {
     "data": {
      "text/plain": [
       "         test_labels\n",
       "predValid    0    1\n",
       "        0  523    8\n",
       "        1 1447 7525"
      ]
     },
     "metadata": {},
     "output_type": "display_data"
    }
   ],
   "source": [
    "# Checking classification accuracy\n",
    "predValid <- predict(rf, test_features, type = \"class\")\n",
    "print(\"The accuracy is: \")\n",
    "mean(predValid == test_labels)                \n",
    "table(predValid,test_labels)"
   ]
  },
  {
   "cell_type": "code",
   "execution_count": 85,
   "metadata": {
    "ExecuteTime": {
     "end_time": "2019-04-22T21:14:27.073868Z",
     "start_time": "2019-04-22T21:10:29.917Z"
    },
    "scrolled": false
   },
   "outputs": [
    {
     "data": {
      "image/png": "[encoded data removed]",
      "text/plain": [
       "plot without title"
      ]
     },
     "metadata": {},
     "output_type": "display_data"
    }
   ],
   "source": [
    "# importance(rf)  \n",
    "varImpPlot(rf)"
   ]
  }
 ],
 "metadata": {
  "kernelspec": {
   "display_name": "R",
   "language": "R",
   "name": "ir"
  },
  "language_info": {
   "codemirror_mode": "r",
   "file_extension": ".r",
   "mimetype": "text/x-r-source",
   "name": "R",
   "pygments_lexer": "r",
   "version": "3.5.1"
  }
 },
 "nbformat": 4,
 "nbformat_minor": 2
}
