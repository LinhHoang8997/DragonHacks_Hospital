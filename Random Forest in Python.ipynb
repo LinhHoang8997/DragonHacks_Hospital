{
 "cells": [
  {
   "cell_type": "code",
   "execution_count": 1,
   "metadata": {
    "ExecuteTime": {
     "end_time": "2019-04-22T21:10:16.777577Z",
     "start_time": "2019-04-22T21:10:11.580697Z"
    }
   },
   "outputs": [],
   "source": [
    "import pandas as pd\n",
    "import time\n",
    "from sklearn.ensemble import RandomForestRegressor"
   ]
  },
  {
   "cell_type": "code",
   "execution_count": 2,
   "metadata": {
    "ExecuteTime": {
     "end_time": "2019-04-22T21:10:17.416754Z",
     "start_time": "2019-04-22T21:10:16.781573Z"
    }
   },
   "outputs": [],
   "source": [
    "df = pd.read_csv(\"credit_train.csv\")"
   ]
  },
  {
   "cell_type": "code",
   "execution_count": 3,
   "metadata": {
    "ExecuteTime": {
     "end_time": "2019-04-22T21:10:17.536572Z",
     "start_time": "2019-04-22T21:10:17.416754Z"
    }
   },
   "outputs": [
    {
     "name": "stdout",
     "output_type": "stream",
     "text": [
      "<class 'pandas.core.frame.DataFrame'>\n",
      "RangeIndex: 100514 entries, 0 to 100513\n",
      "Data columns (total 19 columns):\n",
      "Loan ID                         100000 non-null object\n",
      "Customer ID                     100000 non-null object\n",
      "Loan Status                     100000 non-null object\n",
      "Current Loan Amount             100000 non-null float64\n",
      "Term                            100000 non-null object\n",
      "Credit Score                    80846 non-null float64\n",
      "Annual Income                   80846 non-null float64\n",
      "Years in current job            95778 non-null object\n",
      "Home Ownership                  100000 non-null object\n",
      "Purpose                         100000 non-null object\n",
      "Monthly Debt                    100000 non-null float64\n",
      "Years of Credit History         100000 non-null float64\n",
      "Months since last delinquent    46859 non-null float64\n",
      "Number of Open Accounts         100000 non-null float64\n",
      "Number of Credit Problems       100000 non-null float64\n",
      "Current Credit Balance          100000 non-null float64\n",
      "Maximum Open Credit             99998 non-null float64\n",
      "Bankruptcies                    99796 non-null float64\n",
      "Tax Liens                       99990 non-null float64\n",
      "dtypes: float64(12), object(7)\n",
      "memory usage: 14.6+ MB\n"
     ]
    }
   ],
   "source": [
    "df.info()\n",
    "# Without clear instructions, Python will classify non-numeric columns as objects, limiting"
   ]
  },
  {
   "cell_type": "code",
   "execution_count": 4,
   "metadata": {
    "ExecuteTime": {
     "end_time": "2019-04-22T21:10:17.636434Z",
     "start_time": "2019-04-22T21:10:17.540557Z"
    }
   },
   "outputs": [
    {
     "data": {
      "text/html": [
       "<div>\n",
       "<style scoped>\n",
       "    .dataframe tbody tr th:only-of-type {\n",
       "        vertical-align: middle;\n",
       "    }\n",
       "\n",
       "    .dataframe tbody tr th {\n",
       "        vertical-align: top;\n",
       "    }\n",
       "\n",
       "    .dataframe thead th {\n",
       "        text-align: right;\n",
       "    }\n",
       "</style>\n",
       "<table border=\"1\" class=\"dataframe\">\n",
       "  <thead>\n",
       "    <tr style=\"text-align: right;\">\n",
       "      <th></th>\n",
       "      <th>Loan ID</th>\n",
       "      <th>Customer ID</th>\n",
       "      <th>Loan Status</th>\n",
       "      <th>Current Loan Amount</th>\n",
       "      <th>Term</th>\n",
       "      <th>Credit Score</th>\n",
       "      <th>Annual Income</th>\n",
       "      <th>Years in current job</th>\n",
       "      <th>Home Ownership</th>\n",
       "      <th>Purpose</th>\n",
       "      <th>Monthly Debt</th>\n",
       "      <th>Years of Credit History</th>\n",
       "      <th>Months since last delinquent</th>\n",
       "      <th>Number of Open Accounts</th>\n",
       "      <th>Number of Credit Problems</th>\n",
       "      <th>Current Credit Balance</th>\n",
       "      <th>Maximum Open Credit</th>\n",
       "      <th>Bankruptcies</th>\n",
       "      <th>Tax Liens</th>\n",
       "    </tr>\n",
       "  </thead>\n",
       "  <tbody>\n",
       "    <tr>\n",
       "      <th>0</th>\n",
       "      <td>14dd8831-6af5-400b-83ec-68e61888a048</td>\n",
       "      <td>981165ec-3274-42f5-a3b4-d104041a9ca9</td>\n",
       "      <td>Fully Paid</td>\n",
       "      <td>445412.0</td>\n",
       "      <td>Short Term</td>\n",
       "      <td>709.0</td>\n",
       "      <td>1167493.0</td>\n",
       "      <td>8 years</td>\n",
       "      <td>Home Mortgage</td>\n",
       "      <td>Home Improvements</td>\n",
       "      <td>5214.74</td>\n",
       "      <td>17.2</td>\n",
       "      <td>NaN</td>\n",
       "      <td>6.0</td>\n",
       "      <td>1.0</td>\n",
       "      <td>228190.0</td>\n",
       "      <td>416746.0</td>\n",
       "      <td>1.0</td>\n",
       "      <td>0.0</td>\n",
       "    </tr>\n",
       "    <tr>\n",
       "      <th>1</th>\n",
       "      <td>4771cc26-131a-45db-b5aa-537ea4ba5342</td>\n",
       "      <td>2de017a3-2e01-49cb-a581-08169e83be29</td>\n",
       "      <td>Fully Paid</td>\n",
       "      <td>262328.0</td>\n",
       "      <td>Short Term</td>\n",
       "      <td>NaN</td>\n",
       "      <td>NaN</td>\n",
       "      <td>10+ years</td>\n",
       "      <td>Home Mortgage</td>\n",
       "      <td>Debt Consolidation</td>\n",
       "      <td>33295.98</td>\n",
       "      <td>21.1</td>\n",
       "      <td>8.0</td>\n",
       "      <td>35.0</td>\n",
       "      <td>0.0</td>\n",
       "      <td>229976.0</td>\n",
       "      <td>850784.0</td>\n",
       "      <td>0.0</td>\n",
       "      <td>0.0</td>\n",
       "    </tr>\n",
       "    <tr>\n",
       "      <th>2</th>\n",
       "      <td>4eed4e6a-aa2f-4c91-8651-ce984ee8fb26</td>\n",
       "      <td>5efb2b2b-bf11-4dfd-a572-3761a2694725</td>\n",
       "      <td>Fully Paid</td>\n",
       "      <td>99999999.0</td>\n",
       "      <td>Short Term</td>\n",
       "      <td>741.0</td>\n",
       "      <td>2231892.0</td>\n",
       "      <td>8 years</td>\n",
       "      <td>Own Home</td>\n",
       "      <td>Debt Consolidation</td>\n",
       "      <td>29200.53</td>\n",
       "      <td>14.9</td>\n",
       "      <td>29.0</td>\n",
       "      <td>18.0</td>\n",
       "      <td>1.0</td>\n",
       "      <td>297996.0</td>\n",
       "      <td>750090.0</td>\n",
       "      <td>0.0</td>\n",
       "      <td>0.0</td>\n",
       "    </tr>\n",
       "  </tbody>\n",
       "</table>\n",
       "</div>"
      ],
      "text/plain": [
       "                                Loan ID                           Customer ID  \\\n",
       "0  14dd8831-6af5-400b-83ec-68e61888a048  981165ec-3274-42f5-a3b4-d104041a9ca9   \n",
       "1  4771cc26-131a-45db-b5aa-537ea4ba5342  2de017a3-2e01-49cb-a581-08169e83be29   \n",
       "2  4eed4e6a-aa2f-4c91-8651-ce984ee8fb26  5efb2b2b-bf11-4dfd-a572-3761a2694725   \n",
       "\n",
       "  Loan Status  Current Loan Amount        Term  Credit Score  Annual Income  \\\n",
       "0  Fully Paid             445412.0  Short Term         709.0      1167493.0   \n",
       "1  Fully Paid             262328.0  Short Term           NaN            NaN   \n",
       "2  Fully Paid           99999999.0  Short Term         741.0      2231892.0   \n",
       "\n",
       "  Years in current job Home Ownership             Purpose  Monthly Debt  \\\n",
       "0              8 years  Home Mortgage   Home Improvements       5214.74   \n",
       "1            10+ years  Home Mortgage  Debt Consolidation      33295.98   \n",
       "2              8 years       Own Home  Debt Consolidation      29200.53   \n",
       "\n",
       "   Years of Credit History  Months since last delinquent  \\\n",
       "0                     17.2                           NaN   \n",
       "1                     21.1                           8.0   \n",
       "2                     14.9                          29.0   \n",
       "\n",
       "   Number of Open Accounts  Number of Credit Problems  Current Credit Balance  \\\n",
       "0                      6.0                        1.0                228190.0   \n",
       "1                     35.0                        0.0                229976.0   \n",
       "2                     18.0                        1.0                297996.0   \n",
       "\n",
       "   Maximum Open Credit  Bankruptcies  Tax Liens  \n",
       "0             416746.0           1.0        0.0  \n",
       "1             850784.0           0.0        0.0  \n",
       "2             750090.0           0.0        0.0  "
      ]
     },
     "execution_count": 4,
     "metadata": {},
     "output_type": "execute_result"
    }
   ],
   "source": [
    "df.head(3)"
   ]
  },
  {
   "cell_type": "code",
   "execution_count": 5,
   "metadata": {
    "ExecuteTime": {
     "end_time": "2019-04-22T21:10:17.796219Z",
     "start_time": "2019-04-22T21:10:17.644419Z"
    }
   },
   "outputs": [],
   "source": [
    "# Remove NaN values\n",
    "df = df.dropna(how='any')"
   ]
  },
  {
   "cell_type": "code",
   "execution_count": 6,
   "metadata": {
    "ExecuteTime": {
     "end_time": "2019-04-22T21:10:17.828174Z",
     "start_time": "2019-04-22T21:10:17.800224Z"
    }
   },
   "outputs": [],
   "source": [
    "# Exclude IDs, for they are not important to the model\n",
    "df = df.drop(['Customer ID','Loan ID'], axis=1)"
   ]
  },
  {
   "cell_type": "code",
   "execution_count": null,
   "metadata": {
    "ExecuteTime": {
     "end_time": "2019-04-22T15:56:01.057225Z",
     "start_time": "2019-04-22T15:56:01.044259Z"
    }
   },
   "outputs": [],
   "source": []
  },
  {
   "cell_type": "code",
   "execution_count": 7,
   "metadata": {
    "ExecuteTime": {
     "end_time": "2019-04-22T21:10:17.952009Z",
     "start_time": "2019-04-22T21:10:17.832167Z"
    }
   },
   "outputs": [],
   "source": [
    "cat_var = []\n",
    "for i in df.columns:\n",
    "    if df[i].dtype == \"object\": \n",
    "        cat_var.append(i)\n",
    "\n",
    "# Use get_dummies to code categorical variables into 0s and 1s.\n",
    "dummies_cat_features = pd.get_dummies(df[cat_var])\n",
    "\n",
    "# Remove all categorical variables\n",
    "numeric_features = df.drop(cat_var, axis = 1)"
   ]
  },
  {
   "cell_type": "code",
   "execution_count": 8,
   "metadata": {
    "ExecuteTime": {
     "end_time": "2019-04-22T21:10:17.975976Z",
     "start_time": "2019-04-22T21:10:17.960000Z"
    }
   },
   "outputs": [],
   "source": [
    "df_new = pd.concat([numeric_features,dummies_cat_features], axis=1)"
   ]
  },
  {
   "cell_type": "code",
   "execution_count": 9,
   "metadata": {
    "ExecuteTime": {
     "end_time": "2019-04-22T21:10:18.076426Z",
     "start_time": "2019-04-22T21:10:17.979972Z"
    }
   },
   "outputs": [
    {
     "name": "stdout",
     "output_type": "stream",
     "text": [
      "<class 'pandas.core.frame.DataFrame'>\n",
      "Int64Index: 36423 entries, 2 to 99997\n",
      "Data columns (total 47 columns):\n",
      "Current Loan Amount               36423 non-null float64\n",
      "Credit Score                      36423 non-null float64\n",
      "Annual Income                     36423 non-null float64\n",
      "Monthly Debt                      36423 non-null float64\n",
      "Years of Credit History           36423 non-null float64\n",
      "Months since last delinquent      36423 non-null float64\n",
      "Number of Open Accounts           36423 non-null float64\n",
      "Number of Credit Problems         36423 non-null float64\n",
      "Current Credit Balance            36423 non-null float64\n",
      "Maximum Open Credit               36423 non-null float64\n",
      "Bankruptcies                      36423 non-null float64\n",
      "Tax Liens                         36423 non-null float64\n",
      "Loan Status_Charged Off           36423 non-null uint8\n",
      "Loan Status_Fully Paid            36423 non-null uint8\n",
      "Term_Long Term                    36423 non-null uint8\n",
      "Term_Short Term                   36423 non-null uint8\n",
      "Years in current job_1 year       36423 non-null uint8\n",
      "Years in current job_10+ years    36423 non-null uint8\n",
      "Years in current job_2 years      36423 non-null uint8\n",
      "Years in current job_3 years      36423 non-null uint8\n",
      "Years in current job_4 years      36423 non-null uint8\n",
      "Years in current job_5 years      36423 non-null uint8\n",
      "Years in current job_6 years      36423 non-null uint8\n",
      "Years in current job_7 years      36423 non-null uint8\n",
      "Years in current job_8 years      36423 non-null uint8\n",
      "Years in current job_9 years      36423 non-null uint8\n",
      "Years in current job_< 1 year     36423 non-null uint8\n",
      "Home Ownership_HaveMortgage       36423 non-null uint8\n",
      "Home Ownership_Home Mortgage      36423 non-null uint8\n",
      "Home Ownership_Own Home           36423 non-null uint8\n",
      "Home Ownership_Rent               36423 non-null uint8\n",
      "Purpose_Business Loan             36423 non-null uint8\n",
      "Purpose_Buy House                 36423 non-null uint8\n",
      "Purpose_Buy a Car                 36423 non-null uint8\n",
      "Purpose_Debt Consolidation        36423 non-null uint8\n",
      "Purpose_Educational Expenses      36423 non-null uint8\n",
      "Purpose_Home Improvements         36423 non-null uint8\n",
      "Purpose_Medical Bills             36423 non-null uint8\n",
      "Purpose_Other                     36423 non-null uint8\n",
      "Purpose_Take a Trip               36423 non-null uint8\n",
      "Purpose_major_purchase            36423 non-null uint8\n",
      "Purpose_moving                    36423 non-null uint8\n",
      "Purpose_other                     36423 non-null uint8\n",
      "Purpose_renewable_energy          36423 non-null uint8\n",
      "Purpose_small_business            36423 non-null uint8\n",
      "Purpose_vacation                  36423 non-null uint8\n",
      "Purpose_wedding                   36423 non-null uint8\n",
      "dtypes: float64(12), uint8(35)\n",
      "memory usage: 4.8 MB\n"
     ]
    }
   ],
   "source": [
    "df_new.info()"
   ]
  },
  {
   "cell_type": "code",
   "execution_count": 10,
   "metadata": {
    "ExecuteTime": {
     "end_time": "2019-04-22T21:10:18.100396Z",
     "start_time": "2019-04-22T21:10:18.080424Z"
    }
   },
   "outputs": [],
   "source": [
    "# Delete \"Loan Status Charged Off\" here to prevent it from skewing the model\n",
    "df_new = df_new.drop('Loan Status_Charged Off', axis = 1)"
   ]
  },
  {
   "cell_type": "code",
   "execution_count": 11,
   "metadata": {
    "ExecuteTime": {
     "end_time": "2019-04-22T21:10:18.184283Z",
     "start_time": "2019-04-22T21:10:18.104390Z"
    }
   },
   "outputs": [],
   "source": [
    "# Use numpy to convert to arrays\n",
    "import numpy as np\n",
    "\n",
    "# Labels are the values we want to predict (Labels are the dependent var)\n",
    "# We will predict Loan Status with this model\n",
    "labels = np.array(df_new['Loan Status_Fully Paid'])\n",
    "\n",
    "# Remove the labels from the set to create features\n",
    "features = df_new.drop('Loan Status_Fully Paid', axis = 1)\n",
    "\n",
    "# Saving feature names for later use (for visualization perhaps)\n",
    "feature_list = list(features.columns)\n",
    "\n",
    "# Convert to numpy array\n",
    "features = np.array(features)"
   ]
  },
  {
   "cell_type": "code",
   "execution_count": 12,
   "metadata": {
    "ExecuteTime": {
     "end_time": "2019-04-22T21:10:18.248203Z",
     "start_time": "2019-04-22T21:10:18.184283Z"
    }
   },
   "outputs": [],
   "source": [
    "# Using Skicit-learn to split data into training and testing sets\n",
    "from sklearn.model_selection import train_test_split\n",
    "\n",
    "# The split function produces 4 arrays, in the below order. -> Create 4 variables to store them.\n",
    "train_features, test_features, train_labels, test_labels = train_test_split(features, labels, test_size = 0.25, random_state = 42)"
   ]
  },
  {
   "cell_type": "code",
   "execution_count": 13,
   "metadata": {
    "ExecuteTime": {
     "end_time": "2019-04-22T21:10:18.268175Z",
     "start_time": "2019-04-22T21:10:18.248203Z"
    }
   },
   "outputs": [
    {
     "name": "stdout",
     "output_type": "stream",
     "text": [
      "Training Features Shape: (27317, 45)\n",
      "Training Labels Shape: (27317,)\n",
      "Testing Features Shape: (9106, 45)\n",
      "Testing Labels Shape: (9106,)\n"
     ]
    }
   ],
   "source": [
    "print('Training Features Shape:', train_features.shape)\n",
    "print('Training Labels Shape:', train_labels.shape)\n",
    "print('Testing Features Shape:', test_features.shape)\n",
    "print('Testing Labels Shape:', test_labels.shape)"
   ]
  },
  {
   "cell_type": "code",
   "execution_count": 14,
   "metadata": {
    "ExecuteTime": {
     "end_time": "2019-04-22T21:10:18.284150Z",
     "start_time": "2019-04-22T21:10:18.276160Z"
    },
    "scrolled": false
   },
   "outputs": [],
   "source": [
    "# Instantiate model with 200 decision trees\n",
    "rf = RandomForestRegressor(n_estimators = 200, random_state = 42)"
   ]
  },
  {
   "cell_type": "code",
   "execution_count": 15,
   "metadata": {
    "ExecuteTime": {
     "end_time": "2019-04-22T21:11:53.983035Z",
     "start_time": "2019-04-22T21:10:18.292139Z"
    }
   },
   "outputs": [],
   "source": [
    "t = time.time()\n",
    "\n",
    "# Train the model on training data\n",
    "rf.fit(train_features, train_labels)\n",
    "\n",
    "t_now = time.time()"
   ]
  },
  {
   "cell_type": "code",
   "execution_count": 16,
   "metadata": {
    "ExecuteTime": {
     "end_time": "2019-04-22T21:11:53.994990Z",
     "start_time": "2019-04-22T21:11:53.983035Z"
    }
   },
   "outputs": [
    {
     "name": "stdout",
     "output_type": "stream",
     "text": [
      "It took:\n",
      "95.68288 seconds to train the Random Forest\n"
     ]
    }
   ],
   "source": [
    "elapsed = t_now - t\n",
    "print(\"It took:\")\n",
    "print(round(elapsed,5),\"seconds to train the Random Forest\")"
   ]
  },
  {
   "cell_type": "code",
   "execution_count": 17,
   "metadata": {
    "ExecuteTime": {
     "end_time": "2019-04-22T21:11:54.466362Z",
     "start_time": "2019-04-22T21:11:54.002983Z"
    }
   },
   "outputs": [
    {
     "name": "stdout",
     "output_type": "stream",
     "text": [
      "Mean Absolute Error: 0.22845 degrees.\n"
     ]
    }
   ],
   "source": [
    "# Use the forest's predict method on the test data\n",
    "predictions = rf.predict(test_features)\n",
    "\n",
    "# Calculate the absolute errors\n",
    "errors = abs(predictions - test_labels)\n",
    "\n",
    "# Print out the mean absolute error (mae)\n",
    "print('Mean Absolute Error:', round(np.mean(errors), 5), 'degrees.')"
   ]
  },
  {
   "cell_type": "code",
   "execution_count": 18,
   "metadata": {
    "ExecuteTime": {
     "end_time": "2019-04-22T21:11:54.490330Z",
     "start_time": "2019-04-22T21:11:54.470362Z"
    }
   },
   "outputs": [
    {
     "name": "stdout",
     "output_type": "stream",
     "text": [
      "Accuracy: 99.99683 %.\n"
     ]
    }
   ],
   "source": [
    "# Calculate mean absolute percentage error (MAPE)\n",
    "mape = 100 * (errors / sum(test_labels))\n",
    "\n",
    "# Calculate and display accuracy\n",
    "accuracy = 100 - np.mean(mape)\n",
    "print('Accuracy:', round(accuracy, 5), '%.')"
   ]
  },
  {
   "cell_type": "markdown",
   "metadata": {},
   "source": [
    "This is too good to be true. Maybe my small sample size has led to overfitting."
   ]
  },
  {
   "cell_type": "code",
   "execution_count": 19,
   "metadata": {
    "ExecuteTime": {
     "end_time": "2019-04-22T21:11:54.570224Z",
     "start_time": "2019-04-22T21:11:54.494324Z"
    }
   },
   "outputs": [
    {
     "name": "stdout",
     "output_type": "stream",
     "text": [
      "Variable: Credit Score                     Importance: 0.29\n",
      "Variable: Current Loan Amount              Importance: 0.11\n",
      "Variable: Annual Income                    Importance: 0.08\n",
      "Variable: Monthly Debt                     Importance: 0.08\n",
      "Variable: Years of Credit History             Importance: 0.07\n",
      "Variable: Current Credit Balance             Importance: 0.07\n",
      "Variable: Maximum Open Credit              Importance: 0.07\n",
      "Variable: Months since last delinquent             Importance: 0.06\n",
      "Variable: Number of Open Accounts             Importance: 0.05\n",
      "Variable: Number of Credit Problems             Importance: 0.01\n",
      "Variable: Years in current job_10+ years             Importance: 0.01\n",
      "Variable: Years in current job_2 years             Importance: 0.01\n",
      "Variable: Years in current job_< 1 year             Importance: 0.01\n",
      "Variable: Home Ownership_Home Mortgage             Importance: 0.01\n",
      "Variable: Home Ownership_Rent              Importance: 0.01\n",
      "Variable: Bankruptcies                     Importance: 0.0\n",
      "Variable: Tax Liens                        Importance: 0.0\n",
      "Variable: Term_Long Term                   Importance: 0.0\n",
      "Variable: Term_Short Term                  Importance: 0.0\n",
      "Variable: Years in current job_1 year             Importance: 0.0\n",
      "Variable: Years in current job_3 years             Importance: 0.0\n",
      "Variable: Years in current job_4 years             Importance: 0.0\n",
      "Variable: Years in current job_5 years             Importance: 0.0\n",
      "Variable: Years in current job_6 years             Importance: 0.0\n",
      "Variable: Years in current job_7 years             Importance: 0.0\n",
      "Variable: Years in current job_8 years             Importance: 0.0\n",
      "Variable: Years in current job_9 years             Importance: 0.0\n",
      "Variable: Home Ownership_HaveMortgage             Importance: 0.0\n",
      "Variable: Home Ownership_Own Home             Importance: 0.0\n",
      "Variable: Purpose_Business Loan             Importance: 0.0\n",
      "Variable: Purpose_Buy House                Importance: 0.0\n",
      "Variable: Purpose_Buy a Car                Importance: 0.0\n",
      "Variable: Purpose_Debt Consolidation             Importance: 0.0\n",
      "Variable: Purpose_Educational Expenses             Importance: 0.0\n",
      "Variable: Purpose_Home Improvements             Importance: 0.0\n",
      "Variable: Purpose_Medical Bills             Importance: 0.0\n",
      "Variable: Purpose_Other                    Importance: 0.0\n",
      "Variable: Purpose_Take a Trip              Importance: 0.0\n",
      "Variable: Purpose_major_purchase             Importance: 0.0\n",
      "Variable: Purpose_moving                   Importance: 0.0\n",
      "Variable: Purpose_other                    Importance: 0.0\n",
      "Variable: Purpose_renewable_energy             Importance: 0.0\n",
      "Variable: Purpose_small_business             Importance: 0.0\n",
      "Variable: Purpose_vacation                 Importance: 0.0\n",
      "Variable: Purpose_wedding                  Importance: 0.0\n"
     ]
    }
   ],
   "source": [
    "# Get numerical feature importances\n",
    "importances = list(rf.feature_importances_)\n",
    "\n",
    "# List of tuples with variable and importance\n",
    "feature_importances = [(feature, round(importance, 2)) for feature, importance in zip(feature_list, importances)]\n",
    "\n",
    "# Sort the feature importances by most important first\n",
    "feature_importances = sorted(feature_importances, key = lambda x: x[1], reverse = True)\n",
    "\n",
    "# Print out the feature and importances \n",
    "[print('Variable: {:20}             Importance: {}'.format(*pair)) for pair in feature_importances];"
   ]
  },
  {
   "cell_type": "markdown",
   "metadata": {},
   "source": [
    "Do all that again but with a smaller depth, so that we can show you the chart"
   ]
  },
  {
   "cell_type": "code",
   "execution_count": 20,
   "metadata": {
    "ExecuteTime": {
     "end_time": "2019-04-22T21:11:54.594190Z",
     "start_time": "2019-04-22T21:11:54.570224Z"
    }
   },
   "outputs": [],
   "source": [
    "# import os\n",
    "# os.environ[\"PATH\"] += os.pathsep + 'C:/Program Files (x86)/Graphviz2.38/bin/'\n",
    "# # Use dot file to create a graph\n",
    "# (graph, ) = pydot.graph_from_dot_file('tree.dot')\n",
    "\n",
    "# # BIG NOTE: Configuring pydot and graphviz to work is tricky\\\n",
    "# # For pydot and graphviz to work, one may have to install \n",
    "# # graphviz locally and added it to the local environment\n",
    "\n",
    "# # Write graph to a png file\n",
    "# graph.write_png('tree.png')\n",
    "# Import tools needed for visualization\n",
    "# from sklearn.tree import export_graphviz\n",
    "# import pydot\n",
    "# # \n",
    "# # Pull out one tree from the forest. Just random got tree no.6 from the all the trees we had\n",
    "# tree = rf.estimators_[5]\n",
    "\n",
    "# # Export the image to a dot file\n",
    "# export_graphviz(tree, out_file = 'tree.dot', feature_names = feature_list, rounded = True, precision = 1)\n",
    "\n",
    "# # Limit depth of tree to 5 levels\n",
    "# rf_small = RandomForestRegressor(n_estimators=10, max_depth = 5)\n",
    "# rf_small.fit(train_features, train_labels)\n",
    "\n",
    "# # Extract the small tree\n",
    "# tree_small = rf_small.estimators_[5]\n",
    "\n",
    "# # Save the tree as a png image\n",
    "# export_graphviz(tree_small, out_file = 'small_tree.dot', feature_names = feature_list, rounded = True, precision = 1)\n",
    "\n",
    "# (graph, ) = pydot.graph_from_dot_file('small_tree.dot')\n",
    "\n",
    "# graph.write_png('small_tree.png');\n",
    "\n",
    "# This one is for Markdown. Try extracting one tree to show, but deem it unneccesary in the end.\n",
    "# ![title](https://i.ibb.co/v1PN8NX/small-tree.png)"
   ]
  },
  {
   "cell_type": "code",
   "execution_count": null,
   "metadata": {},
   "outputs": [],
   "source": []
  }
 ],
 "metadata": {
  "kernelspec": {
   "display_name": "Python 3",
   "language": "python",
   "name": "python3"
  },
  "language_info": {
   "codemirror_mode": {
    "name": "ipython",
    "version": 3
   },
   "file_extension": ".py",
   "mimetype": "text/x-python",
   "name": "python",
   "nbconvert_exporter": "python",
   "pygments_lexer": "ipython3",
   "version": "3.6.2"
  }
 },
 "nbformat": 4,
 "nbformat_minor": 2
}
