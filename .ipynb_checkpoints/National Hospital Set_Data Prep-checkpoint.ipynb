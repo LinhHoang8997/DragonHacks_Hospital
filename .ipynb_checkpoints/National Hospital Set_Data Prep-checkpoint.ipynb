{
 "cells": [
  {
   "cell_type": "markdown",
   "metadata": {},
   "source": [
    "# National Hospital Dataset - Data Prep and Machine Learning exercise\n",
    "Done to support an application during DragonHacks 2019 at Drexel University"
   ]
  },
  {
   "cell_type": "code",
   "execution_count": 1,
   "metadata": {
    "ExecuteTime": {
     "end_time": "2019-04-23T22:33:22.464129Z",
     "start_time": "2019-04-23T22:33:19.013312Z"
    }
   },
   "outputs": [],
   "source": [
    "import pandas as pd\n",
    "import numpy as np\n",
    "import matplotlib.pyplot as plt\n",
    "import seaborn as sns\n",
    "\n",
    "from sklearn.preprocessing import LabelEncoder\n",
    "from sklearn.externals import joblib\n",
    "from sklearn import metrics\n",
    "from sklearn.metrics import confusion_matrix\n",
    "from sklearn.metrics import classification_report\n",
    "from sklearn.naive_bayes import BernoulliNB"
   ]
  },
  {
   "cell_type": "code",
   "execution_count": 2,
   "metadata": {
    "ExecuteTime": {
     "end_time": "2019-04-23T22:33:22.667207Z",
     "start_time": "2019-04-23T22:33:22.464129Z"
    }
   },
   "outputs": [],
   "source": [
    "struct_df = pd.read_csv(\"Structural_Measures_-_Hospital.csv\",dtype={'Provider ID': str})\n",
    "struct_df.replace([\"Not Available\",\"\",\" \"],np.nan,inplace=True)"
   ]
  },
  {
   "cell_type": "code",
   "execution_count": 3,
   "metadata": {
    "ExecuteTime": {
     "end_time": "2019-04-23T22:33:22.714023Z",
     "start_time": "2019-04-23T22:33:22.667207Z"
    }
   },
   "outputs": [
    {
     "data": {
      "text/html": [
       "<div>\n",
       "<style scoped>\n",
       "    .dataframe tbody tr th:only-of-type {\n",
       "        vertical-align: middle;\n",
       "    }\n",
       "\n",
       "    .dataframe tbody tr th {\n",
       "        vertical-align: top;\n",
       "    }\n",
       "\n",
       "    .dataframe thead th {\n",
       "        text-align: right;\n",
       "    }\n",
       "</style>\n",
       "<table border=\"1\" class=\"dataframe\">\n",
       "  <thead>\n",
       "    <tr style=\"text-align: right;\">\n",
       "      <th></th>\n",
       "      <th>Provider ID</th>\n",
       "      <th>Hospital Name</th>\n",
       "      <th>Address</th>\n",
       "      <th>City</th>\n",
       "      <th>State</th>\n",
       "      <th>ZIP Code</th>\n",
       "      <th>County Name</th>\n",
       "      <th>Phone Number</th>\n",
       "      <th>Measure Name</th>\n",
       "      <th>Measure ID</th>\n",
       "      <th>Measure Response</th>\n",
       "      <th>Footnote</th>\n",
       "      <th>Measure Start Date</th>\n",
       "      <th>Measure End Date</th>\n",
       "      <th>Location</th>\n",
       "    </tr>\n",
       "  </thead>\n",
       "  <tbody>\n",
       "    <tr>\n",
       "      <th>0</th>\n",
       "      <td>361313</td>\n",
       "      <td>MORROW COUNTY HOSPITAL</td>\n",
       "      <td>651 WEST MARION ROAD</td>\n",
       "      <td>MOUNT GILEAD</td>\n",
       "      <td>OH</td>\n",
       "      <td>43338</td>\n",
       "      <td>MORROW</td>\n",
       "      <td>(419) 946-5015</td>\n",
       "      <td>Patient Safety Culture</td>\n",
       "      <td>SM_HS_PATIENT_SAF</td>\n",
       "      <td>NaN</td>\n",
       "      <td>5 - Results are not available for this reporti...</td>\n",
       "      <td>01/01/2017</td>\n",
       "      <td>12/31/2017</td>\n",
       "      <td>651 WEST MARION ROAD MOUNT GILEAD, OH 43338 (4...</td>\n",
       "    </tr>\n",
       "    <tr>\n",
       "      <th>1</th>\n",
       "      <td>390183</td>\n",
       "      <td>ST LUKE'S MINERS MEMORIAL HOSPITAL</td>\n",
       "      <td>360 W RUDDLE STREET</td>\n",
       "      <td>COALDALE</td>\n",
       "      <td>PA</td>\n",
       "      <td>18218</td>\n",
       "      <td>SCHUYLKILL</td>\n",
       "      <td>(570) 645-2131</td>\n",
       "      <td>Safe surgery checklist use (inpatient)</td>\n",
       "      <td>SM_SS_CHECK</td>\n",
       "      <td>Yes</td>\n",
       "      <td>NaN</td>\n",
       "      <td>01/01/2017</td>\n",
       "      <td>12/31/2017</td>\n",
       "      <td>360 W RUDDLE STREET COALDALE, PA 18218 (40.821...</td>\n",
       "    </tr>\n",
       "    <tr>\n",
       "      <th>2</th>\n",
       "      <td>231301</td>\n",
       "      <td>KALKASKA MEMORIAL HEALTH CENTER</td>\n",
       "      <td>419 S CORAL</td>\n",
       "      <td>KALKASKA</td>\n",
       "      <td>MI</td>\n",
       "      <td>49646</td>\n",
       "      <td>KALKASKA</td>\n",
       "      <td>(231) 258-7500</td>\n",
       "      <td>Safe surgery checklist use (inpatient)</td>\n",
       "      <td>SM_SS_CHECK</td>\n",
       "      <td>NaN</td>\n",
       "      <td>5 - Results are not available for this reporti...</td>\n",
       "      <td>01/01/2017</td>\n",
       "      <td>12/31/2017</td>\n",
       "      <td>419 S CORAL KALKASKA, MI 49646 (44.730897, -85...</td>\n",
       "    </tr>\n",
       "    <tr>\n",
       "      <th>3</th>\n",
       "      <td>340143</td>\n",
       "      <td>CATAWBA VALLEY MEDICAL CENTER</td>\n",
       "      <td>810 FAIRGROVE CHURCH RD</td>\n",
       "      <td>HICKORY</td>\n",
       "      <td>NC</td>\n",
       "      <td>28602</td>\n",
       "      <td>CATAWBA</td>\n",
       "      <td>(828) 326-3809</td>\n",
       "      <td>Safe surgery checklist use (inpatient)</td>\n",
       "      <td>SM_SS_CHECK</td>\n",
       "      <td>Yes</td>\n",
       "      <td>NaN</td>\n",
       "      <td>01/01/2017</td>\n",
       "      <td>12/31/2017</td>\n",
       "      <td>810 FAIRGROVE CHURCH RD HICKORY, NC 28602 (35....</td>\n",
       "    </tr>\n",
       "    <tr>\n",
       "      <th>4</th>\n",
       "      <td>371323</td>\n",
       "      <td>WEATHERFORD REGIONAL HOSPITAL, INC OF WEATHERFORD</td>\n",
       "      <td>3701 E MAIN</td>\n",
       "      <td>WEATHERFORD</td>\n",
       "      <td>OK</td>\n",
       "      <td>73096</td>\n",
       "      <td>CUSTER</td>\n",
       "      <td>(580) 772-5551</td>\n",
       "      <td>Patient Safety Culture</td>\n",
       "      <td>SM_HS_PATIENT_SAF</td>\n",
       "      <td>NaN</td>\n",
       "      <td>5 - Results are not available for this reporti...</td>\n",
       "      <td>01/01/2017</td>\n",
       "      <td>12/31/2017</td>\n",
       "      <td>3701 E MAIN WEATHERFORD, OK 73096 (35.536869, ...</td>\n",
       "    </tr>\n",
       "  </tbody>\n",
       "</table>\n",
       "</div>"
      ],
      "text/plain": [
       "  Provider ID                                      Hospital Name  \\\n",
       "0      361313                             MORROW COUNTY HOSPITAL   \n",
       "1      390183                 ST LUKE'S MINERS MEMORIAL HOSPITAL   \n",
       "2      231301                    KALKASKA MEMORIAL HEALTH CENTER   \n",
       "3      340143                      CATAWBA VALLEY MEDICAL CENTER   \n",
       "4      371323  WEATHERFORD REGIONAL HOSPITAL, INC OF WEATHERFORD   \n",
       "\n",
       "                   Address          City State  ZIP Code County Name  \\\n",
       "0     651 WEST MARION ROAD  MOUNT GILEAD    OH     43338      MORROW   \n",
       "1      360 W RUDDLE STREET      COALDALE    PA     18218  SCHUYLKILL   \n",
       "2              419 S CORAL      KALKASKA    MI     49646    KALKASKA   \n",
       "3  810 FAIRGROVE CHURCH RD       HICKORY    NC     28602     CATAWBA   \n",
       "4              3701 E MAIN   WEATHERFORD    OK     73096      CUSTER   \n",
       "\n",
       "     Phone Number                            Measure Name         Measure ID  \\\n",
       "0  (419) 946-5015                  Patient Safety Culture  SM_HS_PATIENT_SAF   \n",
       "1  (570) 645-2131  Safe surgery checklist use (inpatient)        SM_SS_CHECK   \n",
       "2  (231) 258-7500  Safe surgery checklist use (inpatient)        SM_SS_CHECK   \n",
       "3  (828) 326-3809  Safe surgery checklist use (inpatient)        SM_SS_CHECK   \n",
       "4  (580) 772-5551                  Patient Safety Culture  SM_HS_PATIENT_SAF   \n",
       "\n",
       "  Measure Response                                           Footnote  \\\n",
       "0              NaN  5 - Results are not available for this reporti...   \n",
       "1              Yes                                                NaN   \n",
       "2              NaN  5 - Results are not available for this reporti...   \n",
       "3              Yes                                                NaN   \n",
       "4              NaN  5 - Results are not available for this reporti...   \n",
       "\n",
       "  Measure Start Date Measure End Date  \\\n",
       "0         01/01/2017       12/31/2017   \n",
       "1         01/01/2017       12/31/2017   \n",
       "2         01/01/2017       12/31/2017   \n",
       "3         01/01/2017       12/31/2017   \n",
       "4         01/01/2017       12/31/2017   \n",
       "\n",
       "                                            Location  \n",
       "0  651 WEST MARION ROAD MOUNT GILEAD, OH 43338 (4...  \n",
       "1  360 W RUDDLE STREET COALDALE, PA 18218 (40.821...  \n",
       "2  419 S CORAL KALKASKA, MI 49646 (44.730897, -85...  \n",
       "3  810 FAIRGROVE CHURCH RD HICKORY, NC 28602 (35....  \n",
       "4  3701 E MAIN WEATHERFORD, OK 73096 (35.536869, ...  "
      ]
     },
     "execution_count": 3,
     "metadata": {},
     "output_type": "execute_result"
    }
   ],
   "source": [
    "struct_df.head()"
   ]
  },
  {
   "cell_type": "code",
   "execution_count": 4,
   "metadata": {
    "ExecuteTime": {
     "end_time": "2019-04-23T22:33:22.729659Z",
     "start_time": "2019-04-23T22:33:22.714023Z"
    }
   },
   "outputs": [
    {
     "data": {
      "text/plain": [
       "(23920, 15)"
      ]
     },
     "execution_count": 4,
     "metadata": {},
     "output_type": "execute_result"
    }
   ],
   "source": [
    "struct_df.shape"
   ]
  },
  {
   "cell_type": "code",
   "execution_count": 5,
   "metadata": {
    "ExecuteTime": {
     "end_time": "2019-04-23T22:33:23.089006Z",
     "start_time": "2019-04-23T22:33:22.729659Z"
    }
   },
   "outputs": [],
   "source": [
    "pay_df = pd.read_csv(\"Payment_and_value_of_care_-_Hospital.csv\",dtype={'Provider ID': str,'ZIP Code': str})\n",
    "pay_df.replace([\"Not Available\",\"\",\" \"],np.nan,inplace=True)"
   ]
  },
  {
   "cell_type": "code",
   "execution_count": 6,
   "metadata": {
    "ExecuteTime": {
     "end_time": "2019-04-23T22:33:23.135804Z",
     "start_time": "2019-04-23T22:33:23.089006Z"
    }
   },
   "outputs": [
    {
     "data": {
      "text/html": [
       "<div>\n",
       "<style scoped>\n",
       "    .dataframe tbody tr th:only-of-type {\n",
       "        vertical-align: middle;\n",
       "    }\n",
       "\n",
       "    .dataframe tbody tr th {\n",
       "        vertical-align: top;\n",
       "    }\n",
       "\n",
       "    .dataframe thead th {\n",
       "        text-align: right;\n",
       "    }\n",
       "</style>\n",
       "<table border=\"1\" class=\"dataframe\">\n",
       "  <thead>\n",
       "    <tr style=\"text-align: right;\">\n",
       "      <th></th>\n",
       "      <th>Provider ID</th>\n",
       "      <th>Hospital name</th>\n",
       "      <th>Address</th>\n",
       "      <th>City</th>\n",
       "      <th>State</th>\n",
       "      <th>ZIP Code</th>\n",
       "      <th>County name</th>\n",
       "      <th>Phone number</th>\n",
       "      <th>Payment measure name</th>\n",
       "      <th>Payment measure ID</th>\n",
       "      <th>...</th>\n",
       "      <th>Lower estimate</th>\n",
       "      <th>Higher estimate</th>\n",
       "      <th>Payment footnote</th>\n",
       "      <th>Value of care display name</th>\n",
       "      <th>Value of care display ID</th>\n",
       "      <th>Value of care category</th>\n",
       "      <th>Value of care footnote</th>\n",
       "      <th>Measure start date</th>\n",
       "      <th>Measure End Date</th>\n",
       "      <th>Location</th>\n",
       "    </tr>\n",
       "  </thead>\n",
       "  <tbody>\n",
       "    <tr>\n",
       "      <th>0</th>\n",
       "      <td>171312</td>\n",
       "      <td>COMANCHE COUNTY HOSPITAL</td>\n",
       "      <td>2ND &amp; FRISCO STREET</td>\n",
       "      <td>COLDWATER</td>\n",
       "      <td>KS</td>\n",
       "      <td>67029</td>\n",
       "      <td>COMANCHE</td>\n",
       "      <td>(620) 582-2144</td>\n",
       "      <td>Payment for heart attack patients</td>\n",
       "      <td>PAYM_30_AMI</td>\n",
       "      <td>...</td>\n",
       "      <td>NaN</td>\n",
       "      <td>NaN</td>\n",
       "      <td>1 - The number of cases/patients is too few to...</td>\n",
       "      <td>Value of Care Heart Attack measure</td>\n",
       "      <td>MORT_PAYM_30_AMI</td>\n",
       "      <td>NaN</td>\n",
       "      <td>1 - The number of cases/patients is too few to...</td>\n",
       "      <td>07/01/2014</td>\n",
       "      <td>06/30/2017</td>\n",
       "      <td>2ND &amp;amp; FRISCO STREET COLDWATER, KS 67029</td>\n",
       "    </tr>\n",
       "    <tr>\n",
       "      <th>1</th>\n",
       "      <td>171312</td>\n",
       "      <td>COMANCHE COUNTY HOSPITAL</td>\n",
       "      <td>2ND &amp; FRISCO STREET</td>\n",
       "      <td>COLDWATER</td>\n",
       "      <td>KS</td>\n",
       "      <td>67029</td>\n",
       "      <td>COMANCHE</td>\n",
       "      <td>(620) 582-2144</td>\n",
       "      <td>Payment for heart failure patients</td>\n",
       "      <td>PAYM_30_HF</td>\n",
       "      <td>...</td>\n",
       "      <td>NaN</td>\n",
       "      <td>NaN</td>\n",
       "      <td>1 - The number of cases/patients is too few to...</td>\n",
       "      <td>Value of Care Heart Failure measure</td>\n",
       "      <td>MORT_PAYM_30_HF</td>\n",
       "      <td>NaN</td>\n",
       "      <td>1 - The number of cases/patients is too few to...</td>\n",
       "      <td>07/01/2014</td>\n",
       "      <td>06/30/2017</td>\n",
       "      <td>2ND &amp;amp; FRISCO STREET COLDWATER, KS 67029</td>\n",
       "    </tr>\n",
       "    <tr>\n",
       "      <th>2</th>\n",
       "      <td>171312</td>\n",
       "      <td>COMANCHE COUNTY HOSPITAL</td>\n",
       "      <td>2ND &amp; FRISCO STREET</td>\n",
       "      <td>COLDWATER</td>\n",
       "      <td>KS</td>\n",
       "      <td>67029</td>\n",
       "      <td>COMANCHE</td>\n",
       "      <td>(620) 582-2144</td>\n",
       "      <td>Payment for hip/knee replacement patients</td>\n",
       "      <td>PAYM_90_HIP_KNEE</td>\n",
       "      <td>...</td>\n",
       "      <td>NaN</td>\n",
       "      <td>NaN</td>\n",
       "      <td>5 - Results are not available for this reporti...</td>\n",
       "      <td>Value of Care hip/knee replacement measure</td>\n",
       "      <td>COMP_PAYM_90_HIP_KNEE</td>\n",
       "      <td>NaN</td>\n",
       "      <td>5 - Results are not available for this reporti...</td>\n",
       "      <td>04/01/2014</td>\n",
       "      <td>03/31/2017</td>\n",
       "      <td>2ND &amp;amp; FRISCO STREET COLDWATER, KS 67029</td>\n",
       "    </tr>\n",
       "    <tr>\n",
       "      <th>3</th>\n",
       "      <td>171312</td>\n",
       "      <td>COMANCHE COUNTY HOSPITAL</td>\n",
       "      <td>2ND &amp; FRISCO STREET</td>\n",
       "      <td>COLDWATER</td>\n",
       "      <td>KS</td>\n",
       "      <td>67029</td>\n",
       "      <td>COMANCHE</td>\n",
       "      <td>(620) 582-2144</td>\n",
       "      <td>Payment for pneumonia patients</td>\n",
       "      <td>PAYM_30_PN</td>\n",
       "      <td>...</td>\n",
       "      <td>$18,143</td>\n",
       "      <td>$25,442</td>\n",
       "      <td>NaN</td>\n",
       "      <td>Value of Care Pneumonia measure</td>\n",
       "      <td>MORT_PAYM_30_PN</td>\n",
       "      <td>Average mortality and higher payment</td>\n",
       "      <td>NaN</td>\n",
       "      <td>07/01/2014</td>\n",
       "      <td>06/30/2017</td>\n",
       "      <td>2ND &amp;amp; FRISCO STREET COLDWATER, KS 67029</td>\n",
       "    </tr>\n",
       "  </tbody>\n",
       "</table>\n",
       "<p>4 rows × 23 columns</p>\n",
       "</div>"
      ],
      "text/plain": [
       "  Provider ID             Hospital name              Address       City State  \\\n",
       "0      171312  COMANCHE COUNTY HOSPITAL  2ND & FRISCO STREET  COLDWATER    KS   \n",
       "1      171312  COMANCHE COUNTY HOSPITAL  2ND & FRISCO STREET  COLDWATER    KS   \n",
       "2      171312  COMANCHE COUNTY HOSPITAL  2ND & FRISCO STREET  COLDWATER    KS   \n",
       "3      171312  COMANCHE COUNTY HOSPITAL  2ND & FRISCO STREET  COLDWATER    KS   \n",
       "\n",
       "  ZIP Code County name    Phone number  \\\n",
       "0    67029    COMANCHE  (620) 582-2144   \n",
       "1    67029    COMANCHE  (620) 582-2144   \n",
       "2    67029    COMANCHE  (620) 582-2144   \n",
       "3    67029    COMANCHE  (620) 582-2144   \n",
       "\n",
       "                        Payment measure name Payment measure ID  \\\n",
       "0          Payment for heart attack patients        PAYM_30_AMI   \n",
       "1         Payment for heart failure patients         PAYM_30_HF   \n",
       "2  Payment for hip/knee replacement patients   PAYM_90_HIP_KNEE   \n",
       "3             Payment for pneumonia patients         PAYM_30_PN   \n",
       "\n",
       "                      ...                      Lower estimate Higher estimate  \\\n",
       "0                     ...                                 NaN             NaN   \n",
       "1                     ...                                 NaN             NaN   \n",
       "2                     ...                                 NaN             NaN   \n",
       "3                     ...                             $18,143         $25,442   \n",
       "\n",
       "                                    Payment footnote  \\\n",
       "0  1 - The number of cases/patients is too few to...   \n",
       "1  1 - The number of cases/patients is too few to...   \n",
       "2  5 - Results are not available for this reporti...   \n",
       "3                                                NaN   \n",
       "\n",
       "                   Value of care display name Value of care display ID  \\\n",
       "0          Value of Care Heart Attack measure         MORT_PAYM_30_AMI   \n",
       "1         Value of Care Heart Failure measure          MORT_PAYM_30_HF   \n",
       "2  Value of Care hip/knee replacement measure    COMP_PAYM_90_HIP_KNEE   \n",
       "3             Value of Care Pneumonia measure          MORT_PAYM_30_PN   \n",
       "\n",
       "                 Value of care category  \\\n",
       "0                                   NaN   \n",
       "1                                   NaN   \n",
       "2                                   NaN   \n",
       "3  Average mortality and higher payment   \n",
       "\n",
       "                              Value of care footnote Measure start date  \\\n",
       "0  1 - The number of cases/patients is too few to...         07/01/2014   \n",
       "1  1 - The number of cases/patients is too few to...         07/01/2014   \n",
       "2  5 - Results are not available for this reporti...         04/01/2014   \n",
       "3                                                NaN         07/01/2014   \n",
       "\n",
       "  Measure End Date                                     Location  \n",
       "0       06/30/2017  2ND &amp; FRISCO STREET COLDWATER, KS 67029  \n",
       "1       06/30/2017  2ND &amp; FRISCO STREET COLDWATER, KS 67029  \n",
       "2       03/31/2017  2ND &amp; FRISCO STREET COLDWATER, KS 67029  \n",
       "3       06/30/2017  2ND &amp; FRISCO STREET COLDWATER, KS 67029  \n",
       "\n",
       "[4 rows x 23 columns]"
      ]
     },
     "execution_count": 6,
     "metadata": {},
     "output_type": "execute_result"
    }
   ],
   "source": [
    "pay_df.head(4)"
   ]
  },
  {
   "cell_type": "code",
   "execution_count": 7,
   "metadata": {
    "ExecuteTime": {
     "end_time": "2019-04-23T22:33:23.151425Z",
     "start_time": "2019-04-23T22:33:23.135804Z"
    }
   },
   "outputs": [
    {
     "data": {
      "text/plain": [
       "(19136, 23)"
      ]
     },
     "execution_count": 7,
     "metadata": {},
     "output_type": "execute_result"
    }
   ],
   "source": [
    "pay_df.shape"
   ]
  },
  {
   "cell_type": "code",
   "execution_count": 8,
   "metadata": {
    "ExecuteTime": {
     "end_time": "2019-04-23T22:33:23.214738Z",
     "start_time": "2019-04-23T22:33:23.157328Z"
    }
   },
   "outputs": [],
   "source": [
    "general_df = pd.read_csv(\"Hospital_General_Information.csv\",dtype={'Provider ID': str})\n",
    "general_df.replace([\"Not Available\",\"\",\" \"],np.nan,inplace=True)\n",
    "\n",
    "general_df.loc[:,\"Hospital overall rating\"] = general_df.loc[:,\"Hospital overall rating\"].astype(float)"
   ]
  },
  {
   "cell_type": "code",
   "execution_count": 9,
   "metadata": {
    "ExecuteTime": {
     "end_time": "2019-04-23T22:33:23.308468Z",
     "start_time": "2019-04-23T22:33:23.214738Z"
    }
   },
   "outputs": [
    {
     "name": "stdout",
     "output_type": "stream",
     "text": [
      "<class 'pandas.core.frame.DataFrame'>\n",
      "RangeIndex: 19136 entries, 0 to 19135\n",
      "Data columns (total 21 columns):\n",
      "Provider ID                   19136 non-null object\n",
      "Hospital name                 19136 non-null object\n",
      "Address                       19136 non-null object\n",
      "City                          19136 non-null object\n",
      "State                         19136 non-null object\n",
      "ZIP Code                      19136 non-null object\n",
      "County name                   19092 non-null object\n",
      "Payment measure name          19136 non-null object\n",
      "Payment measure ID            19136 non-null object\n",
      "Payment category              16176 non-null object\n",
      "Denominator                   12518 non-null object\n",
      "Payment                       12518 non-null object\n",
      "Lower estimate                12518 non-null object\n",
      "Higher estimate               12518 non-null object\n",
      "Payment footnote              6629 non-null object\n",
      "Value of care display name    19136 non-null object\n",
      "Value of care display ID      19136 non-null object\n",
      "Value of care category        12507 non-null object\n",
      "Value of care footnote        6640 non-null object\n",
      "Measure start date            19136 non-null object\n",
      "Measure End Date              19136 non-null object\n",
      "dtypes: object(21)\n",
      "memory usage: 3.1+ MB\n"
     ]
    }
   ],
   "source": [
    "pay_df = pay_df.drop(['Location','Phone number'],axis=1);\n",
    "pay_df.info()"
   ]
  },
  {
   "cell_type": "code",
   "execution_count": 10,
   "metadata": {
    "ExecuteTime": {
     "end_time": "2019-04-23T22:33:23.542788Z",
     "start_time": "2019-04-23T22:33:23.308468Z"
    }
   },
   "outputs": [
    {
     "data": {
      "text/plain": [
       "0        NaN\n",
       "1        NaN\n",
       "2        NaN\n",
       "3    21772.0\n",
       "4        NaN\n",
       "5        NaN\n",
       "6        NaN\n",
       "7    20485.0\n",
       "Name: Payment, dtype: float64"
      ]
     },
     "execution_count": 10,
     "metadata": {},
     "output_type": "execute_result"
    }
   ],
   "source": [
    "pay_df.loc[:,\"Payment\"] = pd.to_numeric(pay_df[\"Payment\"].apply(lambda x: str(x).replace(\"$\",\"\").replace(\",\",\"\")),errors='coerce')\n",
    "pay_df.loc[:,\"Lower estimate\"] = pd.to_numeric(pay_df[\"Lower estimate\"].apply(lambda x: str(x).replace(\"$\",\"\").replace(\",\",\"\")),errors='coerce')\n",
    "pay_df.loc[:,\"Higher estimate\"] = pd.to_numeric(pay_df[\"Higher estimate\"].apply(lambda x: str(x).replace(\"$\",\"\").replace(\",\",\"\")),errors='coerce')\n",
    "\n",
    "pay_df['Payment'].head(8)"
   ]
  },
  {
   "cell_type": "code",
   "execution_count": 11,
   "metadata": {
    "ExecuteTime": {
     "end_time": "2019-04-23T22:33:23.574029Z",
     "start_time": "2019-04-23T22:33:23.542788Z"
    }
   },
   "outputs": [
    {
     "data": {
      "text/html": [
       "<div>\n",
       "<style scoped>\n",
       "    .dataframe tbody tr th:only-of-type {\n",
       "        vertical-align: middle;\n",
       "    }\n",
       "\n",
       "    .dataframe tbody tr th {\n",
       "        vertical-align: top;\n",
       "    }\n",
       "\n",
       "    .dataframe thead th {\n",
       "        text-align: right;\n",
       "    }\n",
       "</style>\n",
       "<table border=\"1\" class=\"dataframe\">\n",
       "  <thead>\n",
       "    <tr style=\"text-align: right;\">\n",
       "      <th></th>\n",
       "      <th>Payment</th>\n",
       "      <th>Lower estimate</th>\n",
       "      <th>Higher estimate</th>\n",
       "    </tr>\n",
       "  </thead>\n",
       "  <tbody>\n",
       "    <tr>\n",
       "      <th>0</th>\n",
       "      <td>NaN</td>\n",
       "      <td>NaN</td>\n",
       "      <td>NaN</td>\n",
       "    </tr>\n",
       "    <tr>\n",
       "      <th>1</th>\n",
       "      <td>NaN</td>\n",
       "      <td>NaN</td>\n",
       "      <td>NaN</td>\n",
       "    </tr>\n",
       "    <tr>\n",
       "      <th>2</th>\n",
       "      <td>NaN</td>\n",
       "      <td>NaN</td>\n",
       "      <td>NaN</td>\n",
       "    </tr>\n",
       "    <tr>\n",
       "      <th>3</th>\n",
       "      <td>21772.0</td>\n",
       "      <td>18143.0</td>\n",
       "      <td>25442.0</td>\n",
       "    </tr>\n",
       "    <tr>\n",
       "      <th>4</th>\n",
       "      <td>NaN</td>\n",
       "      <td>NaN</td>\n",
       "      <td>NaN</td>\n",
       "    </tr>\n",
       "  </tbody>\n",
       "</table>\n",
       "</div>"
      ],
      "text/plain": [
       "   Payment  Lower estimate  Higher estimate\n",
       "0      NaN             NaN              NaN\n",
       "1      NaN             NaN              NaN\n",
       "2      NaN             NaN              NaN\n",
       "3  21772.0         18143.0          25442.0\n",
       "4      NaN             NaN              NaN"
      ]
     },
     "execution_count": 11,
     "metadata": {},
     "output_type": "execute_result"
    }
   ],
   "source": [
    "pay_df[[\"Payment\",\"Lower estimate\",\"Higher estimate\"]].head(5)"
   ]
  },
  {
   "cell_type": "code",
   "execution_count": 12,
   "metadata": {
    "ExecuteTime": {
     "end_time": "2019-04-23T22:33:23.589651Z",
     "start_time": "2019-04-23T22:33:23.574029Z"
    }
   },
   "outputs": [
    {
     "data": {
      "text/plain": [
       "Index(['Provider ID', 'Hospital name', 'Address', 'City', 'State', 'ZIP Code',\n",
       "       'County name'],\n",
       "      dtype='object')"
      ]
     },
     "execution_count": 12,
     "metadata": {},
     "output_type": "execute_result"
    }
   ],
   "source": [
    "pay_df_index = pay_df.iloc[:,:7]\n",
    "pay_df_index.columns"
   ]
  },
  {
   "cell_type": "markdown",
   "metadata": {},
   "source": [
    "## Get the Payment estimates out"
   ]
  },
  {
   "cell_type": "code",
   "execution_count": 13,
   "metadata": {
    "ExecuteTime": {
     "end_time": "2019-04-23T22:33:23.683380Z",
     "start_time": "2019-04-23T22:33:23.589651Z"
    }
   },
   "outputs": [],
   "source": [
    "# Payment itself\n",
    "tf_pay = pay_df.pivot(index=\"Provider ID\", columns='Payment measure name', values='Payment').reset_index()\n",
    "# Lower Estimatetf_pay_l\n",
    "tf_pay_l = pay_df.pivot(index=\"Provider ID\", columns='Payment measure name', values='Lower estimate').reset_index()\n",
    "# Lower Estimate\n",
    "tf_pay_h = pay_df.pivot(index=\"Provider ID\", columns='Payment measure name', values='Higher estimate').reset_index()"
   ]
  },
  {
   "cell_type": "code",
   "execution_count": 14,
   "metadata": {
    "ExecuteTime": {
     "end_time": "2019-04-23T22:33:23.730245Z",
     "start_time": "2019-04-23T22:33:23.683380Z"
    },
    "scrolled": true
   },
   "outputs": [
    {
     "data": {
      "text/html": [
       "<div>\n",
       "<style scoped>\n",
       "    .dataframe tbody tr th:only-of-type {\n",
       "        vertical-align: middle;\n",
       "    }\n",
       "\n",
       "    .dataframe tbody tr th {\n",
       "        vertical-align: top;\n",
       "    }\n",
       "\n",
       "    .dataframe thead th {\n",
       "        text-align: right;\n",
       "    }\n",
       "</style>\n",
       "<table border=\"1\" class=\"dataframe\">\n",
       "  <thead>\n",
       "    <tr style=\"text-align: right;\">\n",
       "      <th></th>\n",
       "      <th>Provider ID</th>\n",
       "      <th>Payment for heart attack patients - actual</th>\n",
       "      <th>Payment for heart failure patients - actual</th>\n",
       "      <th>Payment for hip/knee replacement patients - actual</th>\n",
       "      <th>Payment for pneumonia patients - actual</th>\n",
       "    </tr>\n",
       "  </thead>\n",
       "  <tbody>\n",
       "    <tr>\n",
       "      <th>0</th>\n",
       "      <td>010001</td>\n",
       "      <td>23394.0</td>\n",
       "      <td>17041.0</td>\n",
       "      <td>25812.0</td>\n",
       "      <td>18281.0</td>\n",
       "    </tr>\n",
       "  </tbody>\n",
       "</table>\n",
       "</div>"
      ],
      "text/plain": [
       "  Provider ID  Payment for heart attack patients - actual  \\\n",
       "0      010001                                     23394.0   \n",
       "\n",
       "   Payment for heart failure patients - actual  \\\n",
       "0                                      17041.0   \n",
       "\n",
       "   Payment for hip/knee replacement patients - actual  \\\n",
       "0                                            25812.0    \n",
       "\n",
       "   Payment for pneumonia patients - actual  \n",
       "0                                  18281.0  "
      ]
     },
     "execution_count": 14,
     "metadata": {},
     "output_type": "execute_result"
    }
   ],
   "source": [
    "placehold = tf_pay.columns.tolist()\n",
    "for index, text  in enumerate(tf_pay.columns[1:]):\n",
    "    placehold[index+1] = str(text) + \" - actual\"\n",
    "tf_pay.columns = placehold\n",
    "tf_pay.head(1)"
   ]
  },
  {
   "cell_type": "code",
   "execution_count": 15,
   "metadata": {
    "ExecuteTime": {
     "end_time": "2019-04-23T22:33:23.777107Z",
     "start_time": "2019-04-23T22:33:23.730245Z"
    }
   },
   "outputs": [
    {
     "data": {
      "text/html": [
       "<div>\n",
       "<style scoped>\n",
       "    .dataframe tbody tr th:only-of-type {\n",
       "        vertical-align: middle;\n",
       "    }\n",
       "\n",
       "    .dataframe tbody tr th {\n",
       "        vertical-align: top;\n",
       "    }\n",
       "\n",
       "    .dataframe thead th {\n",
       "        text-align: right;\n",
       "    }\n",
       "</style>\n",
       "<table border=\"1\" class=\"dataframe\">\n",
       "  <thead>\n",
       "    <tr style=\"text-align: right;\">\n",
       "      <th></th>\n",
       "      <th>Provider ID</th>\n",
       "      <th>Payment for heart attack patients - lower</th>\n",
       "      <th>Payment for heart failure patients - lower</th>\n",
       "      <th>Payment for hip/knee replacement patients - lower</th>\n",
       "      <th>Payment for pneumonia patients - lower</th>\n",
       "    </tr>\n",
       "  </thead>\n",
       "  <tbody>\n",
       "    <tr>\n",
       "      <th>0</th>\n",
       "      <td>010001</td>\n",
       "      <td>22216.0</td>\n",
       "      <td>16268.0</td>\n",
       "      <td>24704.0</td>\n",
       "      <td>17354.0</td>\n",
       "    </tr>\n",
       "  </tbody>\n",
       "</table>\n",
       "</div>"
      ],
      "text/plain": [
       "  Provider ID  Payment for heart attack patients - lower  \\\n",
       "0      010001                                    22216.0   \n",
       "\n",
       "   Payment for heart failure patients - lower  \\\n",
       "0                                     16268.0   \n",
       "\n",
       "   Payment for hip/knee replacement patients - lower  \\\n",
       "0                                            24704.0   \n",
       "\n",
       "   Payment for pneumonia patients - lower  \n",
       "0                                 17354.0  "
      ]
     },
     "execution_count": 15,
     "metadata": {},
     "output_type": "execute_result"
    }
   ],
   "source": [
    "placehold = tf_pay_l.columns.tolist()\n",
    "for index, text  in enumerate(tf_pay_l.columns[1:]):\n",
    "    placehold[index+1] = str(text) + \" - lower\"\n",
    "tf_pay_l.columns = placehold\n",
    "tf_pay_l.head(1)"
   ]
  },
  {
   "cell_type": "code",
   "execution_count": 16,
   "metadata": {
    "ExecuteTime": {
     "end_time": "2019-04-23T22:33:23.808349Z",
     "start_time": "2019-04-23T22:33:23.777107Z"
    }
   },
   "outputs": [
    {
     "data": {
      "text/html": [
       "<div>\n",
       "<style scoped>\n",
       "    .dataframe tbody tr th:only-of-type {\n",
       "        vertical-align: middle;\n",
       "    }\n",
       "\n",
       "    .dataframe tbody tr th {\n",
       "        vertical-align: top;\n",
       "    }\n",
       "\n",
       "    .dataframe thead th {\n",
       "        text-align: right;\n",
       "    }\n",
       "</style>\n",
       "<table border=\"1\" class=\"dataframe\">\n",
       "  <thead>\n",
       "    <tr style=\"text-align: right;\">\n",
       "      <th></th>\n",
       "      <th>Provider ID</th>\n",
       "      <th>Payment for heart attack patients - higher</th>\n",
       "      <th>Payment for heart failure patients - higher</th>\n",
       "      <th>Payment for hip/knee replacement patients - higher</th>\n",
       "      <th>Payment for pneumonia patients - higher</th>\n",
       "    </tr>\n",
       "  </thead>\n",
       "  <tbody>\n",
       "    <tr>\n",
       "      <th>0</th>\n",
       "      <td>010001</td>\n",
       "      <td>24641.0</td>\n",
       "      <td>17849.0</td>\n",
       "      <td>26982.0</td>\n",
       "      <td>19236.0</td>\n",
       "    </tr>\n",
       "  </tbody>\n",
       "</table>\n",
       "</div>"
      ],
      "text/plain": [
       "  Provider ID  Payment for heart attack patients - higher  \\\n",
       "0      010001                                     24641.0   \n",
       "\n",
       "   Payment for heart failure patients - higher  \\\n",
       "0                                      17849.0   \n",
       "\n",
       "   Payment for hip/knee replacement patients - higher  \\\n",
       "0                                            26982.0    \n",
       "\n",
       "   Payment for pneumonia patients - higher  \n",
       "0                                  19236.0  "
      ]
     },
     "execution_count": 16,
     "metadata": {},
     "output_type": "execute_result"
    }
   ],
   "source": [
    "placehold = tf_pay_h.columns.tolist()\n",
    "for index, text  in enumerate(tf_pay_h.columns[1:]):\n",
    "    placehold[index+1] = str(text) + \" - higher\"\n",
    "tf_pay_h.columns = placehold\n",
    "tf_pay_h.head(1)"
   ]
  },
  {
   "cell_type": "markdown",
   "metadata": {},
   "source": [
    "## Get Value of Care Respond"
   ]
  },
  {
   "cell_type": "code",
   "execution_count": 17,
   "metadata": {
    "ExecuteTime": {
     "end_time": "2019-04-23T22:33:23.839592Z",
     "start_time": "2019-04-23T22:33:23.808349Z"
    }
   },
   "outputs": [
    {
     "data": {
      "text/plain": [
       "Index(['Provider ID', 'Hospital name', 'Address', 'City', 'State', 'ZIP Code',\n",
       "       'County name', 'Value of care display name', 'Value of care display ID',\n",
       "       'Value of care category', 'Value of care footnote',\n",
       "       'Measure start date'],\n",
       "      dtype='object')"
      ]
     },
     "execution_count": 17,
     "metadata": {},
     "output_type": "execute_result"
    }
   ],
   "source": [
    "df_value = pay_df.iloc[:,-6:-1]\n",
    "df_value = pd.concat([pay_df_index,df_value],axis=1)\n",
    "df_value.columns"
   ]
  },
  {
   "cell_type": "code",
   "execution_count": 18,
   "metadata": {
    "ExecuteTime": {
     "end_time": "2019-04-23T22:33:23.870837Z",
     "start_time": "2019-04-23T22:33:23.839592Z"
    }
   },
   "outputs": [],
   "source": [
    "tf_value = df_value.pivot(index=\"Provider ID\", columns='Value of care display ID', values='Value of care category').reset_index()\n",
    "tf_value.rename(columns={'MORT_PAYM_30_AMI': 'MORT_PAYM_30_HEART ATT', 'MORT_PAYM_30_PN': 'MORT_PAYM_30_PNEU','MORT_PAYM_30_HF': 'MORT_PAYM_30_HEART FAIL'}, inplace=True)"
   ]
  },
  {
   "cell_type": "code",
   "execution_count": 19,
   "metadata": {
    "ExecuteTime": {
     "end_time": "2019-04-23T22:33:23.902080Z",
     "start_time": "2019-04-23T22:33:23.870837Z"
    }
   },
   "outputs": [
    {
     "data": {
      "text/html": [
       "<div>\n",
       "<style scoped>\n",
       "    .dataframe tbody tr th:only-of-type {\n",
       "        vertical-align: middle;\n",
       "    }\n",
       "\n",
       "    .dataframe tbody tr th {\n",
       "        vertical-align: top;\n",
       "    }\n",
       "\n",
       "    .dataframe thead th {\n",
       "        text-align: right;\n",
       "    }\n",
       "</style>\n",
       "<table border=\"1\" class=\"dataframe\">\n",
       "  <thead>\n",
       "    <tr style=\"text-align: right;\">\n",
       "      <th>Value of care display ID</th>\n",
       "      <th>Provider ID</th>\n",
       "      <th>COMP_PAYM_90_HIP_KNEE</th>\n",
       "      <th>MORT_PAYM_30_HEART ATT</th>\n",
       "      <th>MORT_PAYM_30_HEART FAIL</th>\n",
       "      <th>MORT_PAYM_30_PNEU</th>\n",
       "    </tr>\n",
       "  </thead>\n",
       "  <tbody>\n",
       "    <tr>\n",
       "      <th>0</th>\n",
       "      <td>010001</td>\n",
       "      <td>Average complications and higher payment</td>\n",
       "      <td>Average mortality and average payment</td>\n",
       "      <td>Average mortality and average payment</td>\n",
       "      <td>Average mortality and average payment</td>\n",
       "    </tr>\n",
       "    <tr>\n",
       "      <th>1</th>\n",
       "      <td>010005</td>\n",
       "      <td>Average complications and average payment</td>\n",
       "      <td>Average mortality and average payment</td>\n",
       "      <td>Worse mortality and average payment</td>\n",
       "      <td>Worse mortality and lower payment</td>\n",
       "    </tr>\n",
       "  </tbody>\n",
       "</table>\n",
       "</div>"
      ],
      "text/plain": [
       "Value of care display ID Provider ID  \\\n",
       "0                             010001   \n",
       "1                             010005   \n",
       "\n",
       "Value of care display ID                      COMP_PAYM_90_HIP_KNEE  \\\n",
       "0                          Average complications and higher payment   \n",
       "1                         Average complications and average payment   \n",
       "\n",
       "Value of care display ID                 MORT_PAYM_30_HEART ATT  \\\n",
       "0                         Average mortality and average payment   \n",
       "1                         Average mortality and average payment   \n",
       "\n",
       "Value of care display ID                MORT_PAYM_30_HEART FAIL  \\\n",
       "0                         Average mortality and average payment   \n",
       "1                           Worse mortality and average payment   \n",
       "\n",
       "Value of care display ID                      MORT_PAYM_30_PNEU  \n",
       "0                         Average mortality and average payment  \n",
       "1                             Worse mortality and lower payment  "
      ]
     },
     "execution_count": 19,
     "metadata": {},
     "output_type": "execute_result"
    }
   ],
   "source": [
    "tf_value.head(2)"
   ]
  },
  {
   "cell_type": "code",
   "execution_count": 20,
   "metadata": {
    "ExecuteTime": {
     "end_time": "2019-04-23T22:33:24.027049Z",
     "start_time": "2019-04-23T22:33:23.902080Z"
    }
   },
   "outputs": [],
   "source": [
    "for col in tf_value[2:]:\n",
    "    x = tf_value[str(col)].str.split('and', 1, expand=True)"
   ]
  },
  {
   "cell_type": "code",
   "execution_count": 21,
   "metadata": {
    "ExecuteTime": {
     "end_time": "2019-04-23T22:33:24.135586Z",
     "start_time": "2019-04-23T22:33:24.034822Z"
    }
   },
   "outputs": [],
   "source": [
    "lst_value_df = []\n",
    "for item in tf_value.columns.tolist()[1:len(tf_value.columns)]:\n",
    "#     print(item)\n",
    "    df = tf_value[item].str.split('and', 1, expand=True)\n",
    "    df.columns = [item + \"_1\",item + \"_2\"]\n",
    "    lst_value_df.append(df)"
   ]
  },
  {
   "cell_type": "code",
   "execution_count": 22,
   "metadata": {
    "ExecuteTime": {
     "end_time": "2019-04-23T22:33:24.151210Z",
     "start_time": "2019-04-23T22:33:24.135586Z"
    }
   },
   "outputs": [],
   "source": [
    "lst_value_df.append(tf_value.iloc[:,:1])\n",
    "# for i in lst_value_df:\n",
    "tf_value_split = pd.concat(lst_value_df, axis=1)"
   ]
  },
  {
   "cell_type": "code",
   "execution_count": 23,
   "metadata": {
    "ExecuteTime": {
     "end_time": "2019-04-23T22:33:24.185508Z",
     "start_time": "2019-04-23T22:33:24.151210Z"
    }
   },
   "outputs": [
    {
     "data": {
      "text/html": [
       "<div>\n",
       "<style scoped>\n",
       "    .dataframe tbody tr th:only-of-type {\n",
       "        vertical-align: middle;\n",
       "    }\n",
       "\n",
       "    .dataframe tbody tr th {\n",
       "        vertical-align: top;\n",
       "    }\n",
       "\n",
       "    .dataframe thead th {\n",
       "        text-align: right;\n",
       "    }\n",
       "</style>\n",
       "<table border=\"1\" class=\"dataframe\">\n",
       "  <thead>\n",
       "    <tr style=\"text-align: right;\">\n",
       "      <th></th>\n",
       "      <th>COMP_PAYM_90_HIP_KNEE_1</th>\n",
       "      <th>COMP_PAYM_90_HIP_KNEE_2</th>\n",
       "      <th>MORT_PAYM_30_HEART ATT_1</th>\n",
       "      <th>MORT_PAYM_30_HEART ATT_2</th>\n",
       "      <th>MORT_PAYM_30_HEART FAIL_1</th>\n",
       "      <th>MORT_PAYM_30_HEART FAIL_2</th>\n",
       "      <th>MORT_PAYM_30_PNEU_1</th>\n",
       "      <th>MORT_PAYM_30_PNEU_2</th>\n",
       "      <th>Provider ID</th>\n",
       "    </tr>\n",
       "  </thead>\n",
       "  <tbody>\n",
       "    <tr>\n",
       "      <th>0</th>\n",
       "      <td>Average complications</td>\n",
       "      <td>higher payment</td>\n",
       "      <td>Average mortality</td>\n",
       "      <td>average payment</td>\n",
       "      <td>Average mortality</td>\n",
       "      <td>average payment</td>\n",
       "      <td>Average mortality</td>\n",
       "      <td>average payment</td>\n",
       "      <td>010001</td>\n",
       "    </tr>\n",
       "    <tr>\n",
       "      <th>1</th>\n",
       "      <td>Average complications</td>\n",
       "      <td>average payment</td>\n",
       "      <td>Average mortality</td>\n",
       "      <td>average payment</td>\n",
       "      <td>Worse mortality</td>\n",
       "      <td>average payment</td>\n",
       "      <td>Worse mortality</td>\n",
       "      <td>lower payment</td>\n",
       "      <td>010005</td>\n",
       "    </tr>\n",
       "  </tbody>\n",
       "</table>\n",
       "</div>"
      ],
      "text/plain": [
       "  COMP_PAYM_90_HIP_KNEE_1 COMP_PAYM_90_HIP_KNEE_2 MORT_PAYM_30_HEART ATT_1  \\\n",
       "0  Average complications           higher payment       Average mortality    \n",
       "1  Average complications          average payment       Average mortality    \n",
       "\n",
       "  MORT_PAYM_30_HEART ATT_2 MORT_PAYM_30_HEART FAIL_1  \\\n",
       "0          average payment        Average mortality    \n",
       "1          average payment          Worse mortality    \n",
       "\n",
       "  MORT_PAYM_30_HEART FAIL_2 MORT_PAYM_30_PNEU_1 MORT_PAYM_30_PNEU_2  \\\n",
       "0           average payment  Average mortality      average payment   \n",
       "1           average payment    Worse mortality        lower payment   \n",
       "\n",
       "  Provider ID  \n",
       "0      010001  \n",
       "1      010005  "
      ]
     },
     "execution_count": 23,
     "metadata": {},
     "output_type": "execute_result"
    }
   ],
   "source": [
    "tf_value_split.head(2)"
   ]
  },
  {
   "cell_type": "code",
   "execution_count": 24,
   "metadata": {
    "ExecuteTime": {
     "end_time": "2019-04-23T22:33:24.201131Z",
     "start_time": "2019-04-23T22:33:24.185508Z"
    }
   },
   "outputs": [
    {
     "data": {
      "text/plain": [
       "array(['Average mortality ', nan, 'Worse mortality ', 'Better mortality '],\n",
       "      dtype=object)"
      ]
     },
     "execution_count": 24,
     "metadata": {},
     "output_type": "execute_result"
    }
   ],
   "source": [
    "tf_value_split.iloc[:,2].unique()"
   ]
  },
  {
   "cell_type": "markdown",
   "metadata": {},
   "source": [
    "## Get Structural Measures"
   ]
  },
  {
   "cell_type": "code",
   "execution_count": 25,
   "metadata": {
    "ExecuteTime": {
     "end_time": "2019-04-23T22:33:24.247993Z",
     "start_time": "2019-04-23T22:33:24.201131Z"
    }
   },
   "outputs": [
    {
     "name": "stdout",
     "output_type": "stream",
     "text": [
      "<class 'pandas.core.frame.DataFrame'>\n",
      "RangeIndex: 23920 entries, 0 to 23919\n",
      "Data columns (total 15 columns):\n",
      "Provider ID           23920 non-null object\n",
      "Hospital Name         23920 non-null object\n",
      "Address               23920 non-null object\n",
      "City                  23920 non-null object\n",
      "State                 23920 non-null object\n",
      "ZIP Code              23920 non-null int64\n",
      "County Name           23865 non-null object\n",
      "Phone Number          23920 non-null object\n",
      "Measure Name          23920 non-null object\n",
      "Measure ID            23920 non-null object\n",
      "Measure Response      17818 non-null object\n",
      "Footnote              6102 non-null object\n",
      "Measure Start Date    23920 non-null object\n",
      "Measure End Date      23920 non-null object\n",
      "Location              23920 non-null object\n",
      "dtypes: int64(1), object(14)\n",
      "memory usage: 2.7+ MB\n"
     ]
    }
   ],
   "source": [
    "struct_df.info()"
   ]
  },
  {
   "cell_type": "code",
   "execution_count": 26,
   "metadata": {
    "ExecuteTime": {
     "end_time": "2019-04-23T22:33:24.310481Z",
     "start_time": "2019-04-23T22:33:24.247993Z"
    }
   },
   "outputs": [
    {
     "data": {
      "text/html": [
       "<div>\n",
       "<style scoped>\n",
       "    .dataframe tbody tr th:only-of-type {\n",
       "        vertical-align: middle;\n",
       "    }\n",
       "\n",
       "    .dataframe tbody tr th {\n",
       "        vertical-align: top;\n",
       "    }\n",
       "\n",
       "    .dataframe thead th {\n",
       "        text-align: right;\n",
       "    }\n",
       "</style>\n",
       "<table border=\"1\" class=\"dataframe\">\n",
       "  <thead>\n",
       "    <tr style=\"text-align: right;\">\n",
       "      <th></th>\n",
       "      <th>Provider ID</th>\n",
       "      <th>Hospital Name</th>\n",
       "      <th>Address</th>\n",
       "      <th>City</th>\n",
       "      <th>State</th>\n",
       "      <th>ZIP Code</th>\n",
       "      <th>County Name</th>\n",
       "      <th>Phone Number</th>\n",
       "      <th>Measure Name</th>\n",
       "      <th>Measure ID</th>\n",
       "      <th>Measure Response</th>\n",
       "      <th>Footnote</th>\n",
       "      <th>Measure Start Date</th>\n",
       "      <th>Measure End Date</th>\n",
       "      <th>Location</th>\n",
       "    </tr>\n",
       "  </thead>\n",
       "  <tbody>\n",
       "    <tr>\n",
       "      <th>0</th>\n",
       "      <td>361313</td>\n",
       "      <td>MORROW COUNTY HOSPITAL</td>\n",
       "      <td>651 WEST MARION ROAD</td>\n",
       "      <td>MOUNT GILEAD</td>\n",
       "      <td>OH</td>\n",
       "      <td>43338</td>\n",
       "      <td>MORROW</td>\n",
       "      <td>(419) 946-5015</td>\n",
       "      <td>Patient Safety Culture</td>\n",
       "      <td>SM_HS_PATIENT_SAF</td>\n",
       "      <td>NaN</td>\n",
       "      <td>5 - Results are not available for this reporti...</td>\n",
       "      <td>01/01/2017</td>\n",
       "      <td>12/31/2017</td>\n",
       "      <td>651 WEST MARION ROAD MOUNT GILEAD, OH 43338 (4...</td>\n",
       "    </tr>\n",
       "    <tr>\n",
       "      <th>1</th>\n",
       "      <td>390183</td>\n",
       "      <td>ST LUKE'S MINERS MEMORIAL HOSPITAL</td>\n",
       "      <td>360 W RUDDLE STREET</td>\n",
       "      <td>COALDALE</td>\n",
       "      <td>PA</td>\n",
       "      <td>18218</td>\n",
       "      <td>SCHUYLKILL</td>\n",
       "      <td>(570) 645-2131</td>\n",
       "      <td>Safe surgery checklist use (inpatient)</td>\n",
       "      <td>SM_SS_CHECK</td>\n",
       "      <td>Yes</td>\n",
       "      <td>NaN</td>\n",
       "      <td>01/01/2017</td>\n",
       "      <td>12/31/2017</td>\n",
       "      <td>360 W RUDDLE STREET COALDALE, PA 18218 (40.821...</td>\n",
       "    </tr>\n",
       "  </tbody>\n",
       "</table>\n",
       "</div>"
      ],
      "text/plain": [
       "  Provider ID                       Hospital Name               Address  \\\n",
       "0      361313              MORROW COUNTY HOSPITAL  651 WEST MARION ROAD   \n",
       "1      390183  ST LUKE'S MINERS MEMORIAL HOSPITAL   360 W RUDDLE STREET   \n",
       "\n",
       "           City State  ZIP Code County Name    Phone Number  \\\n",
       "0  MOUNT GILEAD    OH     43338      MORROW  (419) 946-5015   \n",
       "1      COALDALE    PA     18218  SCHUYLKILL  (570) 645-2131   \n",
       "\n",
       "                             Measure Name         Measure ID Measure Response  \\\n",
       "0                  Patient Safety Culture  SM_HS_PATIENT_SAF              NaN   \n",
       "1  Safe surgery checklist use (inpatient)        SM_SS_CHECK              Yes   \n",
       "\n",
       "                                            Footnote Measure Start Date  \\\n",
       "0  5 - Results are not available for this reporti...         01/01/2017   \n",
       "1                                                NaN         01/01/2017   \n",
       "\n",
       "  Measure End Date                                           Location  \n",
       "0       12/31/2017  651 WEST MARION ROAD MOUNT GILEAD, OH 43338 (4...  \n",
       "1       12/31/2017  360 W RUDDLE STREET COALDALE, PA 18218 (40.821...  "
      ]
     },
     "execution_count": 26,
     "metadata": {},
     "output_type": "execute_result"
    }
   ],
   "source": [
    "struct_df.head(2)"
   ]
  },
  {
   "cell_type": "code",
   "execution_count": 27,
   "metadata": {
    "ExecuteTime": {
     "end_time": "2019-04-23T22:33:24.341721Z",
     "start_time": "2019-04-23T22:33:24.310481Z"
    }
   },
   "outputs": [],
   "source": [
    "# Payment itself\n",
    "tf_struct = struct_df.pivot(index=\"Provider ID\", columns='Measure Name', values='Measure Response').reset_index()"
   ]
  },
  {
   "cell_type": "code",
   "execution_count": 28,
   "metadata": {
    "ExecuteTime": {
     "end_time": "2019-04-23T22:33:24.372964Z",
     "start_time": "2019-04-23T22:33:24.341721Z"
    }
   },
   "outputs": [
    {
     "data": {
      "text/html": [
       "<div>\n",
       "<style scoped>\n",
       "    .dataframe tbody tr th:only-of-type {\n",
       "        vertical-align: middle;\n",
       "    }\n",
       "\n",
       "    .dataframe tbody tr th {\n",
       "        vertical-align: top;\n",
       "    }\n",
       "\n",
       "    .dataframe thead th {\n",
       "        text-align: right;\n",
       "    }\n",
       "</style>\n",
       "<table border=\"1\" class=\"dataframe\">\n",
       "  <thead>\n",
       "    <tr style=\"text-align: right;\">\n",
       "      <th>Measure Name</th>\n",
       "      <th>Provider ID</th>\n",
       "      <th>Able to receive lab results electronically</th>\n",
       "      <th>Able to track patients' lab results, tests, and referrals electronically between visits</th>\n",
       "      <th>Patient Safety Culture</th>\n",
       "      <th>Safe surgery checklist use (inpatient)</th>\n",
       "      <th>Safe surgery checklist use (outpatient)</th>\n",
       "    </tr>\n",
       "  </thead>\n",
       "  <tbody>\n",
       "    <tr>\n",
       "      <th>0</th>\n",
       "      <td>010001</td>\n",
       "      <td>Yes</td>\n",
       "      <td>Yes</td>\n",
       "      <td>Yes</td>\n",
       "      <td>Yes</td>\n",
       "      <td>Yes</td>\n",
       "    </tr>\n",
       "  </tbody>\n",
       "</table>\n",
       "</div>"
      ],
      "text/plain": [
       "Measure Name Provider ID Able to receive lab results electronically  \\\n",
       "0                 010001                                        Yes   \n",
       "\n",
       "Measure Name Able to track patients' lab results, tests, and referrals electronically between visits  \\\n",
       "0                                                           Yes                                        \n",
       "\n",
       "Measure Name Patient Safety Culture Safe surgery checklist use (inpatient)  \\\n",
       "0                               Yes                                    Yes   \n",
       "\n",
       "Measure Name Safe surgery checklist use (outpatient)  \n",
       "0                                                Yes  "
      ]
     },
     "execution_count": 28,
     "metadata": {},
     "output_type": "execute_result"
    }
   ],
   "source": [
    "tf_struct.head(1)"
   ]
  },
  {
   "cell_type": "code",
   "execution_count": 29,
   "metadata": {
    "ExecuteTime": {
     "end_time": "2019-04-23T22:33:24.388584Z",
     "start_time": "2019-04-23T22:33:24.372964Z"
    }
   },
   "outputs": [],
   "source": [
    "# tf_struct = tf_struct.replace({\"Yes\": 1,\"No\": 0})\n",
    "# tf_struct.head(2)"
   ]
  },
  {
   "cell_type": "markdown",
   "metadata": {
    "ExecuteTime": {
     "end_time": "2019-04-23T20:05:38.330910Z",
     "start_time": "2019-04-23T20:05:38.324928Z"
    }
   },
   "source": [
    "## Get External Demographic Measures"
   ]
  },
  {
   "cell_type": "code",
   "execution_count": 30,
   "metadata": {
    "ExecuteTime": {
     "end_time": "2019-04-23T22:33:28.939446Z",
     "start_time": "2019-04-23T22:33:24.388584Z"
    }
   },
   "outputs": [],
   "source": [
    "income_df = pd.read_csv(\"16zpallagi.csv\")"
   ]
  },
  {
   "cell_type": "code",
   "execution_count": 31,
   "metadata": {
    "ExecuteTime": {
     "end_time": "2019-04-23T22:33:29.679764Z",
     "start_time": "2019-04-23T22:33:28.939446Z"
    }
   },
   "outputs": [],
   "source": [
    "income_df.loc[:,\"zipcode\"] = income_df.loc[:,\"zipcode\"].astype(str).str.zfill(5)    \n",
    "income_df.loc[:,\"zipcode\"] = income_df.loc[:,\"zipcode\"].apply(str)"
   ]
  },
  {
   "cell_type": "code",
   "execution_count": 32,
   "metadata": {
    "ExecuteTime": {
     "end_time": "2019-04-23T22:33:29.742190Z",
     "start_time": "2019-04-23T22:33:29.679764Z"
    }
   },
   "outputs": [
    {
     "data": {
      "text/html": [
       "<div>\n",
       "<style scoped>\n",
       "    .dataframe tbody tr th:only-of-type {\n",
       "        vertical-align: middle;\n",
       "    }\n",
       "\n",
       "    .dataframe tbody tr th {\n",
       "        vertical-align: top;\n",
       "    }\n",
       "\n",
       "    .dataframe thead th {\n",
       "        text-align: right;\n",
       "    }\n",
       "</style>\n",
       "<table border=\"1\" class=\"dataframe\">\n",
       "  <thead>\n",
       "    <tr style=\"text-align: right;\">\n",
       "      <th></th>\n",
       "      <th>zipcode</th>\n",
       "      <th>agi_stub</th>\n",
       "      <th>N02650</th>\n",
       "      <th>A02650</th>\n",
       "    </tr>\n",
       "  </thead>\n",
       "  <tbody>\n",
       "    <tr>\n",
       "      <th>0</th>\n",
       "      <td>00000</td>\n",
       "      <td>1</td>\n",
       "      <td>815440</td>\n",
       "      <td>10787121</td>\n",
       "    </tr>\n",
       "    <tr>\n",
       "      <th>1</th>\n",
       "      <td>00000</td>\n",
       "      <td>2</td>\n",
       "      <td>495830</td>\n",
       "      <td>18020908</td>\n",
       "    </tr>\n",
       "    <tr>\n",
       "      <th>2</th>\n",
       "      <td>00000</td>\n",
       "      <td>3</td>\n",
       "      <td>263390</td>\n",
       "      <td>16351320</td>\n",
       "    </tr>\n",
       "    <tr>\n",
       "      <th>3</th>\n",
       "      <td>00000</td>\n",
       "      <td>4</td>\n",
       "      <td>167190</td>\n",
       "      <td>14646693</td>\n",
       "    </tr>\n",
       "    <tr>\n",
       "      <th>4</th>\n",
       "      <td>00000</td>\n",
       "      <td>5</td>\n",
       "      <td>217440</td>\n",
       "      <td>29696755</td>\n",
       "    </tr>\n",
       "    <tr>\n",
       "      <th>5</th>\n",
       "      <td>00000</td>\n",
       "      <td>6</td>\n",
       "      <td>57230</td>\n",
       "      <td>26303410</td>\n",
       "    </tr>\n",
       "    <tr>\n",
       "      <th>6</th>\n",
       "      <td>35004</td>\n",
       "      <td>1</td>\n",
       "      <td>1510</td>\n",
       "      <td>19675</td>\n",
       "    </tr>\n",
       "    <tr>\n",
       "      <th>7</th>\n",
       "      <td>35004</td>\n",
       "      <td>2</td>\n",
       "      <td>1410</td>\n",
       "      <td>52487</td>\n",
       "    </tr>\n",
       "    <tr>\n",
       "      <th>8</th>\n",
       "      <td>35004</td>\n",
       "      <td>3</td>\n",
       "      <td>950</td>\n",
       "      <td>59519</td>\n",
       "    </tr>\n",
       "    <tr>\n",
       "      <th>9</th>\n",
       "      <td>35004</td>\n",
       "      <td>4</td>\n",
       "      <td>650</td>\n",
       "      <td>56657</td>\n",
       "    </tr>\n",
       "  </tbody>\n",
       "</table>\n",
       "</div>"
      ],
      "text/plain": [
       "  zipcode  agi_stub  N02650    A02650\n",
       "0   00000         1  815440  10787121\n",
       "1   00000         2  495830  18020908\n",
       "2   00000         3  263390  16351320\n",
       "3   00000         4  167190  14646693\n",
       "4   00000         5  217440  29696755\n",
       "5   00000         6   57230  26303410\n",
       "6   35004         1    1510     19675\n",
       "7   35004         2    1410     52487\n",
       "8   35004         3     950     59519\n",
       "9   35004         4     650     56657"
      ]
     },
     "execution_count": 32,
     "metadata": {},
     "output_type": "execute_result"
    }
   ],
   "source": [
    "income_df = income_df[['zipcode','agi_stub','N02650','A02650']]\n",
    "income_df.head(10)"
   ]
  },
  {
   "cell_type": "code",
   "execution_count": 33,
   "metadata": {
    "ExecuteTime": {
     "end_time": "2019-04-23T22:33:29.861137Z",
     "start_time": "2019-04-23T22:33:29.742190Z"
    }
   },
   "outputs": [],
   "source": [
    "income_df_g = income_df.groupby(['zipcode'], as_index=False).sum()"
   ]
  },
  {
   "cell_type": "code",
   "execution_count": 34,
   "metadata": {
    "ExecuteTime": {
     "end_time": "2019-04-23T22:33:29.892378Z",
     "start_time": "2019-04-23T22:33:29.861137Z"
    }
   },
   "outputs": [
    {
     "data": {
      "text/html": [
       "<div>\n",
       "<style scoped>\n",
       "    .dataframe tbody tr th:only-of-type {\n",
       "        vertical-align: middle;\n",
       "    }\n",
       "\n",
       "    .dataframe tbody tr th {\n",
       "        vertical-align: top;\n",
       "    }\n",
       "\n",
       "    .dataframe thead th {\n",
       "        text-align: right;\n",
       "    }\n",
       "</style>\n",
       "<table border=\"1\" class=\"dataframe\">\n",
       "  <thead>\n",
       "    <tr style=\"text-align: right;\">\n",
       "      <th></th>\n",
       "      <th>zipcode</th>\n",
       "      <th>agi_stub</th>\n",
       "      <th>N02650</th>\n",
       "      <th>A02650</th>\n",
       "    </tr>\n",
       "  </thead>\n",
       "  <tbody>\n",
       "    <tr>\n",
       "      <th>0</th>\n",
       "      <td>00000</td>\n",
       "      <td>1071</td>\n",
       "      <td>147025470</td>\n",
       "      <td>10396138255</td>\n",
       "    </tr>\n",
       "    <tr>\n",
       "      <th>1</th>\n",
       "      <td>01001</td>\n",
       "      <td>21</td>\n",
       "      <td>8980</td>\n",
       "      <td>512546</td>\n",
       "    </tr>\n",
       "    <tr>\n",
       "      <th>2</th>\n",
       "      <td>01002</td>\n",
       "      <td>21</td>\n",
       "      <td>9490</td>\n",
       "      <td>817846</td>\n",
       "    </tr>\n",
       "    <tr>\n",
       "      <th>3</th>\n",
       "      <td>01003</td>\n",
       "      <td>17</td>\n",
       "      <td>170</td>\n",
       "      <td>2474</td>\n",
       "    </tr>\n",
       "    <tr>\n",
       "      <th>4</th>\n",
       "      <td>01005</td>\n",
       "      <td>21</td>\n",
       "      <td>2370</td>\n",
       "      <td>139610</td>\n",
       "    </tr>\n",
       "    <tr>\n",
       "      <th>5</th>\n",
       "      <td>01007</td>\n",
       "      <td>21</td>\n",
       "      <td>7580</td>\n",
       "      <td>564832</td>\n",
       "    </tr>\n",
       "    <tr>\n",
       "      <th>6</th>\n",
       "      <td>01008</td>\n",
       "      <td>21</td>\n",
       "      <td>660</td>\n",
       "      <td>43355</td>\n",
       "    </tr>\n",
       "    <tr>\n",
       "      <th>7</th>\n",
       "      <td>01009</td>\n",
       "      <td>21</td>\n",
       "      <td>650</td>\n",
       "      <td>30807</td>\n",
       "    </tr>\n",
       "    <tr>\n",
       "      <th>8</th>\n",
       "      <td>01010</td>\n",
       "      <td>21</td>\n",
       "      <td>1880</td>\n",
       "      <td>136250</td>\n",
       "    </tr>\n",
       "    <tr>\n",
       "      <th>9</th>\n",
       "      <td>01011</td>\n",
       "      <td>21</td>\n",
       "      <td>650</td>\n",
       "      <td>34415</td>\n",
       "    </tr>\n",
       "  </tbody>\n",
       "</table>\n",
       "</div>"
      ],
      "text/plain": [
       "  zipcode  agi_stub     N02650       A02650\n",
       "0   00000      1071  147025470  10396138255\n",
       "1   01001        21       8980       512546\n",
       "2   01002        21       9490       817846\n",
       "3   01003        17        170         2474\n",
       "4   01005        21       2370       139610\n",
       "5   01007        21       7580       564832\n",
       "6   01008        21        660        43355\n",
       "7   01009        21        650        30807\n",
       "8   01010        21       1880       136250\n",
       "9   01011        21        650        34415"
      ]
     },
     "execution_count": 34,
     "metadata": {},
     "output_type": "execute_result"
    }
   ],
   "source": [
    "income_df_g.head(10)"
   ]
  },
  {
   "cell_type": "code",
   "execution_count": 35,
   "metadata": {
    "ExecuteTime": {
     "end_time": "2019-04-23T22:33:29.923625Z",
     "start_time": "2019-04-23T22:33:29.892378Z"
    }
   },
   "outputs": [],
   "source": [
    "income_df_g.loc[:,'gross_inc_filer'] = income_df_g['A02650']/income_df_g['N02650']*1000"
   ]
  },
  {
   "cell_type": "code",
   "execution_count": 36,
   "metadata": {
    "ExecuteTime": {
     "end_time": "2019-04-23T22:33:30.176243Z",
     "start_time": "2019-04-23T22:33:29.923625Z"
    }
   },
   "outputs": [
    {
     "data": {
      "text/html": [
       "<div>\n",
       "<style scoped>\n",
       "    .dataframe tbody tr th:only-of-type {\n",
       "        vertical-align: middle;\n",
       "    }\n",
       "\n",
       "    .dataframe tbody tr th {\n",
       "        vertical-align: top;\n",
       "    }\n",
       "\n",
       "    .dataframe thead th {\n",
       "        text-align: right;\n",
       "    }\n",
       "</style>\n",
       "<table border=\"1\" class=\"dataframe\">\n",
       "  <thead>\n",
       "    <tr style=\"text-align: right;\">\n",
       "      <th></th>\n",
       "      <th>zipcode</th>\n",
       "      <th>gross_inc_filer</th>\n",
       "    </tr>\n",
       "  </thead>\n",
       "  <tbody>\n",
       "    <tr>\n",
       "      <th>0</th>\n",
       "      <td>00000</td>\n",
       "      <td>70709.777394</td>\n",
       "    </tr>\n",
       "    <tr>\n",
       "      <th>1</th>\n",
       "      <td>01001</td>\n",
       "      <td>57076.391982</td>\n",
       "    </tr>\n",
       "  </tbody>\n",
       "</table>\n",
       "</div>"
      ],
      "text/plain": [
       "  zipcode  gross_inc_filer\n",
       "0   00000     70709.777394\n",
       "1   01001     57076.391982"
      ]
     },
     "execution_count": 36,
     "metadata": {},
     "output_type": "execute_result"
    }
   ],
   "source": [
    "inc_df = income_df_g.loc[:,['zipcode','gross_inc_filer']]\n",
    "inc_df.to_csv(\"x.csv\")\n",
    "inc_df.head(2)"
   ]
  },
  {
   "cell_type": "markdown",
   "metadata": {},
   "source": [
    "## Combine all dataframes"
   ]
  },
  {
   "cell_type": "code",
   "execution_count": 37,
   "metadata": {
    "ExecuteTime": {
     "end_time": "2019-04-23T22:33:30.223105Z",
     "start_time": "2019-04-23T22:33:30.176243Z"
    }
   },
   "outputs": [],
   "source": [
    "tf_index = pay_df_index.drop_duplicates()"
   ]
  },
  {
   "cell_type": "code",
   "execution_count": 38,
   "metadata": {
    "ExecuteTime": {
     "end_time": "2019-04-23T22:33:30.430227Z",
     "start_time": "2019-04-23T22:33:30.223105Z"
    },
    "scrolled": true
   },
   "outputs": [],
   "source": [
    "# Start with Index\n",
    "complete = tf_index\n",
    "\n",
    "list_of_df = [tf_value_split,tf_struct,tf_pay,tf_pay_l,tf_pay_h,general_df]\n",
    "for each in list_of_df:\n",
    "    each.loc[:,'Provider ID'] = each.loc[:,'Provider ID'].apply(str)\n",
    "for each in list_of_df:\n",
    "    complete = complete.merge(each,on=\"Provider ID\",how=\"left\")"
   ]
  },
  {
   "cell_type": "code",
   "execution_count": 39,
   "metadata": {
    "ExecuteTime": {
     "end_time": "2019-04-23T22:33:30.508333Z",
     "start_time": "2019-04-23T22:33:30.430227Z"
    }
   },
   "outputs": [],
   "source": [
    "# Pull in income\n",
    "complete = complete.merge(inc_df,left_on=\"ZIP Code\", right_on=\"zipcode\", how=\"left\")\n",
    "complete = complete.drop(\"zipcode\", axis=1)"
   ]
  },
  {
   "cell_type": "code",
   "execution_count": 40,
   "metadata": {
    "ExecuteTime": {
     "end_time": "2019-04-23T22:33:30.539574Z",
     "start_time": "2019-04-23T22:33:30.508333Z"
    }
   },
   "outputs": [],
   "source": [
    "complete.set_index(\"Provider ID\", inplace=True)"
   ]
  },
  {
   "cell_type": "code",
   "execution_count": 41,
   "metadata": {
    "ExecuteTime": {
     "end_time": "2019-04-23T22:33:30.586446Z",
     "start_time": "2019-04-23T22:33:30.539574Z"
    }
   },
   "outputs": [
    {
     "name": "stdout",
     "output_type": "stream",
     "text": [
      "<class 'pandas.core.frame.DataFrame'>\n",
      "Index: 4784 entries, 171312 to 150009\n",
      "Data columns (total 38 columns):\n",
      "Hospital name                                                                              4784 non-null object\n",
      "Address                                                                                    4784 non-null object\n",
      "City                                                                                       4784 non-null object\n",
      "State                                                                                      4784 non-null object\n",
      "ZIP Code                                                                                   4784 non-null object\n",
      "County name                                                                                4773 non-null object\n",
      "COMP_PAYM_90_HIP_KNEE_1                                                                    2735 non-null object\n",
      "COMP_PAYM_90_HIP_KNEE_2                                                                    2735 non-null object\n",
      "MORT_PAYM_30_HEART ATT_1                                                                   2272 non-null object\n",
      "MORT_PAYM_30_HEART ATT_2                                                                   2272 non-null object\n",
      "MORT_PAYM_30_HEART FAIL_1                                                                  3480 non-null object\n",
      "MORT_PAYM_30_HEART FAIL_2                                                                  3480 non-null object\n",
      "MORT_PAYM_30_PNEU_1                                                                        4020 non-null object\n",
      "MORT_PAYM_30_PNEU_2                                                                        4020 non-null object\n",
      "Able to receive lab results electronically                                                 3535 non-null object\n",
      "Able to track patients' lab results, tests, and referrals electronically between visits    3531 non-null object\n",
      "Patient Safety Culture                                                                     3577 non-null object\n",
      "Safe surgery checklist use (inpatient)                                                     3614 non-null object\n",
      "Safe surgery checklist use (outpatient)                                                    3561 non-null object\n",
      "Payment for heart attack patients - actual                                                 2274 non-null float64\n",
      "Payment for heart failure patients - actual                                                3487 non-null float64\n",
      "Payment for hip/knee replacement patients - actual                                         2735 non-null float64\n",
      "Payment for pneumonia patients - actual                                                    4022 non-null float64\n",
      "Payment for heart attack patients - lower                                                  2274 non-null float64\n",
      "Payment for heart failure patients - lower                                                 3487 non-null float64\n",
      "Payment for hip/knee replacement patients - lower                                          2735 non-null float64\n",
      "Payment for pneumonia patients - lower                                                     4022 non-null float64\n",
      "Payment for heart attack patients - higher                                                 2274 non-null float64\n",
      "Payment for heart failure patients - higher                                                3487 non-null float64\n",
      "Payment for hip/knee replacement patients - higher                                         2735 non-null float64\n",
      "Payment for pneumonia patients - higher                                                    4022 non-null float64\n",
      "Hospital Type                                                                              4051 non-null object\n",
      "Hospital Ownership                                                                         4051 non-null object\n",
      "Emergency Services                                                                         4051 non-null object\n",
      "Meets criteria for meaningful use of EHRs                                                  3901 non-null object\n",
      "Hospital overall rating                                                                    3122 non-null float64\n",
      "Mortality national comparison                                                              2874 non-null object\n",
      "gross_inc_filer                                                                            4563 non-null float64\n",
      "dtypes: float64(14), object(24)\n",
      "memory usage: 1.4+ MB\n"
     ]
    }
   ],
   "source": [
    "complete.info()"
   ]
  },
  {
   "cell_type": "code",
   "execution_count": 42,
   "metadata": {
    "ExecuteTime": {
     "end_time": "2019-04-23T22:33:30.773894Z",
     "start_time": "2019-04-23T22:33:30.586446Z"
    }
   },
   "outputs": [
    {
     "name": "stdout",
     "output_type": "stream",
     "text": [
      "All categorical fields:\n",
      "0 : Hospital name  :  (4600,)\n",
      "1 : Address  :  (4758,)\n",
      "2 : City  :  (2931,)\n",
      "3 : State  :  (56,)\n",
      "4 : ZIP Code  :  (4395,)\n",
      "5 : County name  :  (1558,)\n",
      "6 : COMP_PAYM_90_HIP_KNEE_1  :  (4,)\n",
      "7 : COMP_PAYM_90_HIP_KNEE_2  :  (4,)\n",
      "8 : MORT_PAYM_30_HEART ATT_1  :  (4,)\n",
      "9 : MORT_PAYM_30_HEART ATT_2  :  (4,)\n",
      "10 : MORT_PAYM_30_HEART FAIL_1  :  (4,)\n",
      "11 : MORT_PAYM_30_HEART FAIL_2  :  (4,)\n",
      "12 : MORT_PAYM_30_PNEU_1  :  (4,)\n",
      "13 : MORT_PAYM_30_PNEU_2  :  (4,)\n",
      "14 : Able to receive lab results electronically  :  (3,)\n",
      "15 : Able to track patients' lab results, tests, and referrals electronically between visits  :  (3,)\n",
      "16 : Patient Safety Culture  :  (3,)\n",
      "17 : Safe surgery checklist use (inpatient)  :  (3,)\n",
      "18 : Safe surgery checklist use (outpatient)  :  (3,)\n",
      "31 : Hospital Type  :  (4,)\n",
      "32 : Hospital Ownership  :  (12,)\n",
      "33 : Emergency Services  :  (3,)\n",
      "34 : Meets criteria for meaningful use of EHRs  :  (2,)\n",
      "36 : Mortality national comparison  :  (4,)\n"
     ]
    }
   ],
   "source": [
    "# Record the index for categorical fields\n",
    "cat_index = []\n",
    "\n",
    "print(\"All categorical fields:\")\n",
    "for col in complete: \n",
    "    if str(complete.loc[:,col].dtype).startswith((\"float\",'int'))== 0:\n",
    "        complete.loc[:,col] = complete.loc[:,col].astype(str)\n",
    "        cat_index.append(complete.columns.get_loc(col))\n",
    "        print(complete.columns.get_loc(col),\":\", col,\" : \",complete.loc[:,col].unique().shape)"
   ]
  },
  {
   "cell_type": "code",
   "execution_count": 43,
   "metadata": {
    "ExecuteTime": {
     "end_time": "2019-04-23T22:33:30.870442Z",
     "start_time": "2019-04-23T22:33:30.773894Z"
    }
   },
   "outputs": [
    {
     "name": "stdout",
     "output_type": "stream",
     "text": [
      "0 : Hospital name  - Unique values: 4600\n",
      "1 : Address  - Unique values: 4758\n",
      "2 : City  - Unique values: 2931\n",
      "3 : State  - Unique values: 56\n",
      "4 : ZIP Code  - Unique values: 4395\n",
      "5 : County name  - Unique values: 1558\n",
      "6 : COMP_PAYM_90_HIP_KNEE_1  - Unique values: 4\n",
      "7 : COMP_PAYM_90_HIP_KNEE_2  - Unique values: 4\n",
      "8 : MORT_PAYM_30_HEART ATT_1  - Unique values: 4\n",
      "9 : MORT_PAYM_30_HEART ATT_2  - Unique values: 4\n",
      "10 : MORT_PAYM_30_HEART FAIL_1  - Unique values: 4\n",
      "11 : MORT_PAYM_30_HEART FAIL_2  - Unique values: 4\n",
      "12 : MORT_PAYM_30_PNEU_1  - Unique values: 4\n",
      "13 : MORT_PAYM_30_PNEU_2  - Unique values: 4\n",
      "14 : Able to receive lab results electronically  - Unique values: 3\n",
      "15 : Able to track patients' lab results, tests, and referrals electronically between visits  - Unique values: 3\n",
      "16 : Patient Safety Culture  - Unique values: 3\n",
      "17 : Safe surgery checklist use (inpatient)  - Unique values: 3\n",
      "18 : Safe surgery checklist use (outpatient)  - Unique values: 3\n",
      "19 : Payment for heart attack patients - actual  - Unique values: 1851\n",
      "20 : Payment for heart failure patients - actual  - Unique values: 2471\n",
      "21 : Payment for hip/knee replacement patients - actual  - Unique values: 2342\n",
      "22 : Payment for pneumonia patients - actual  - Unique values: 2995\n",
      "23 : Payment for heart attack patients - lower  - Unique values: 1867\n",
      "24 : Payment for heart failure patients - lower  - Unique values: 2565\n",
      "25 : Payment for hip/knee replacement patients - lower  - Unique values: 2310\n",
      "26 : Payment for pneumonia patients - lower  - Unique values: 3065\n",
      "27 : Payment for heart attack patients - higher  - Unique values: 1939\n",
      "28 : Payment for heart failure patients - higher  - Unique values: 2607\n",
      "29 : Payment for hip/knee replacement patients - higher  - Unique values: 2396\n",
      "30 : Payment for pneumonia patients - higher  - Unique values: 3019\n",
      "31 : Hospital Type  - Unique values: 4\n",
      "32 : Hospital Ownership  - Unique values: 12\n",
      "33 : Emergency Services  - Unique values: 3\n",
      "34 : Meets criteria for meaningful use of EHRs  - Unique values: 2\n",
      "35 : Hospital overall rating  - Unique values: 6\n",
      "36 : Mortality national comparison  - Unique values: 4\n",
      "37 : gross_inc_filer  - Unique values: 4190\n"
     ]
    }
   ],
   "source": [
    "for col in complete: \n",
    "        print(complete.columns.get_loc(col),\":\", col,\" - Unique values:\",complete.loc[:,col].unique().shape[0])"
   ]
  },
  {
   "cell_type": "markdown",
   "metadata": {},
   "source": [
    "### Create a new dataframe to get it going "
   ]
  },
  {
   "cell_type": "code",
   "execution_count": 44,
   "metadata": {
    "ExecuteTime": {
     "end_time": "2019-04-23T22:33:30.928455Z",
     "start_time": "2019-04-23T22:33:30.870442Z"
    }
   },
   "outputs": [
    {
     "data": {
      "text/plain": [
       "Index(['Able to receive lab results electronically',\n",
       "       'Able to track patients' lab results, tests, and referrals electronically between visits',\n",
       "       'Emergency Services', 'Hospital Ownership', 'Hospital Type',\n",
       "       'Meets criteria for meaningful use of EHRs',\n",
       "       'Mortality national comparison', 'Patient Safety Culture',\n",
       "       'Safe surgery checklist use (inpatient)',\n",
       "       'Safe surgery checklist use (outpatient)', 'State'],\n",
       "      dtype='object')"
      ]
     },
     "execution_count": 44,
     "metadata": {},
     "output_type": "execute_result"
    }
   ],
   "source": [
    "# Create a copy of complete just to be safe\n",
    "df = complete.iloc[:, cat_index].copy()\n",
    "\n",
    "# Before doing one hot encoding, remove or handle features with too\n",
    "# many factors such as Hospital Name, Address, and Zip Code\n",
    "features = df[df.columns.difference(df.columns[6:14])]\n",
    "\n",
    "to_drop = [\"Hospital name\",\"Address\",\"ZIP Code\",\"County name\",\"City\"]\n",
    "features = features.drop(to_drop,axis=1)\n",
    "\n",
    "features.columns"
   ]
  },
  {
   "cell_type": "code",
   "execution_count": 45,
   "metadata": {
    "ExecuteTime": {
     "end_time": "2019-04-23T22:33:30.944076Z",
     "start_time": "2019-04-23T22:33:30.928455Z"
    }
   },
   "outputs": [],
   "source": [
    "# # https://scikit-learn.org/stable/modules/generated/sklearn.preprocessing.OneHotEncoder.html\n",
    "\n",
    "# from sklearn.preprocessing import OneHotEncoder\n",
    "# encoder = OneHotEncoder(handle_unknown='ignore')\n",
    "\n",
    "# features = encoder.fit_transform(features).toarray()"
   ]
  },
  {
   "cell_type": "code",
   "execution_count": 46,
   "metadata": {
    "ExecuteTime": {
     "end_time": "2019-04-23T22:33:31.006563Z",
     "start_time": "2019-04-23T22:33:30.944076Z"
    }
   },
   "outputs": [],
   "source": [
    "features = pd.get_dummies(features, dummy_na= True)"
   ]
  },
  {
   "cell_type": "code",
   "execution_count": 47,
   "metadata": {
    "ExecuteTime": {
     "end_time": "2019-04-23T22:33:31.022187Z",
     "start_time": "2019-04-23T22:33:31.006563Z"
    }
   },
   "outputs": [
    {
     "data": {
      "text/plain": [
       "(4784, 107)"
      ]
     },
     "execution_count": 47,
     "metadata": {},
     "output_type": "execute_result"
    }
   ],
   "source": [
    "features.head(1)\n",
    "features.shape"
   ]
  },
  {
   "cell_type": "code",
   "execution_count": 48,
   "metadata": {
    "ExecuteTime": {
     "end_time": "2019-04-23T22:33:31.049715Z",
     "start_time": "2019-04-23T22:33:31.036751Z"
    }
   },
   "outputs": [],
   "source": [
    "# # Create dummy variables of 0 and 1 as a way to on hot code categorical variables without any ordinal relationship\n",
    "# df_ohe = pd.get_dummies(df[df.columns[lst_to_onehot]],dummy_na=TRUE);"
   ]
  },
  {
   "cell_type": "markdown",
   "metadata": {},
   "source": [
    "## Develop B Naive Bayes to predict categories"
   ]
  },
  {
   "cell_type": "markdown",
   "metadata": {},
   "source": [
    "Try a dirty, fast model first:\n",
    "- Benolli Naive Bayes, for use with discrete features\n",
    "\n",
    "Then Random Tree\n",
    "- Indiscriminate as to scale\n",
    "\n",
    "Then Logistic Regression\n",
    "- Just to compare"
   ]
  },
  {
   "cell_type": "code",
   "execution_count": 49,
   "metadata": {
    "ExecuteTime": {
     "end_time": "2019-04-23T22:33:33.643170Z",
     "start_time": "2019-04-23T22:33:31.054702Z"
    }
   },
   "outputs": [
    {
     "data": {
      "image/png": "[encoded data removed]",
      "text/plain": [
       "<Figure size 720x720 with 2 Axes>"
      ]
     },
     "metadata": {},
     "output_type": "display_data"
    }
   ],
   "source": [
    "# TEST CORRLINEARILATIY \n",
    "corr = features.corr()\n",
    "\n",
    "plt.figure(figsize=(10,10))\n",
    "cmap = sns.diverging_palette(300, 10, as_cmap=True)\n",
    "sns.heatmap(corr,cmap=cmap, vmax=.3, center=0,\n",
    "            square=True, linewidths=.5, cbar_kws={\"shrink\": .2})\n",
    "# Find a correlation table that is less complicated visually\n",
    "plt.show()\n",
    "# This heatmap is for understanding colinearality "
   ]
  },
  {
   "cell_type": "markdown",
   "metadata": {},
   "source": [
    "Minimize highly correlated variables"
   ]
  },
  {
   "cell_type": "code",
   "execution_count": 50,
   "metadata": {
    "ExecuteTime": {
     "end_time": "2019-04-23T22:33:33.908701Z",
     "start_time": "2019-04-23T22:33:33.643170Z"
    }
   },
   "outputs": [],
   "source": [
    "# Select upper triangle of correlation matrix\n",
    "upper = corr.where(np.triu(np.ones(corr.shape), k=1).astype(np.bool))\n",
    "\n",
    "# Find index of feature columns with correlation greater than 0.95\n",
    "to_drop_corr = [column for column in upper.columns if any(upper[column] > 0.99)]\n",
    "\n",
    "# Then drop those columns\n",
    "features_fil = features.drop(to_drop_corr, axis=1)"
   ]
  },
  {
   "cell_type": "code",
   "execution_count": 51,
   "metadata": {
    "ExecuteTime": {
     "end_time": "2019-04-23T22:33:33.924322Z",
     "start_time": "2019-04-23T22:33:33.908701Z"
    }
   },
   "outputs": [
    {
     "name": "stdout",
     "output_type": "stream",
     "text": [
      "After filling null values and dropping highly correlated features, we have:\n",
      "(4784, 87) features, a drop from (4784, 107) in the original encoded feature set.\n"
     ]
    }
   ],
   "source": [
    "print(\"After filling null values and dropping highly correlated features, we have:\")\n",
    "print(features_fil.shape, \"features, a drop from\",features.shape, \"in the original encoded feature set.\")"
   ]
  },
  {
   "cell_type": "code",
   "execution_count": 52,
   "metadata": {
    "ExecuteTime": {
     "end_time": "2019-04-23T22:33:33.939944Z",
     "start_time": "2019-04-23T22:33:33.924322Z"
    }
   },
   "outputs": [],
   "source": [
    "# COMP_PAYM_90_HIP_KNEE_1                                                                    4784 non-null int32\n",
    "# COMP_PAYM_90_HIP_KNEE_2                                                                    4784 non-null int32\n",
    "# MORT_PAYM_30_HEART ATT_1                                                                   4784 non-null int32\n",
    "# MORT_PAYM_30_HEART ATT_2                                                                   4784 non-null int32\n",
    "# MORT_PAYM_30_HEART FAIL_1                                                                  4784 non-null int32\n",
    "# MORT_PAYM_30_HEART FAIL_2                                                                  4784 non-null int32\n",
    "# MORT_PAYM_30_PNEU_1                                                                        4784 non-null int32\n",
    "# MORT_PAYM_30_PNEU_2"
   ]
  },
  {
   "cell_type": "code",
   "execution_count": 53,
   "metadata": {
    "ExecuteTime": {
     "end_time": "2019-04-23T22:33:33.955566Z",
     "start_time": "2019-04-23T22:33:33.939944Z"
    }
   },
   "outputs": [],
   "source": [
    "# PUT TARGET HERE\n",
    "le = LabelEncoder()\n",
    "labels = le.fit_transform(df.loc[:,\"MORT_PAYM_30_PNEU_2\"])"
   ]
  },
  {
   "cell_type": "code",
   "execution_count": 54,
   "metadata": {
    "ExecuteTime": {
     "end_time": "2019-04-23T22:33:33.986808Z",
     "start_time": "2019-04-23T22:33:33.955566Z"
    }
   },
   "outputs": [
    {
     "name": "stdout",
     "output_type": "stream",
     "text": [
      "{' average payment': 0, ' higher payment': 1, ' lower payment': 2, 'nan': 3}\n"
     ]
    }
   ],
   "source": [
    "# Create a dictionary that can be related to later\n",
    "le_name_mapping = dict(zip(le.classes_, le.transform(le.classes_)))\n",
    "print(le_name_mapping)"
   ]
  },
  {
   "cell_type": "code",
   "execution_count": 55,
   "metadata": {
    "ExecuteTime": {
     "end_time": "2019-04-23T22:33:34.033674Z",
     "start_time": "2019-04-23T22:33:33.986808Z"
    }
   },
   "outputs": [],
   "source": [
    "from sklearn.model_selection import train_test_split\n",
    "train_features, test_features, train_labels, test_labels = train_test_split(features_fil, labels, test_size = 0.15, random_state = 42)"
   ]
  },
  {
   "cell_type": "code",
   "execution_count": 56,
   "metadata": {
    "ExecuteTime": {
     "end_time": "2019-04-23T22:33:34.052211Z",
     "start_time": "2019-04-23T22:33:34.033674Z"
    }
   },
   "outputs": [
    {
     "name": "stdout",
     "output_type": "stream",
     "text": [
      "(4066, 87)\n",
      "(4066,)\n",
      "(718, 87)\n",
      "(718,)\n"
     ]
    }
   ],
   "source": [
    "print(train_features.shape)\n",
    "print(train_labels.shape)\n",
    "\n",
    "print(test_features.shape)\n",
    "print(test_labels.shape)"
   ]
  },
  {
   "cell_type": "code",
   "execution_count": 57,
   "metadata": {
    "ExecuteTime": {
     "end_time": "2019-04-23T22:33:34.071159Z",
     "start_time": "2019-04-23T22:33:34.055232Z"
    }
   },
   "outputs": [],
   "source": [
    "# train_features.as_matrix()[0]"
   ]
  },
  {
   "cell_type": "code",
   "execution_count": 58,
   "metadata": {
    "ExecuteTime": {
     "end_time": "2019-04-23T22:33:34.112012Z",
     "start_time": "2019-04-23T22:33:34.074152Z"
    }
   },
   "outputs": [
    {
     "data": {
      "text/plain": [
       "BernoulliNB(alpha=1.0, binarize=0.0, class_prior=None, fit_prior=True)"
      ]
     },
     "execution_count": 58,
     "metadata": {},
     "output_type": "execute_result"
    }
   ],
   "source": [
    "bernoulli_NB = BernoulliNB()\n",
    "bernoulli_NB.fit(train_features,train_labels)"
   ]
  },
  {
   "cell_type": "code",
   "execution_count": 59,
   "metadata": {
    "ExecuteTime": {
     "end_time": "2019-04-23T22:33:34.143256Z",
     "start_time": "2019-04-23T22:33:34.112012Z"
    }
   },
   "outputs": [],
   "source": [
    "predicted_labels = bernoulli_NB.predict(test_features)\n",
    "predicted_probability = bernoulli_NB.predict_proba(test_features)"
   ]
  },
  {
   "cell_type": "code",
   "execution_count": 60,
   "metadata": {
    "ExecuteTime": {
     "end_time": "2019-04-23T22:33:34.174498Z",
     "start_time": "2019-04-23T22:33:34.143256Z"
    }
   },
   "outputs": [
    {
     "name": "stdout",
     "output_type": "stream",
     "text": [
      "              precision    recall  f1-score   support\n",
      "\n",
      "           0       0.57      0.61      0.59       334\n",
      "           1       0.34      0.46      0.39       114\n",
      "           2       0.40      0.04      0.07       152\n",
      "           3       0.48      0.81      0.61       118\n",
      "\n",
      "   micro avg       0.50      0.50      0.50       718\n",
      "   macro avg       0.45      0.48      0.41       718\n",
      "weighted avg       0.49      0.50      0.45       718\n",
      "\n"
     ]
    }
   ],
   "source": [
    "# Use classification_report to compare the test labels (what we know to be true) and the predicted labels generated by\n",
    "# the B Naive Bayes\n",
    "print(metrics.classification_report(test_labels, predicted_labels))"
   ]
  },
  {
   "cell_type": "code",
   "execution_count": 61,
   "metadata": {
    "ExecuteTime": {
     "end_time": "2019-04-23T22:33:34.205742Z",
     "start_time": "2019-04-23T22:33:34.174498Z"
    }
   },
   "outputs": [
    {
     "name": "stdout",
     "output_type": "stream",
     "text": [
      "[[203  70   6  55]\n",
      " [ 45  52   1  16]\n",
      " [ 97  19   6  30]\n",
      " [  9  12   2  95]]\n"
     ]
    }
   ],
   "source": [
    "print(metrics.confusion_matrix(test_labels, predicted_labels))"
   ]
  },
  {
   "cell_type": "code",
   "execution_count": 62,
   "metadata": {
    "ExecuteTime": {
     "end_time": "2019-04-23T22:33:34.221362Z",
     "start_time": "2019-04-23T22:33:34.205742Z"
    }
   },
   "outputs": [],
   "source": [
    "from sklearn import metrics"
   ]
  },
  {
   "cell_type": "code",
   "execution_count": 63,
   "metadata": {
    "ExecuteTime": {
     "end_time": "2019-04-23T22:33:34.236983Z",
     "start_time": "2019-04-23T22:33:34.221362Z"
    }
   },
   "outputs": [
    {
     "name": "stdout",
     "output_type": "stream",
     "text": [
      "Accuracy: 0.4958217270194986\n"
     ]
    }
   ],
   "source": [
    "print(\"Accuracy:\",metrics.accuracy_score(predicted_labels, test_labels))"
   ]
  },
  {
   "cell_type": "markdown",
   "metadata": {
    "ExecuteTime": {
     "end_time": "2019-04-23T07:36:26.413785Z",
     "start_time": "2019-04-23T07:36:26.406802Z"
    }
   },
   "source": [
    "> B Naive Bayes is a Poor predictor"
   ]
  },
  {
   "cell_type": "markdown",
   "metadata": {
    "tags": [
     "bookmark"
    ]
   },
   "source": [
    "## Develop Random Forest model to predict hospital ratings "
   ]
  },
  {
   "cell_type": "code",
   "execution_count": 64,
   "metadata": {
    "ExecuteTime": {
     "end_time": "2019-04-23T22:33:34.268226Z",
     "start_time": "2019-04-23T22:33:34.236983Z"
    }
   },
   "outputs": [
    {
     "data": {
      "text/plain": [
       "Index(['Payment for heart attack patients - actual',\n",
       "       'Payment for heart failure patients - actual',\n",
       "       'Payment for hip/knee replacement patients - actual',\n",
       "       'Payment for pneumonia patients - actual',\n",
       "       'Payment for heart attack patients - lower',\n",
       "       'Payment for heart failure patients - lower',\n",
       "       'Payment for hip/knee replacement patients - lower',\n",
       "       'Payment for pneumonia patients - lower',\n",
       "       'Payment for heart attack patients - higher',\n",
       "       'Payment for heart failure patients - higher',\n",
       "       'Payment for hip/knee replacement patients - higher',\n",
       "       'Payment for pneumonia patients - higher'],\n",
       "      dtype='object')"
      ]
     },
     "execution_count": 64,
     "metadata": {},
     "output_type": "execute_result"
    }
   ],
   "source": [
    "complete.iloc[:,19:31].columns"
   ]
  },
  {
   "cell_type": "code",
   "execution_count": 65,
   "metadata": {
    "ExecuteTime": {
     "end_time": "2019-04-23T22:33:34.283848Z",
     "start_time": "2019-04-23T22:33:34.268226Z"
    }
   },
   "outputs": [],
   "source": [
    "target = 'Hospital overall rating'"
   ]
  },
  {
   "cell_type": "code",
   "execution_count": 66,
   "metadata": {
    "ExecuteTime": {
     "end_time": "2019-04-23T22:33:34.299469Z",
     "start_time": "2019-04-23T22:33:34.283848Z"
    }
   },
   "outputs": [],
   "source": [
    "# "
   ]
  },
  {
   "cell_type": "code",
   "execution_count": 67,
   "metadata": {
    "ExecuteTime": {
     "end_time": "2019-04-23T22:33:34.346331Z",
     "start_time": "2019-04-23T22:33:34.299469Z"
    },
    "slideshow": {
     "slide_type": "fragment"
    }
   },
   "outputs": [],
   "source": [
    "# Create a copy of complete just to be safe\n",
    "df_2 = complete.iloc[:, cat_index]\n",
    "df_2 = pd.concat([df_2,complete.iloc[:,19:31]],axis=1)\n",
    "df_2 = pd.concat([df_2,complete[target]],axis=1)\n",
    "df_2 = pd.concat([df_2,complete['gross_inc_filer']],axis=1)\n",
    "\n",
    "# Watch out for those nan which are not nan\n",
    "df_2 = df_2.dropna(how=\"any\").copy()"
   ]
  },
  {
   "cell_type": "code",
   "execution_count": 68,
   "metadata": {
    "ExecuteTime": {
     "end_time": "2019-04-23T22:33:34.361952Z",
     "start_time": "2019-04-23T22:33:34.346331Z"
    }
   },
   "outputs": [],
   "source": [
    "labels = df_2.loc[:,target].astype(int)"
   ]
  },
  {
   "cell_type": "code",
   "execution_count": 69,
   "metadata": {
    "ExecuteTime": {
     "end_time": "2019-04-23T22:33:34.377575Z",
     "start_time": "2019-04-23T22:33:34.361952Z"
    }
   },
   "outputs": [],
   "source": [
    "# labels.value_counts()"
   ]
  },
  {
   "cell_type": "code",
   "execution_count": 70,
   "metadata": {
    "ExecuteTime": {
     "end_time": "2019-04-23T22:33:34.442605Z",
     "start_time": "2019-04-23T22:33:34.381267Z"
    },
    "slideshow": {
     "slide_type": "fragment"
    }
   },
   "outputs": [],
   "source": [
    "# Before doing one hot encoding, remove or handle features with too\n",
    "# many factors such as Hospital Name, Address, and Zip Code\n",
    "features = df_2[df_2.columns.difference(df_2.columns[6:14])]\n",
    "to_drop = [\"Hospital name\",\"Address\",\"ZIP Code\",\"County name\",\"City\"]\n",
    "features = features.drop(to_drop,axis=1)\n",
    "features = features.drop(target,axis=1)\n",
    "\n",
    "# Finally, turn into dummies vars\n",
    "features = pd.get_dummies(features, dummy_na= True)\n",
    "\n",
    "# features.info()"
   ]
  },
  {
   "cell_type": "code",
   "execution_count": 71,
   "metadata": {
    "ExecuteTime": {
     "end_time": "2019-04-23T22:33:34.473849Z",
     "start_time": "2019-04-23T22:33:34.442605Z"
    }
   },
   "outputs": [],
   "source": [
    "train_features, test_features, train_labels, test_labels = train_test_split(features, labels, test_size = 0.15, random_state = 42)"
   ]
  },
  {
   "cell_type": "code",
   "execution_count": 72,
   "metadata": {
    "ExecuteTime": {
     "end_time": "2019-04-23T22:33:34.661304Z",
     "start_time": "2019-04-23T22:33:34.473849Z"
    }
   },
   "outputs": [],
   "source": [
    "from sklearn.ensemble import RandomForestClassifier\n",
    "rf = RandomForestClassifier(n_estimators = 200, random_state = 42)"
   ]
  },
  {
   "cell_type": "code",
   "execution_count": 73,
   "metadata": {
    "ExecuteTime": {
     "end_time": "2019-04-23T22:33:35.460005Z",
     "start_time": "2019-04-23T22:33:34.661304Z"
    }
   },
   "outputs": [
    {
     "data": {
      "text/plain": [
       "RandomForestClassifier(bootstrap=True, class_weight=None, criterion='gini',\n",
       "            max_depth=None, max_features='auto', max_leaf_nodes=None,\n",
       "            min_impurity_decrease=0.0, min_impurity_split=None,\n",
       "            min_samples_leaf=1, min_samples_split=2,\n",
       "            min_weight_fraction_leaf=0.0, n_estimators=200, n_jobs=None,\n",
       "            oob_score=False, random_state=42, verbose=0, warm_start=False)"
      ]
     },
     "execution_count": 73,
     "metadata": {},
     "output_type": "execute_result"
    }
   ],
   "source": [
    "rf.fit(train_features, train_labels)"
   ]
  },
  {
   "cell_type": "code",
   "execution_count": 74,
   "metadata": {
    "ExecuteTime": {
     "end_time": "2019-04-23T22:33:35.538119Z",
     "start_time": "2019-04-23T22:33:35.460005Z"
    }
   },
   "outputs": [],
   "source": [
    "predicted_labels = rf.predict(test_features)"
   ]
  },
  {
   "cell_type": "code",
   "execution_count": 75,
   "metadata": {
    "ExecuteTime": {
     "end_time": "2019-04-23T22:33:35.569355Z",
     "start_time": "2019-04-23T22:33:35.538119Z"
    }
   },
   "outputs": [
    {
     "name": "stdout",
     "output_type": "stream",
     "text": [
      "              precision    recall  f1-score   support\n",
      "\n",
      "           1       0.33      0.07      0.12        28\n",
      "           2       0.36      0.39      0.37        64\n",
      "           3       0.37      0.48      0.42        69\n",
      "           4       0.34      0.36      0.35        58\n",
      "           5       0.11      0.06      0.08        17\n",
      "\n",
      "   micro avg       0.35      0.35      0.35       236\n",
      "   macro avg       0.30      0.27      0.27       236\n",
      "weighted avg       0.34      0.35      0.33       236\n",
      "\n"
     ]
    }
   ],
   "source": [
    "print(metrics.classification_report(test_labels, predicted_labels))"
   ]
  },
  {
   "cell_type": "code",
   "execution_count": 76,
   "metadata": {
    "ExecuteTime": {
     "end_time": "2019-04-23T22:33:35.600606Z",
     "start_time": "2019-04-23T22:33:35.569355Z"
    }
   },
   "outputs": [
    {
     "name": "stdout",
     "output_type": "stream",
     "text": [
      "Accuracy: 0.3474576271186441\n"
     ]
    }
   ],
   "source": [
    "print(\"Accuracy:\",metrics.accuracy_score(predicted_labels, test_labels))"
   ]
  },
  {
   "cell_type": "code",
   "execution_count": 77,
   "metadata": {
    "ExecuteTime": {
     "end_time": "2019-04-23T22:33:35.694324Z",
     "start_time": "2019-04-23T22:33:35.600606Z"
    }
   },
   "outputs": [
    {
     "name": "stdout",
     "output_type": "stream",
     "text": [
      "Variable: Payment for heart attack patients - actual  ---  Importance: 0.06\n",
      "Variable: Payment for heart attack patients - higher  ---  Importance: 0.06\n",
      "Variable: Payment for heart attack patients - lower  ---  Importance: 0.06\n",
      "Variable: Payment for heart failure patients - actual  ---  Importance: 0.06\n",
      "Variable: Payment for heart failure patients - higher  ---  Importance: 0.06\n",
      "Variable: Payment for heart failure patients - lower  ---  Importance: 0.06\n",
      "Variable: Payment for hip/knee replacement patients - actual  ---  Importance: 0.06\n",
      "Variable: Payment for hip/knee replacement patients - higher  ---  Importance: 0.06\n",
      "Variable: Payment for hip/knee replacement patients - lower  ---  Importance: 0.06\n",
      "Variable: Payment for pneumonia patients - actual  ---  Importance: 0.06\n",
      "Variable: Payment for pneumonia patients - higher  ---  Importance: 0.06\n",
      "Variable: Payment for pneumonia patients - lower  ---  Importance: 0.06\n",
      "Variable: gross_inc_filer       ---  Importance: 0.06\n",
      "Variable: Hospital Ownership_Proprietary  ---  Importance: 0.01\n",
      "Variable: Hospital Ownership_Voluntary non-profit - Church  ---  Importance: 0.01\n",
      "Variable: Hospital Ownership_Voluntary non-profit - Other  ---  Importance: 0.01\n",
      "Variable: Hospital Ownership_Voluntary non-profit - Private  ---  Importance: 0.01\n",
      "Variable: Mortality national comparison_Above the national average  ---  Importance: 0.01\n",
      "Variable: Mortality national comparison_Below the national average  ---  Importance: 0.01\n",
      "Variable: Mortality national comparison_Same as the national average  ---  Importance: 0.01\n",
      "Variable: Patient Safety Culture_No  ---  Importance: 0.01\n",
      "Variable: Patient Safety Culture_Yes  ---  Importance: 0.01\n",
      "Variable: State_FL              ---  Importance: 0.01\n",
      "Variable: State_IL              ---  Importance: 0.01\n",
      "Variable: State_NY              ---  Importance: 0.01\n",
      "Variable: State_OH              ---  Importance: 0.01\n",
      "Variable: State_PA              ---  Importance: 0.01\n",
      "Variable: State_TX              ---  Importance: 0.01\n",
      "Variable: State_WI              ---  Importance: 0.01\n",
      "Variable: Able to receive lab results electronically_No  ---  Importance: 0.0\n",
      "Variable: Able to receive lab results electronically_Yes  ---  Importance: 0.0\n",
      "Variable: Able to receive lab results electronically_nan  ---  Importance: 0.0\n",
      "Variable: Able to receive lab results electronically_nan  ---  Importance: 0.0\n",
      "Variable: Able to track patients' lab results, tests, and referrals electronically between visits_No  ---  Importance: 0.0\n",
      "Variable: Able to track patients' lab results, tests, and referrals electronically between visits_Yes  ---  Importance: 0.0\n",
      "Variable: Able to track patients' lab results, tests, and referrals electronically between visits_nan  ---  Importance: 0.0\n",
      "Variable: Able to track patients' lab results, tests, and referrals electronically between visits_nan  ---  Importance: 0.0\n",
      "Variable: Emergency Services_False  ---  Importance: 0.0\n",
      "Variable: Emergency Services_True  ---  Importance: 0.0\n",
      "Variable: Emergency Services_nan  ---  Importance: 0.0\n",
      "Variable: Hospital Ownership_Government - Federal  ---  Importance: 0.0\n",
      "Variable: Hospital Ownership_Government - Hospital District or Authority  ---  Importance: 0.0\n",
      "Variable: Hospital Ownership_Government - Local  ---  Importance: 0.0\n",
      "Variable: Hospital Ownership_Government - State  ---  Importance: 0.0\n",
      "Variable: Hospital Ownership_Physician  ---  Importance: 0.0\n",
      "Variable: Hospital Ownership_nan  ---  Importance: 0.0\n",
      "Variable: Hospital Type_Acute Care Hospitals  ---  Importance: 0.0\n",
      "Variable: Hospital Type_Critical Access Hospitals  ---  Importance: 0.0\n",
      "Variable: Hospital Type_nan     ---  Importance: 0.0\n",
      "Variable: Meets criteria for meaningful use of EHRs_True  ---  Importance: 0.0\n",
      "Variable: Meets criteria for meaningful use of EHRs_nan  ---  Importance: 0.0\n",
      "Variable: Meets criteria for meaningful use of EHRs_nan  ---  Importance: 0.0\n",
      "Variable: Mortality national comparison_nan  ---  Importance: 0.0\n",
      "Variable: Patient Safety Culture_nan  ---  Importance: 0.0\n",
      "Variable: Patient Safety Culture_nan  ---  Importance: 0.0\n",
      "Variable: Safe surgery checklist use (inpatient)_No  ---  Importance: 0.0\n",
      "Variable: Safe surgery checklist use (inpatient)_Yes  ---  Importance: 0.0\n",
      "Variable: Safe surgery checklist use (inpatient)_nan  ---  Importance: 0.0\n",
      "Variable: Safe surgery checklist use (inpatient)_nan  ---  Importance: 0.0\n",
      "Variable: Safe surgery checklist use (outpatient)_No  ---  Importance: 0.0\n",
      "Variable: Safe surgery checklist use (outpatient)_Yes  ---  Importance: 0.0\n",
      "Variable: Safe surgery checklist use (outpatient)_nan  ---  Importance: 0.0\n",
      "Variable: Safe surgery checklist use (outpatient)_nan  ---  Importance: 0.0\n",
      "Variable: State_GA              ---  Importance: 0.0\n",
      "Variable: State_HI              ---  Importance: 0.0\n",
      "Variable: State_IA              ---  Importance: 0.0\n",
      "Variable: State_ID              ---  Importance: 0.0\n",
      "Variable: State_IN              ---  Importance: 0.0\n",
      "Variable: State_KS              ---  Importance: 0.0\n",
      "Variable: State_KY              ---  Importance: 0.0\n",
      "Variable: State_LA              ---  Importance: 0.0\n",
      "Variable: State_MA              ---  Importance: 0.0\n",
      "Variable: State_MD              ---  Importance: 0.0\n",
      "Variable: State_ME              ---  Importance: 0.0\n",
      "Variable: State_MI              ---  Importance: 0.0\n",
      "Variable: State_MN              ---  Importance: 0.0\n",
      "Variable: State_MO              ---  Importance: 0.0\n",
      "Variable: State_MS              ---  Importance: 0.0\n",
      "Variable: State_MT              ---  Importance: 0.0\n",
      "Variable: State_NC              ---  Importance: 0.0\n",
      "Variable: State_ND              ---  Importance: 0.0\n",
      "Variable: State_NE              ---  Importance: 0.0\n",
      "Variable: State_NH              ---  Importance: 0.0\n",
      "Variable: State_NJ              ---  Importance: 0.0\n",
      "Variable: State_NM              ---  Importance: 0.0\n",
      "Variable: State_NV              ---  Importance: 0.0\n",
      "Variable: State_OK              ---  Importance: 0.0\n",
      "Variable: State_OR              ---  Importance: 0.0\n",
      "Variable: State_RI              ---  Importance: 0.0\n",
      "Variable: State_SC              ---  Importance: 0.0\n",
      "Variable: State_SD              ---  Importance: 0.0\n",
      "Variable: State_TN              ---  Importance: 0.0\n",
      "Variable: State_UT              ---  Importance: 0.0\n",
      "Variable: State_VA              ---  Importance: 0.0\n",
      "Variable: State_VT              ---  Importance: 0.0\n",
      "Variable: State_WA              ---  Importance: 0.0\n",
      "Variable: State_WV              ---  Importance: 0.0\n",
      "Variable: State_WY              ---  Importance: 0.0\n",
      "Variable: State_nan             ---  Importance: 0.0\n"
     ]
    }
   ],
   "source": [
    "# Get numerical feature importances\n",
    "importances = list(rf.feature_importances_)\n",
    "feature_list = list(features.columns)\n",
    "\n",
    "# List of tuples with variable and importance\n",
    "feature_importances = [(feature, round(importance, 2)) for feature, importance in zip(feature_list, importances)]\n",
    "\n",
    "# Sort the feature importances by most important first\n",
    "feature_importances = sorted(feature_importances, key = lambda x: x[1], reverse = True)\n",
    "\n",
    "# Print out the feature and importances \n",
    "[print('Variable: {:20}  ---  Importance: {}'.format(*pair)) for pair in feature_importances];"
   ]
  },
  {
   "cell_type": "markdown",
   "metadata": {},
   "source": [
    "### Model Results"
   ]
  },
  {
   "cell_type": "markdown",
   "metadata": {},
   "source": [
    "B Bayes works relatively bad with Predicting the following:\n",
    "- Complications due to Hip Replacement - COMP_PAYM_90_HIP_KNEE_1\n",
    "- Payment to patients for Hip Replacement - COMP_PAYM_90_HIP_KNEE_2\n",
    "- Mortality for patients due to Heart failure - MORT_PAYM_30_HEART FAIL_1 \n",
    "- Payment to patients for Heart failure - MORT_PAYM_30_HEART FAIL_2 \n",
    "- Mortality for patients due to Pneumonia - MORT_PAYM_30_PNEU_1 \n",
    "- Payment to patients for Pneumonia - MORT_PAYM_30_PNEU_2"
   ]
  },
  {
   "cell_type": "markdown",
   "metadata": {},
   "source": [
    "## Train a Logit model"
   ]
  },
  {
   "cell_type": "code",
   "execution_count": 78,
   "metadata": {
    "ExecuteTime": {
     "end_time": "2019-04-23T22:33:35.741190Z",
     "start_time": "2019-04-23T22:33:35.694324Z"
    }
   },
   "outputs": [
    {
     "name": "stdout",
     "output_type": "stream",
     "text": [
      "<class 'pandas.core.frame.DataFrame'>\n",
      "Index: 1573 entries, 330049 to 150009\n",
      "Data columns (total 13 columns):\n",
      "Payment for heart attack patients - actual            1573 non-null float64\n",
      "Payment for heart attack patients - higher            1573 non-null float64\n",
      "Payment for heart attack patients - lower             1573 non-null float64\n",
      "Payment for heart failure patients - actual           1573 non-null float64\n",
      "Payment for heart failure patients - higher           1573 non-null float64\n",
      "Payment for heart failure patients - lower            1573 non-null float64\n",
      "Payment for hip/knee replacement patients - actual    1573 non-null float64\n",
      "Payment for hip/knee replacement patients - higher    1573 non-null float64\n",
      "Payment for hip/knee replacement patients - lower     1573 non-null float64\n",
      "Payment for pneumonia patients - actual               1573 non-null float64\n",
      "Payment for pneumonia patients - higher               1573 non-null float64\n",
      "Payment for pneumonia patients - lower                1573 non-null float64\n",
      "gross_inc_filer                                       1573 non-null float64\n",
      "dtypes: float64(13)\n",
      "memory usage: 212.0+ KB\n"
     ]
    }
   ],
   "source": [
    "# Prevent continuous variables from skewing results\n",
    "from sklearn.preprocessing import MinMaxScaler\n",
    "\n",
    "mi_max = MinMaxScaler()\n",
    "\n",
    "features_float = features.select_dtypes(include=['float64'])\n",
    "float_list = list(features_float.columns)\n",
    "features_float.head(2)\n",
    "features_float.info()"
   ]
  },
  {
   "cell_type": "code",
   "execution_count": 79,
   "metadata": {
    "ExecuteTime": {
     "end_time": "2019-04-23T22:33:35.772433Z",
     "start_time": "2019-04-23T22:33:35.741190Z"
    }
   },
   "outputs": [
    {
     "data": {
      "text/plain": [
       "(1573, 14)"
      ]
     },
     "execution_count": 79,
     "metadata": {},
     "output_type": "execute_result"
    }
   ],
   "source": [
    "features_float_scaled = pd.DataFrame(mi_max.fit_transform(features_float),columns=float_list).reset_index()\n",
    "features_float_scaled.head(5)\n",
    "features_float_scaled.shape"
   ]
  },
  {
   "cell_type": "code",
   "execution_count": 80,
   "metadata": {
    "ExecuteTime": {
     "end_time": "2019-04-23T22:33:35.834916Z",
     "start_time": "2019-04-23T22:33:35.772433Z"
    }
   },
   "outputs": [
    {
     "data": {
      "text/plain": [
       "(1573, 87)"
      ]
     },
     "execution_count": 80,
     "metadata": {},
     "output_type": "execute_result"
    }
   ],
   "source": [
    "features_non_float = features.select_dtypes(exclude=['float64']).reset_index()\n",
    "features_non_float.head(4)\n",
    "features_non_float.shape"
   ]
  },
  {
   "cell_type": "code",
   "execution_count": 81,
   "metadata": {
    "ExecuteTime": {
     "end_time": "2019-04-23T22:33:35.881781Z",
     "start_time": "2019-04-23T22:33:35.834916Z"
    }
   },
   "outputs": [
    {
     "data": {
      "text/html": [
       "<div>\n",
       "<style scoped>\n",
       "    .dataframe tbody tr th:only-of-type {\n",
       "        vertical-align: middle;\n",
       "    }\n",
       "\n",
       "    .dataframe tbody tr th {\n",
       "        vertical-align: top;\n",
       "    }\n",
       "\n",
       "    .dataframe thead th {\n",
       "        text-align: right;\n",
       "    }\n",
       "</style>\n",
       "<table border=\"1\" class=\"dataframe\">\n",
       "  <thead>\n",
       "    <tr style=\"text-align: right;\">\n",
       "      <th></th>\n",
       "      <th>Able to receive lab results electronically_No</th>\n",
       "      <th>Able to receive lab results electronically_Yes</th>\n",
       "      <th>Able to receive lab results electronically_nan</th>\n",
       "      <th>Able to receive lab results electronically_nan</th>\n",
       "      <th>Able to track patients' lab results, tests, and referrals electronically between visits_No</th>\n",
       "      <th>Able to track patients' lab results, tests, and referrals electronically between visits_Yes</th>\n",
       "      <th>Able to track patients' lab results, tests, and referrals electronically between visits_nan</th>\n",
       "      <th>Able to track patients' lab results, tests, and referrals electronically between visits_nan</th>\n",
       "      <th>Emergency Services_False</th>\n",
       "      <th>Emergency Services_True</th>\n",
       "      <th>...</th>\n",
       "      <th>Payment for heart failure patients - actual</th>\n",
       "      <th>Payment for heart failure patients - higher</th>\n",
       "      <th>Payment for heart failure patients - lower</th>\n",
       "      <th>Payment for hip/knee replacement patients - actual</th>\n",
       "      <th>Payment for hip/knee replacement patients - higher</th>\n",
       "      <th>Payment for hip/knee replacement patients - lower</th>\n",
       "      <th>Payment for pneumonia patients - actual</th>\n",
       "      <th>Payment for pneumonia patients - higher</th>\n",
       "      <th>Payment for pneumonia patients - lower</th>\n",
       "      <th>gross_inc_filer</th>\n",
       "    </tr>\n",
       "  </thead>\n",
       "  <tbody>\n",
       "    <tr>\n",
       "      <th>0</th>\n",
       "      <td>0</td>\n",
       "      <td>1</td>\n",
       "      <td>0</td>\n",
       "      <td>0</td>\n",
       "      <td>0</td>\n",
       "      <td>1</td>\n",
       "      <td>0</td>\n",
       "      <td>0</td>\n",
       "      <td>0</td>\n",
       "      <td>1</td>\n",
       "      <td>...</td>\n",
       "      <td>0.388817</td>\n",
       "      <td>0.393675</td>\n",
       "      <td>0.390426</td>\n",
       "      <td>0.135670</td>\n",
       "      <td>0.112783</td>\n",
       "      <td>0.146545</td>\n",
       "      <td>0.282894</td>\n",
       "      <td>0.255330</td>\n",
       "      <td>0.314370</td>\n",
       "      <td>0.188685</td>\n",
       "    </tr>\n",
       "    <tr>\n",
       "      <th>1</th>\n",
       "      <td>0</td>\n",
       "      <td>1</td>\n",
       "      <td>0</td>\n",
       "      <td>0</td>\n",
       "      <td>0</td>\n",
       "      <td>1</td>\n",
       "      <td>0</td>\n",
       "      <td>0</td>\n",
       "      <td>0</td>\n",
       "      <td>1</td>\n",
       "      <td>...</td>\n",
       "      <td>0.493239</td>\n",
       "      <td>0.423263</td>\n",
       "      <td>0.568827</td>\n",
       "      <td>0.589452</td>\n",
       "      <td>0.527197</td>\n",
       "      <td>0.593812</td>\n",
       "      <td>0.515802</td>\n",
       "      <td>0.431107</td>\n",
       "      <td>0.614973</td>\n",
       "      <td>0.036577</td>\n",
       "    </tr>\n",
       "    <tr>\n",
       "      <th>2</th>\n",
       "      <td>0</td>\n",
       "      <td>1</td>\n",
       "      <td>0</td>\n",
       "      <td>0</td>\n",
       "      <td>0</td>\n",
       "      <td>1</td>\n",
       "      <td>0</td>\n",
       "      <td>0</td>\n",
       "      <td>0</td>\n",
       "      <td>1</td>\n",
       "      <td>...</td>\n",
       "      <td>0.011483</td>\n",
       "      <td>0.011641</td>\n",
       "      <td>0.013076</td>\n",
       "      <td>0.325077</td>\n",
       "      <td>0.335950</td>\n",
       "      <td>0.278289</td>\n",
       "      <td>0.023273</td>\n",
       "      <td>0.019162</td>\n",
       "      <td>0.058132</td>\n",
       "      <td>0.081552</td>\n",
       "    </tr>\n",
       "    <tr>\n",
       "      <th>3</th>\n",
       "      <td>0</td>\n",
       "      <td>1</td>\n",
       "      <td>0</td>\n",
       "      <td>0</td>\n",
       "      <td>0</td>\n",
       "      <td>1</td>\n",
       "      <td>0</td>\n",
       "      <td>0</td>\n",
       "      <td>0</td>\n",
       "      <td>1</td>\n",
       "      <td>...</td>\n",
       "      <td>0.243936</td>\n",
       "      <td>0.222255</td>\n",
       "      <td>0.277875</td>\n",
       "      <td>0.418123</td>\n",
       "      <td>0.388839</td>\n",
       "      <td>0.401585</td>\n",
       "      <td>0.400887</td>\n",
       "      <td>0.398258</td>\n",
       "      <td>0.418300</td>\n",
       "      <td>0.050351</td>\n",
       "    </tr>\n",
       "  </tbody>\n",
       "</table>\n",
       "<p>4 rows × 100 columns</p>\n",
       "</div>"
      ],
      "text/plain": [
       "   Able to receive lab results electronically_No  \\\n",
       "0                                              0   \n",
       "1                                              0   \n",
       "2                                              0   \n",
       "3                                              0   \n",
       "\n",
       "   Able to receive lab results electronically_Yes  \\\n",
       "0                                               1   \n",
       "1                                               1   \n",
       "2                                               1   \n",
       "3                                               1   \n",
       "\n",
       "   Able to receive lab results electronically_nan  \\\n",
       "0                                               0   \n",
       "1                                               0   \n",
       "2                                               0   \n",
       "3                                               0   \n",
       "\n",
       "   Able to receive lab results electronically_nan  \\\n",
       "0                                               0   \n",
       "1                                               0   \n",
       "2                                               0   \n",
       "3                                               0   \n",
       "\n",
       "   Able to track patients' lab results, tests, and referrals electronically between visits_No  \\\n",
       "0                                                  0                                            \n",
       "1                                                  0                                            \n",
       "2                                                  0                                            \n",
       "3                                                  0                                            \n",
       "\n",
       "   Able to track patients' lab results, tests, and referrals electronically between visits_Yes  \\\n",
       "0                                                  1                                             \n",
       "1                                                  1                                             \n",
       "2                                                  1                                             \n",
       "3                                                  1                                             \n",
       "\n",
       "   Able to track patients' lab results, tests, and referrals electronically between visits_nan  \\\n",
       "0                                                  0                                             \n",
       "1                                                  0                                             \n",
       "2                                                  0                                             \n",
       "3                                                  0                                             \n",
       "\n",
       "   Able to track patients' lab results, tests, and referrals electronically between visits_nan  \\\n",
       "0                                                  0                                             \n",
       "1                                                  0                                             \n",
       "2                                                  0                                             \n",
       "3                                                  0                                             \n",
       "\n",
       "   Emergency Services_False  Emergency Services_True       ...         \\\n",
       "0                         0                        1       ...          \n",
       "1                         0                        1       ...          \n",
       "2                         0                        1       ...          \n",
       "3                         0                        1       ...          \n",
       "\n",
       "   Payment for heart failure patients - actual  \\\n",
       "0                                     0.388817   \n",
       "1                                     0.493239   \n",
       "2                                     0.011483   \n",
       "3                                     0.243936   \n",
       "\n",
       "   Payment for heart failure patients - higher  \\\n",
       "0                                     0.393675   \n",
       "1                                     0.423263   \n",
       "2                                     0.011641   \n",
       "3                                     0.222255   \n",
       "\n",
       "   Payment for heart failure patients - lower  \\\n",
       "0                                    0.390426   \n",
       "1                                    0.568827   \n",
       "2                                    0.013076   \n",
       "3                                    0.277875   \n",
       "\n",
       "   Payment for hip/knee replacement patients - actual  \\\n",
       "0                                           0.135670    \n",
       "1                                           0.589452    \n",
       "2                                           0.325077    \n",
       "3                                           0.418123    \n",
       "\n",
       "   Payment for hip/knee replacement patients - higher  \\\n",
       "0                                           0.112783    \n",
       "1                                           0.527197    \n",
       "2                                           0.335950    \n",
       "3                                           0.388839    \n",
       "\n",
       "   Payment for hip/knee replacement patients - lower  \\\n",
       "0                                           0.146545   \n",
       "1                                           0.593812   \n",
       "2                                           0.278289   \n",
       "3                                           0.401585   \n",
       "\n",
       "   Payment for pneumonia patients - actual  \\\n",
       "0                                 0.282894   \n",
       "1                                 0.515802   \n",
       "2                                 0.023273   \n",
       "3                                 0.400887   \n",
       "\n",
       "   Payment for pneumonia patients - higher  \\\n",
       "0                                 0.255330   \n",
       "1                                 0.431107   \n",
       "2                                 0.019162   \n",
       "3                                 0.398258   \n",
       "\n",
       "   Payment for pneumonia patients - lower  gross_inc_filer  \n",
       "0                                0.314370         0.188685  \n",
       "1                                0.614973         0.036577  \n",
       "2                                0.058132         0.081552  \n",
       "3                                0.418300         0.050351  \n",
       "\n",
       "[4 rows x 100 columns]"
      ]
     },
     "execution_count": 81,
     "metadata": {},
     "output_type": "execute_result"
    }
   ],
   "source": [
    "features = pd.concat([features_non_float,features_float_scaled], axis=1).drop('Provider ID', axis=1)\n",
    "features.head(4)\n",
    "# MIND THE INDEX after doing all that shit."
   ]
  },
  {
   "cell_type": "code",
   "execution_count": 82,
   "metadata": {
    "ExecuteTime": {
     "end_time": "2019-04-23T22:33:35.897401Z",
     "start_time": "2019-04-23T22:33:35.881781Z"
    }
   },
   "outputs": [],
   "source": [
    "train_features, test_features, train_labels, test_labels = train_test_split(features, labels, test_size = 0.15, random_state = 42)"
   ]
  },
  {
   "cell_type": "code",
   "execution_count": 83,
   "metadata": {
    "ExecuteTime": {
     "end_time": "2019-04-23T22:33:36.077645Z",
     "start_time": "2019-04-23T22:33:35.897401Z"
    }
   },
   "outputs": [
    {
     "name": "stderr",
     "output_type": "stream",
     "text": [
      "c:\\users\\linhd\\appdata\\local\\programs\\python\\python36\\lib\\site-packages\\sklearn\\linear_model\\logistic.py:432: FutureWarning: Default solver will be changed to 'lbfgs' in 0.22. Specify a solver to silence this warning.\n",
      "  FutureWarning)\n",
      "c:\\users\\linhd\\appdata\\local\\programs\\python\\python36\\lib\\site-packages\\sklearn\\linear_model\\logistic.py:459: FutureWarning: Default multi_class will be changed to 'auto' in 0.22. Specify the multi_class option to silence this warning.\n",
      "  \"this warning.\", FutureWarning)\n"
     ]
    },
    {
     "data": {
      "text/plain": [
       "LogisticRegression(C=1.0, class_weight=None, dual=False, fit_intercept=True,\n",
       "          intercept_scaling=1, max_iter=100, multi_class='warn',\n",
       "          n_jobs=None, penalty='l2', random_state=None, solver='warn',\n",
       "          tol=0.0001, verbose=0, warm_start=False)"
      ]
     },
     "execution_count": 83,
     "metadata": {},
     "output_type": "execute_result"
    }
   ],
   "source": [
    "from sklearn.linear_model import LogisticRegression\n",
    "\n",
    "logreg = LogisticRegression()\n",
    "logreg.fit(train_features, train_labels)"
   ]
  },
  {
   "cell_type": "code",
   "execution_count": 84,
   "metadata": {
    "ExecuteTime": {
     "end_time": "2019-04-23T22:33:36.093265Z",
     "start_time": "2019-04-23T22:33:36.077645Z"
    }
   },
   "outputs": [],
   "source": [
    "predicted_labels = logreg.predict(test_features)"
   ]
  },
  {
   "cell_type": "code",
   "execution_count": 85,
   "metadata": {
    "ExecuteTime": {
     "end_time": "2019-04-23T22:33:36.108889Z",
     "start_time": "2019-04-23T22:33:36.093265Z"
    }
   },
   "outputs": [],
   "source": [
    "# confusion_matrix = confusion_matrix(test_labels, predicted_labels)\n",
    "# print(confusion_matrix)"
   ]
  },
  {
   "cell_type": "code",
   "execution_count": 86,
   "metadata": {
    "ExecuteTime": {
     "end_time": "2019-04-23T22:33:36.140127Z",
     "start_time": "2019-04-23T22:33:36.108889Z"
    }
   },
   "outputs": [
    {
     "name": "stdout",
     "output_type": "stream",
     "text": [
      "              precision    recall  f1-score   support\n",
      "\n",
      "           1       0.57      0.14      0.23        28\n",
      "           2       0.44      0.53      0.48        64\n",
      "           3       0.37      0.42      0.39        69\n",
      "           4       0.34      0.40      0.37        58\n",
      "           5       0.17      0.06      0.09        17\n",
      "\n",
      "   micro avg       0.39      0.39      0.39       236\n",
      "   macro avg       0.38      0.31      0.31       236\n",
      "weighted avg       0.39      0.39      0.37       236\n",
      "\n"
     ]
    }
   ],
   "source": [
    "print(classification_report(test_labels, predicted_labels))"
   ]
  },
  {
   "cell_type": "code",
   "execution_count": 87,
   "metadata": {
    "ExecuteTime": {
     "end_time": "2019-04-23T22:33:36.155750Z",
     "start_time": "2019-04-23T22:33:36.140127Z"
    }
   },
   "outputs": [
    {
     "name": "stdout",
     "output_type": "stream",
     "text": [
      "Accuracy: 0.3855932203389831\n"
     ]
    }
   ],
   "source": [
    "print(\"Accuracy:\",metrics.accuracy_score(predicted_labels, test_labels))"
   ]
  },
  {
   "cell_type": "markdown",
   "metadata": {},
   "source": [
    "## Integrate into an application - pickling the models for later use"
   ]
  },
  {
   "cell_type": "code",
   "execution_count": 88,
   "metadata": {
    "ExecuteTime": {
     "end_time": "2019-04-23T22:33:36.186994Z",
     "start_time": "2019-04-23T22:33:36.155750Z"
    }
   },
   "outputs": [
    {
     "data": {
      "text/plain": [
       "['finalized_bernoulli_NB_model.sav']"
      ]
     },
     "execution_count": 88,
     "metadata": {},
     "output_type": "execute_result"
    }
   ],
   "source": [
    "#Use joblib to save the logreg model for later use'\n",
    "filename = 'finalized_bernoulli_NB_model.sav'\n",
    "joblib.dump(bernoulli_NB, filename)"
   ]
  },
  {
   "cell_type": "code",
   "execution_count": 89,
   "metadata": {
    "ExecuteTime": {
     "end_time": "2019-04-23T22:33:36.202614Z",
     "start_time": "2019-04-23T22:33:36.186994Z"
    }
   },
   "outputs": [
    {
     "data": {
      "text/plain": [
       "['finalized_logreg_model.sav']"
      ]
     },
     "execution_count": 89,
     "metadata": {},
     "output_type": "execute_result"
    }
   ],
   "source": [
    "#Use joblib to save the logreg model for later use'\n",
    "filename = 'finalized_logreg_model.sav'\n",
    "joblib.dump(logreg, filename)"
   ]
  },
  {
   "cell_type": "code",
   "execution_count": null,
   "metadata": {
    "ExecuteTime": {
     "end_time": "2019-04-23T21:02:19.234728Z",
     "start_time": "2019-04-23T21:02:12.439Z"
    }
   },
   "outputs": [],
   "source": []
  }
 ],
 "metadata": {
  "kernelspec": {
   "display_name": "Python 3",
   "language": "python",
   "name": "python3"
  },
  "language_info": {
   "codemirror_mode": {
    "name": "ipython",
    "version": 3
   },
   "file_extension": ".py",
   "mimetype": "text/x-python",
   "name": "python",
   "nbconvert_exporter": "python",
   "pygments_lexer": "ipython3",
   "version": "3.6.2"
  },
  "toc": {
   "base_numbering": 1,
   "nav_menu": {},
   "number_sections": true,
   "sideBar": true,
   "skip_h1_title": false,
   "title_cell": "Table of Contents",
   "title_sidebar": "Contents",
   "toc_cell": false,
   "toc_position": {
    "height": "calc(100% - 180px)",
    "left": "10px",
    "top": "150px",
    "width": "267px"
   },
   "toc_section_display": true,
   "toc_window_display": true
  }
 },
 "nbformat": 4,
 "nbformat_minor": 2
}
