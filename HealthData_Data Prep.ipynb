{
 "cells": [
  {
   "cell_type": "code",
   "execution_count": 587,
   "metadata": {},
   "outputs": [],
   "source": [
    "import pandas as pd\n",
    "import numpy as np\n",
    "import matplotlib.pyplot as plt\n",
    "import seaborn as sns\n",
    "from sklearn.preprocessing import LabelEncoder\n",
    "\n",
    "from sklearn import metrics\n",
    "from sklearn.naive_bayes import GaussianNB"
   ]
  },
  {
   "cell_type": "code",
   "execution_count": 588,
   "metadata": {},
   "outputs": [],
   "source": [
    "struct_df = pd.read_csv(\"Structural_Measures_-_Hospital.csv\",dtype={'Provider ID': str})\n",
    "struct_df.replace([\"Not Available\",\"\",\" \"],np.nan,inplace=True)"
   ]
  },
  {
   "cell_type": "code",
   "execution_count": 589,
   "metadata": {},
   "outputs": [],
   "source": [
    "pay_df = pd.read_csv(\"Payment_and_value_of_care_-_Hospital.csv\",dtype={'Provider ID': str,'ZIP Code': str})\n",
    "pay_df.replace([\"Not Available\",\"\",\" \"],np.nan,inplace=True)"
   ]
  },
  {
   "cell_type": "code",
   "execution_count": 590,
   "metadata": {},
   "outputs": [],
   "source": [
    "general_df = pd.read_csv(\"Hospital_General_Information.csv\",dtype={'Provider ID': str})\n",
    "general_df.replace([\"Not Available\",\"\",\" \"],np.nan,inplace=True)\n",
    "\n",
    "general_df.loc[:,\"Hospital overall rating\"] = general_df.loc[:,\"Hospital overall rating\"].astype(float)"
   ]
  },
  {
   "cell_type": "code",
   "execution_count": 591,
   "metadata": {},
   "outputs": [
    {
     "name": "stdout",
     "output_type": "stream",
     "text": [
      "<class 'pandas.core.frame.DataFrame'>\n",
      "RangeIndex: 19136 entries, 0 to 19135\n",
      "Data columns (total 21 columns):\n",
      "Provider ID                   19136 non-null object\n",
      "Hospital name                 19136 non-null object\n",
      "Address                       19136 non-null object\n",
      "City                          19136 non-null object\n",
      "State                         19136 non-null object\n",
      "ZIP Code                      19136 non-null object\n",
      "County name                   19092 non-null object\n",
      "Payment measure name          19136 non-null object\n",
      "Payment measure ID            19136 non-null object\n",
      "Payment category              16176 non-null object\n",
      "Denominator                   12518 non-null object\n",
      "Payment                       12518 non-null object\n",
      "Lower estimate                12518 non-null object\n",
      "Higher estimate               12518 non-null object\n",
      "Payment footnote              6629 non-null object\n",
      "Value of care display name    19136 non-null object\n",
      "Value of care display ID      19136 non-null object\n",
      "Value of care category        12507 non-null object\n",
      "Value of care footnote        6640 non-null object\n",
      "Measure start date            19136 non-null object\n",
      "Measure End Date              19136 non-null object\n",
      "dtypes: object(21)\n",
      "memory usage: 3.1+ MB\n"
     ]
    }
   ],
   "source": [
    "pay_df = pay_df.drop(['Location','Phone number'],axis=1);\n",
    "pay_df.info()"
   ]
  },
  {
   "cell_type": "code",
   "execution_count": 592,
   "metadata": {},
   "outputs": [
    {
     "data": {
      "text/plain": [
       "0        NaN\n",
       "1        NaN\n",
       "2        NaN\n",
       "3    21772.0\n",
       "4        NaN\n",
       "5        NaN\n",
       "6        NaN\n",
       "7    20485.0\n",
       "Name: Payment, dtype: float64"
      ]
     },
     "execution_count": 592,
     "metadata": {},
     "output_type": "execute_result"
    }
   ],
   "source": [
    "pay_df.loc[:,\"Payment\"] = pd.to_numeric(pay_df[\"Payment\"].apply(lambda x: str(x).replace(\"$\",\"\").replace(\",\",\"\")),errors='coerce')\n",
    "pay_df.loc[:,\"Lower estimate\"] = pd.to_numeric(pay_df[\"Lower estimate\"].apply(lambda x: str(x).replace(\"$\",\"\").replace(\",\",\"\")),errors='coerce')\n",
    "pay_df.loc[:,\"Higher estimate\"] = pd.to_numeric(pay_df[\"Higher estimate\"].apply(lambda x: str(x).replace(\"$\",\"\").replace(\",\",\"\")),errors='coerce')\n",
    "\n",
    "pay_df['Payment'].head(8)"
   ]
  },
  {
   "cell_type": "code",
   "execution_count": 593,
   "metadata": {},
   "outputs": [
    {
     "data": {
      "text/html": [
       "<div>\n",
       "<style scoped>\n",
       "    .dataframe tbody tr th:only-of-type {\n",
       "        vertical-align: middle;\n",
       "    }\n",
       "\n",
       "    .dataframe tbody tr th {\n",
       "        vertical-align: top;\n",
       "    }\n",
       "\n",
       "    .dataframe thead th {\n",
       "        text-align: right;\n",
       "    }\n",
       "</style>\n",
       "<table border=\"1\" class=\"dataframe\">\n",
       "  <thead>\n",
       "    <tr style=\"text-align: right;\">\n",
       "      <th></th>\n",
       "      <th>Payment</th>\n",
       "      <th>Lower estimate</th>\n",
       "      <th>Higher estimate</th>\n",
       "    </tr>\n",
       "  </thead>\n",
       "  <tbody>\n",
       "    <tr>\n",
       "      <th>0</th>\n",
       "      <td>NaN</td>\n",
       "      <td>NaN</td>\n",
       "      <td>NaN</td>\n",
       "    </tr>\n",
       "    <tr>\n",
       "      <th>1</th>\n",
       "      <td>NaN</td>\n",
       "      <td>NaN</td>\n",
       "      <td>NaN</td>\n",
       "    </tr>\n",
       "    <tr>\n",
       "      <th>2</th>\n",
       "      <td>NaN</td>\n",
       "      <td>NaN</td>\n",
       "      <td>NaN</td>\n",
       "    </tr>\n",
       "    <tr>\n",
       "      <th>3</th>\n",
       "      <td>21772.0</td>\n",
       "      <td>18143.0</td>\n",
       "      <td>25442.0</td>\n",
       "    </tr>\n",
       "    <tr>\n",
       "      <th>4</th>\n",
       "      <td>NaN</td>\n",
       "      <td>NaN</td>\n",
       "      <td>NaN</td>\n",
       "    </tr>\n",
       "  </tbody>\n",
       "</table>\n",
       "</div>"
      ],
      "text/plain": [
       "   Payment  Lower estimate  Higher estimate\n",
       "0      NaN             NaN              NaN\n",
       "1      NaN             NaN              NaN\n",
       "2      NaN             NaN              NaN\n",
       "3  21772.0         18143.0          25442.0\n",
       "4      NaN             NaN              NaN"
      ]
     },
     "execution_count": 593,
     "metadata": {},
     "output_type": "execute_result"
    }
   ],
   "source": [
    "pay_df[[\"Payment\",\"Lower estimate\",\"Higher estimate\"]].head(5)"
   ]
  },
  {
   "cell_type": "code",
   "execution_count": 594,
   "metadata": {},
   "outputs": [
    {
     "data": {
      "text/plain": [
       "Index(['Provider ID', 'Hospital name', 'Address', 'City', 'State', 'ZIP Code',\n",
       "       'County name'],\n",
       "      dtype='object')"
      ]
     },
     "execution_count": 594,
     "metadata": {},
     "output_type": "execute_result"
    }
   ],
   "source": [
    "pay_df_index = pay_df.iloc[:,:7]\n",
    "pay_df_index.columns"
   ]
  },
  {
   "cell_type": "markdown",
   "metadata": {},
   "source": [
    "## Get the Payment estimates out"
   ]
  },
  {
   "cell_type": "code",
   "execution_count": 595,
   "metadata": {},
   "outputs": [],
   "source": [
    "# Payment itself\n",
    "tf_pay = pay_df.pivot(index=\"Provider ID\", columns='Payment measure name', values='Payment').reset_index()\n",
    "# Lower Estimatetf_pay_l\n",
    "tf_pay_l = pay_df.pivot(index=\"Provider ID\", columns='Payment measure name', values='Lower estimate').reset_index()\n",
    "# Lower Estimate\n",
    "tf_pay_h = pay_df.pivot(index=\"Provider ID\", columns='Payment measure name', values='Higher estimate').reset_index()"
   ]
  },
  {
   "cell_type": "code",
   "execution_count": 596,
   "metadata": {
    "scrolled": true
   },
   "outputs": [
    {
     "data": {
      "text/html": [
       "<div>\n",
       "<style scoped>\n",
       "    .dataframe tbody tr th:only-of-type {\n",
       "        vertical-align: middle;\n",
       "    }\n",
       "\n",
       "    .dataframe tbody tr th {\n",
       "        vertical-align: top;\n",
       "    }\n",
       "\n",
       "    .dataframe thead th {\n",
       "        text-align: right;\n",
       "    }\n",
       "</style>\n",
       "<table border=\"1\" class=\"dataframe\">\n",
       "  <thead>\n",
       "    <tr style=\"text-align: right;\">\n",
       "      <th></th>\n",
       "      <th>Provider ID</th>\n",
       "      <th>Payment for heart attack patients - actual</th>\n",
       "      <th>Payment for heart failure patients - actual</th>\n",
       "      <th>Payment for hip/knee replacement patients - actual</th>\n",
       "      <th>Payment for pneumonia patients - actual</th>\n",
       "    </tr>\n",
       "  </thead>\n",
       "  <tbody>\n",
       "    <tr>\n",
       "      <th>0</th>\n",
       "      <td>010001</td>\n",
       "      <td>23394.0</td>\n",
       "      <td>17041.0</td>\n",
       "      <td>25812.0</td>\n",
       "      <td>18281.0</td>\n",
       "    </tr>\n",
       "  </tbody>\n",
       "</table>\n",
       "</div>"
      ],
      "text/plain": [
       "  Provider ID  Payment for heart attack patients - actual  \\\n",
       "0      010001                                     23394.0   \n",
       "\n",
       "   Payment for heart failure patients - actual  \\\n",
       "0                                      17041.0   \n",
       "\n",
       "   Payment for hip/knee replacement patients - actual  \\\n",
       "0                                            25812.0    \n",
       "\n",
       "   Payment for pneumonia patients - actual  \n",
       "0                                  18281.0  "
      ]
     },
     "execution_count": 596,
     "metadata": {},
     "output_type": "execute_result"
    }
   ],
   "source": [
    "placehold = tf_pay.columns.tolist()\n",
    "for index, text  in enumerate(tf_pay.columns[1:]):\n",
    "    placehold[index+1] = str(text) + \" - actual\"\n",
    "tf_pay.columns = placehold\n",
    "tf_pay.head(1)"
   ]
  },
  {
   "cell_type": "code",
   "execution_count": 597,
   "metadata": {},
   "outputs": [
    {
     "data": {
      "text/html": [
       "<div>\n",
       "<style scoped>\n",
       "    .dataframe tbody tr th:only-of-type {\n",
       "        vertical-align: middle;\n",
       "    }\n",
       "\n",
       "    .dataframe tbody tr th {\n",
       "        vertical-align: top;\n",
       "    }\n",
       "\n",
       "    .dataframe thead th {\n",
       "        text-align: right;\n",
       "    }\n",
       "</style>\n",
       "<table border=\"1\" class=\"dataframe\">\n",
       "  <thead>\n",
       "    <tr style=\"text-align: right;\">\n",
       "      <th></th>\n",
       "      <th>Provider ID</th>\n",
       "      <th>Payment for heart attack patients - lower</th>\n",
       "      <th>Payment for heart failure patients - lower</th>\n",
       "      <th>Payment for hip/knee replacement patients - lower</th>\n",
       "      <th>Payment for pneumonia patients - lower</th>\n",
       "    </tr>\n",
       "  </thead>\n",
       "  <tbody>\n",
       "    <tr>\n",
       "      <th>0</th>\n",
       "      <td>010001</td>\n",
       "      <td>22216.0</td>\n",
       "      <td>16268.0</td>\n",
       "      <td>24704.0</td>\n",
       "      <td>17354.0</td>\n",
       "    </tr>\n",
       "  </tbody>\n",
       "</table>\n",
       "</div>"
      ],
      "text/plain": [
       "  Provider ID  Payment for heart attack patients - lower  \\\n",
       "0      010001                                    22216.0   \n",
       "\n",
       "   Payment for heart failure patients - lower  \\\n",
       "0                                     16268.0   \n",
       "\n",
       "   Payment for hip/knee replacement patients - lower  \\\n",
       "0                                            24704.0   \n",
       "\n",
       "   Payment for pneumonia patients - lower  \n",
       "0                                 17354.0  "
      ]
     },
     "execution_count": 597,
     "metadata": {},
     "output_type": "execute_result"
    }
   ],
   "source": [
    "placehold = tf_pay_l.columns.tolist()\n",
    "for index, text  in enumerate(tf_pay_l.columns[1:]):\n",
    "    placehold[index+1] = str(text) + \" - lower\"\n",
    "tf_pay_l.columns = placehold\n",
    "tf_pay_l.head(1)"
   ]
  },
  {
   "cell_type": "code",
   "execution_count": 598,
   "metadata": {},
   "outputs": [
    {
     "data": {
      "text/html": [
       "<div>\n",
       "<style scoped>\n",
       "    .dataframe tbody tr th:only-of-type {\n",
       "        vertical-align: middle;\n",
       "    }\n",
       "\n",
       "    .dataframe tbody tr th {\n",
       "        vertical-align: top;\n",
       "    }\n",
       "\n",
       "    .dataframe thead th {\n",
       "        text-align: right;\n",
       "    }\n",
       "</style>\n",
       "<table border=\"1\" class=\"dataframe\">\n",
       "  <thead>\n",
       "    <tr style=\"text-align: right;\">\n",
       "      <th></th>\n",
       "      <th>Provider ID</th>\n",
       "      <th>Payment for heart attack patients - higher</th>\n",
       "      <th>Payment for heart failure patients - higher</th>\n",
       "      <th>Payment for hip/knee replacement patients - higher</th>\n",
       "      <th>Payment for pneumonia patients - higher</th>\n",
       "    </tr>\n",
       "  </thead>\n",
       "  <tbody>\n",
       "    <tr>\n",
       "      <th>0</th>\n",
       "      <td>010001</td>\n",
       "      <td>24641.0</td>\n",
       "      <td>17849.0</td>\n",
       "      <td>26982.0</td>\n",
       "      <td>19236.0</td>\n",
       "    </tr>\n",
       "  </tbody>\n",
       "</table>\n",
       "</div>"
      ],
      "text/plain": [
       "  Provider ID  Payment for heart attack patients - higher  \\\n",
       "0      010001                                     24641.0   \n",
       "\n",
       "   Payment for heart failure patients - higher  \\\n",
       "0                                      17849.0   \n",
       "\n",
       "   Payment for hip/knee replacement patients - higher  \\\n",
       "0                                            26982.0    \n",
       "\n",
       "   Payment for pneumonia patients - higher  \n",
       "0                                  19236.0  "
      ]
     },
     "execution_count": 598,
     "metadata": {},
     "output_type": "execute_result"
    }
   ],
   "source": [
    "placehold = tf_pay_h.columns.tolist()\n",
    "for index, text  in enumerate(tf_pay_h.columns[1:]):\n",
    "    placehold[index+1] = str(text) + \" - higher\"\n",
    "tf_pay_h.columns = placehold\n",
    "tf_pay_h.head(1)"
   ]
  },
  {
   "cell_type": "markdown",
   "metadata": {},
   "source": [
    "## Get Value of Care Respond"
   ]
  },
  {
   "cell_type": "code",
   "execution_count": 599,
   "metadata": {},
   "outputs": [
    {
     "data": {
      "text/plain": [
       "Index(['Provider ID', 'Hospital name', 'Address', 'City', 'State', 'ZIP Code',\n",
       "       'County name', 'Value of care display name', 'Value of care display ID',\n",
       "       'Value of care category', 'Value of care footnote',\n",
       "       'Measure start date'],\n",
       "      dtype='object')"
      ]
     },
     "execution_count": 599,
     "metadata": {},
     "output_type": "execute_result"
    }
   ],
   "source": [
    "df_value = pay_df.iloc[:,-6:-1]\n",
    "df_value = pd.concat([pay_df_index,df_value],axis=1)\n",
    "df_value.columns"
   ]
  },
  {
   "cell_type": "code",
   "execution_count": 600,
   "metadata": {},
   "outputs": [],
   "source": [
    "tf_value = df_value.pivot(index=\"Provider ID\", columns='Value of care display ID', values='Value of care category').reset_index()\n",
    "tf_value.rename(columns={'MORT_PAYM_30_AMI': 'MORT_PAYM_30_HEART ATT', 'MORT_PAYM_30_PN': 'MORT_PAYM_30_PNEU','MORT_PAYM_30_HF': 'MORT_PAYM_30_HEART FAIL'}, inplace=True)"
   ]
  },
  {
   "cell_type": "code",
   "execution_count": 601,
   "metadata": {},
   "outputs": [
    {
     "data": {
      "text/html": [
       "<div>\n",
       "<style scoped>\n",
       "    .dataframe tbody tr th:only-of-type {\n",
       "        vertical-align: middle;\n",
       "    }\n",
       "\n",
       "    .dataframe tbody tr th {\n",
       "        vertical-align: top;\n",
       "    }\n",
       "\n",
       "    .dataframe thead th {\n",
       "        text-align: right;\n",
       "    }\n",
       "</style>\n",
       "<table border=\"1\" class=\"dataframe\">\n",
       "  <thead>\n",
       "    <tr style=\"text-align: right;\">\n",
       "      <th>Value of care display ID</th>\n",
       "      <th>Provider ID</th>\n",
       "      <th>COMP_PAYM_90_HIP_KNEE</th>\n",
       "      <th>MORT_PAYM_30_HEART ATT</th>\n",
       "      <th>MORT_PAYM_30_HEART FAIL</th>\n",
       "      <th>MORT_PAYM_30_PNEU</th>\n",
       "    </tr>\n",
       "  </thead>\n",
       "  <tbody>\n",
       "    <tr>\n",
       "      <th>0</th>\n",
       "      <td>010001</td>\n",
       "      <td>Average complications and higher payment</td>\n",
       "      <td>Average mortality and average payment</td>\n",
       "      <td>Average mortality and average payment</td>\n",
       "      <td>Average mortality and average payment</td>\n",
       "    </tr>\n",
       "    <tr>\n",
       "      <th>1</th>\n",
       "      <td>010005</td>\n",
       "      <td>Average complications and average payment</td>\n",
       "      <td>Average mortality and average payment</td>\n",
       "      <td>Worse mortality and average payment</td>\n",
       "      <td>Worse mortality and lower payment</td>\n",
       "    </tr>\n",
       "  </tbody>\n",
       "</table>\n",
       "</div>"
      ],
      "text/plain": [
       "Value of care display ID Provider ID  \\\n",
       "0                             010001   \n",
       "1                             010005   \n",
       "\n",
       "Value of care display ID                      COMP_PAYM_90_HIP_KNEE  \\\n",
       "0                          Average complications and higher payment   \n",
       "1                         Average complications and average payment   \n",
       "\n",
       "Value of care display ID                 MORT_PAYM_30_HEART ATT  \\\n",
       "0                         Average mortality and average payment   \n",
       "1                         Average mortality and average payment   \n",
       "\n",
       "Value of care display ID                MORT_PAYM_30_HEART FAIL  \\\n",
       "0                         Average mortality and average payment   \n",
       "1                           Worse mortality and average payment   \n",
       "\n",
       "Value of care display ID                      MORT_PAYM_30_PNEU  \n",
       "0                         Average mortality and average payment  \n",
       "1                             Worse mortality and lower payment  "
      ]
     },
     "execution_count": 601,
     "metadata": {},
     "output_type": "execute_result"
    }
   ],
   "source": [
    "tf_value.head(2)"
   ]
  },
  {
   "cell_type": "code",
   "execution_count": 602,
   "metadata": {},
   "outputs": [],
   "source": [
    "for col in tf_value[2:]:\n",
    "    x = tf_value[str(col)].str.split('and', 1, expand=True)"
   ]
  },
  {
   "cell_type": "code",
   "execution_count": 603,
   "metadata": {},
   "outputs": [],
   "source": [
    "lst_value_df = []\n",
    "for item in tf_value.columns.tolist()[1:len(tf_value.columns)]:\n",
    "#     print(item)\n",
    "    df = tf_value[item].str.split('and', 1, expand=True)\n",
    "    df.columns = [item + \"_1\",item + \"_2\"]\n",
    "    lst_value_df.append(df)"
   ]
  },
  {
   "cell_type": "code",
   "execution_count": 604,
   "metadata": {},
   "outputs": [],
   "source": [
    "lst_value_df.append(tf_value.iloc[:,:1])\n",
    "# for i in lst_value_df:\n",
    "tf_value_split = pd.concat(lst_value_df, axis=1)"
   ]
  },
  {
   "cell_type": "code",
   "execution_count": 605,
   "metadata": {},
   "outputs": [
    {
     "data": {
      "text/html": [
       "<div>\n",
       "<style scoped>\n",
       "    .dataframe tbody tr th:only-of-type {\n",
       "        vertical-align: middle;\n",
       "    }\n",
       "\n",
       "    .dataframe tbody tr th {\n",
       "        vertical-align: top;\n",
       "    }\n",
       "\n",
       "    .dataframe thead th {\n",
       "        text-align: right;\n",
       "    }\n",
       "</style>\n",
       "<table border=\"1\" class=\"dataframe\">\n",
       "  <thead>\n",
       "    <tr style=\"text-align: right;\">\n",
       "      <th></th>\n",
       "      <th>COMP_PAYM_90_HIP_KNEE_1</th>\n",
       "      <th>COMP_PAYM_90_HIP_KNEE_2</th>\n",
       "      <th>MORT_PAYM_30_HEART ATT_1</th>\n",
       "      <th>MORT_PAYM_30_HEART ATT_2</th>\n",
       "      <th>MORT_PAYM_30_HEART FAIL_1</th>\n",
       "      <th>MORT_PAYM_30_HEART FAIL_2</th>\n",
       "      <th>MORT_PAYM_30_PNEU_1</th>\n",
       "      <th>MORT_PAYM_30_PNEU_2</th>\n",
       "      <th>Provider ID</th>\n",
       "    </tr>\n",
       "  </thead>\n",
       "  <tbody>\n",
       "    <tr>\n",
       "      <th>0</th>\n",
       "      <td>Average complications</td>\n",
       "      <td>higher payment</td>\n",
       "      <td>Average mortality</td>\n",
       "      <td>average payment</td>\n",
       "      <td>Average mortality</td>\n",
       "      <td>average payment</td>\n",
       "      <td>Average mortality</td>\n",
       "      <td>average payment</td>\n",
       "      <td>010001</td>\n",
       "    </tr>\n",
       "    <tr>\n",
       "      <th>1</th>\n",
       "      <td>Average complications</td>\n",
       "      <td>average payment</td>\n",
       "      <td>Average mortality</td>\n",
       "      <td>average payment</td>\n",
       "      <td>Worse mortality</td>\n",
       "      <td>average payment</td>\n",
       "      <td>Worse mortality</td>\n",
       "      <td>lower payment</td>\n",
       "      <td>010005</td>\n",
       "    </tr>\n",
       "  </tbody>\n",
       "</table>\n",
       "</div>"
      ],
      "text/plain": [
       "  COMP_PAYM_90_HIP_KNEE_1 COMP_PAYM_90_HIP_KNEE_2 MORT_PAYM_30_HEART ATT_1  \\\n",
       "0  Average complications           higher payment       Average mortality    \n",
       "1  Average complications          average payment       Average mortality    \n",
       "\n",
       "  MORT_PAYM_30_HEART ATT_2 MORT_PAYM_30_HEART FAIL_1  \\\n",
       "0          average payment        Average mortality    \n",
       "1          average payment          Worse mortality    \n",
       "\n",
       "  MORT_PAYM_30_HEART FAIL_2 MORT_PAYM_30_PNEU_1 MORT_PAYM_30_PNEU_2  \\\n",
       "0           average payment  Average mortality      average payment   \n",
       "1           average payment    Worse mortality        lower payment   \n",
       "\n",
       "  Provider ID  \n",
       "0      010001  \n",
       "1      010005  "
      ]
     },
     "execution_count": 605,
     "metadata": {},
     "output_type": "execute_result"
    }
   ],
   "source": [
    "tf_value_split.head(2)"
   ]
  },
  {
   "cell_type": "code",
   "execution_count": 606,
   "metadata": {},
   "outputs": [
    {
     "data": {
      "text/plain": [
       "array(['Average mortality ', nan, 'Worse mortality ', 'Better mortality '],\n",
       "      dtype=object)"
      ]
     },
     "execution_count": 606,
     "metadata": {},
     "output_type": "execute_result"
    }
   ],
   "source": [
    "tf_value_split.iloc[:,2].unique()"
   ]
  },
  {
   "cell_type": "markdown",
   "metadata": {},
   "source": [
    "## Get Structural Measures"
   ]
  },
  {
   "cell_type": "code",
   "execution_count": 607,
   "metadata": {},
   "outputs": [
    {
     "name": "stdout",
     "output_type": "stream",
     "text": [
      "<class 'pandas.core.frame.DataFrame'>\n",
      "RangeIndex: 23920 entries, 0 to 23919\n",
      "Data columns (total 15 columns):\n",
      "Provider ID           23920 non-null object\n",
      "Hospital Name         23920 non-null object\n",
      "Address               23920 non-null object\n",
      "City                  23920 non-null object\n",
      "State                 23920 non-null object\n",
      "ZIP Code              23920 non-null int64\n",
      "County Name           23865 non-null object\n",
      "Phone Number          23920 non-null object\n",
      "Measure Name          23920 non-null object\n",
      "Measure ID            23920 non-null object\n",
      "Measure Response      17818 non-null object\n",
      "Footnote              6102 non-null object\n",
      "Measure Start Date    23920 non-null object\n",
      "Measure End Date      23920 non-null object\n",
      "Location              23920 non-null object\n",
      "dtypes: int64(1), object(14)\n",
      "memory usage: 2.7+ MB\n"
     ]
    }
   ],
   "source": [
    "struct_df.info()"
   ]
  },
  {
   "cell_type": "code",
   "execution_count": 608,
   "metadata": {},
   "outputs": [
    {
     "data": {
      "text/html": [
       "<div>\n",
       "<style scoped>\n",
       "    .dataframe tbody tr th:only-of-type {\n",
       "        vertical-align: middle;\n",
       "    }\n",
       "\n",
       "    .dataframe tbody tr th {\n",
       "        vertical-align: top;\n",
       "    }\n",
       "\n",
       "    .dataframe thead th {\n",
       "        text-align: right;\n",
       "    }\n",
       "</style>\n",
       "<table border=\"1\" class=\"dataframe\">\n",
       "  <thead>\n",
       "    <tr style=\"text-align: right;\">\n",
       "      <th></th>\n",
       "      <th>Provider ID</th>\n",
       "      <th>Hospital Name</th>\n",
       "      <th>Address</th>\n",
       "      <th>City</th>\n",
       "      <th>State</th>\n",
       "      <th>ZIP Code</th>\n",
       "      <th>County Name</th>\n",
       "      <th>Phone Number</th>\n",
       "      <th>Measure Name</th>\n",
       "      <th>Measure ID</th>\n",
       "      <th>Measure Response</th>\n",
       "      <th>Footnote</th>\n",
       "      <th>Measure Start Date</th>\n",
       "      <th>Measure End Date</th>\n",
       "      <th>Location</th>\n",
       "    </tr>\n",
       "  </thead>\n",
       "  <tbody>\n",
       "    <tr>\n",
       "      <th>0</th>\n",
       "      <td>361313</td>\n",
       "      <td>MORROW COUNTY HOSPITAL</td>\n",
       "      <td>651 WEST MARION ROAD</td>\n",
       "      <td>MOUNT GILEAD</td>\n",
       "      <td>OH</td>\n",
       "      <td>43338</td>\n",
       "      <td>MORROW</td>\n",
       "      <td>(419) 946-5015</td>\n",
       "      <td>Patient Safety Culture</td>\n",
       "      <td>SM_HS_PATIENT_SAF</td>\n",
       "      <td>NaN</td>\n",
       "      <td>5 - Results are not available for this reporti...</td>\n",
       "      <td>01/01/2017</td>\n",
       "      <td>12/31/2017</td>\n",
       "      <td>651 WEST MARION ROAD MOUNT GILEAD, OH 43338 (4...</td>\n",
       "    </tr>\n",
       "    <tr>\n",
       "      <th>1</th>\n",
       "      <td>390183</td>\n",
       "      <td>ST LUKE'S MINERS MEMORIAL HOSPITAL</td>\n",
       "      <td>360 W RUDDLE STREET</td>\n",
       "      <td>COALDALE</td>\n",
       "      <td>PA</td>\n",
       "      <td>18218</td>\n",
       "      <td>SCHUYLKILL</td>\n",
       "      <td>(570) 645-2131</td>\n",
       "      <td>Safe surgery checklist use (inpatient)</td>\n",
       "      <td>SM_SS_CHECK</td>\n",
       "      <td>Yes</td>\n",
       "      <td>NaN</td>\n",
       "      <td>01/01/2017</td>\n",
       "      <td>12/31/2017</td>\n",
       "      <td>360 W RUDDLE STREET COALDALE, PA 18218 (40.821...</td>\n",
       "    </tr>\n",
       "  </tbody>\n",
       "</table>\n",
       "</div>"
      ],
      "text/plain": [
       "  Provider ID                       Hospital Name               Address  \\\n",
       "0      361313              MORROW COUNTY HOSPITAL  651 WEST MARION ROAD   \n",
       "1      390183  ST LUKE'S MINERS MEMORIAL HOSPITAL   360 W RUDDLE STREET   \n",
       "\n",
       "           City State  ZIP Code County Name    Phone Number  \\\n",
       "0  MOUNT GILEAD    OH     43338      MORROW  (419) 946-5015   \n",
       "1      COALDALE    PA     18218  SCHUYLKILL  (570) 645-2131   \n",
       "\n",
       "                             Measure Name         Measure ID Measure Response  \\\n",
       "0                  Patient Safety Culture  SM_HS_PATIENT_SAF              NaN   \n",
       "1  Safe surgery checklist use (inpatient)        SM_SS_CHECK              Yes   \n",
       "\n",
       "                                            Footnote Measure Start Date  \\\n",
       "0  5 - Results are not available for this reporti...         01/01/2017   \n",
       "1                                                NaN         01/01/2017   \n",
       "\n",
       "  Measure End Date                                           Location  \n",
       "0       12/31/2017  651 WEST MARION ROAD MOUNT GILEAD, OH 43338 (4...  \n",
       "1       12/31/2017  360 W RUDDLE STREET COALDALE, PA 18218 (40.821...  "
      ]
     },
     "execution_count": 608,
     "metadata": {},
     "output_type": "execute_result"
    }
   ],
   "source": [
    "struct_df.head(2)"
   ]
  },
  {
   "cell_type": "code",
   "execution_count": 609,
   "metadata": {},
   "outputs": [],
   "source": [
    "# Payment itself\n",
    "tf_struct = struct_df.pivot(index=\"Provider ID\", columns='Measure Name', values='Measure Response').reset_index()"
   ]
  },
  {
   "cell_type": "code",
   "execution_count": 610,
   "metadata": {},
   "outputs": [
    {
     "data": {
      "text/html": [
       "<div>\n",
       "<style scoped>\n",
       "    .dataframe tbody tr th:only-of-type {\n",
       "        vertical-align: middle;\n",
       "    }\n",
       "\n",
       "    .dataframe tbody tr th {\n",
       "        vertical-align: top;\n",
       "    }\n",
       "\n",
       "    .dataframe thead th {\n",
       "        text-align: right;\n",
       "    }\n",
       "</style>\n",
       "<table border=\"1\" class=\"dataframe\">\n",
       "  <thead>\n",
       "    <tr style=\"text-align: right;\">\n",
       "      <th>Measure Name</th>\n",
       "      <th>Provider ID</th>\n",
       "      <th>Able to receive lab results electronically</th>\n",
       "      <th>Able to track patients' lab results, tests, and referrals electronically between visits</th>\n",
       "      <th>Patient Safety Culture</th>\n",
       "      <th>Safe surgery checklist use (inpatient)</th>\n",
       "      <th>Safe surgery checklist use (outpatient)</th>\n",
       "    </tr>\n",
       "  </thead>\n",
       "  <tbody>\n",
       "    <tr>\n",
       "      <th>0</th>\n",
       "      <td>010001</td>\n",
       "      <td>Yes</td>\n",
       "      <td>Yes</td>\n",
       "      <td>Yes</td>\n",
       "      <td>Yes</td>\n",
       "      <td>Yes</td>\n",
       "    </tr>\n",
       "  </tbody>\n",
       "</table>\n",
       "</div>"
      ],
      "text/plain": [
       "Measure Name Provider ID Able to receive lab results electronically  \\\n",
       "0                 010001                                        Yes   \n",
       "\n",
       "Measure Name Able to track patients' lab results, tests, and referrals electronically between visits  \\\n",
       "0                                                           Yes                                        \n",
       "\n",
       "Measure Name Patient Safety Culture Safe surgery checklist use (inpatient)  \\\n",
       "0                               Yes                                    Yes   \n",
       "\n",
       "Measure Name Safe surgery checklist use (outpatient)  \n",
       "0                                                Yes  "
      ]
     },
     "execution_count": 610,
     "metadata": {},
     "output_type": "execute_result"
    }
   ],
   "source": [
    "tf_struct.head(1)"
   ]
  },
  {
   "cell_type": "code",
   "execution_count": 611,
   "metadata": {},
   "outputs": [
    {
     "data": {
      "text/html": [
       "<div>\n",
       "<style scoped>\n",
       "    .dataframe tbody tr th:only-of-type {\n",
       "        vertical-align: middle;\n",
       "    }\n",
       "\n",
       "    .dataframe tbody tr th {\n",
       "        vertical-align: top;\n",
       "    }\n",
       "\n",
       "    .dataframe thead th {\n",
       "        text-align: right;\n",
       "    }\n",
       "</style>\n",
       "<table border=\"1\" class=\"dataframe\">\n",
       "  <thead>\n",
       "    <tr style=\"text-align: right;\">\n",
       "      <th>Measure Name</th>\n",
       "      <th>Provider ID</th>\n",
       "      <th>Able to receive lab results electronically</th>\n",
       "      <th>Able to track patients' lab results, tests, and referrals electronically between visits</th>\n",
       "      <th>Patient Safety Culture</th>\n",
       "      <th>Safe surgery checklist use (inpatient)</th>\n",
       "      <th>Safe surgery checklist use (outpatient)</th>\n",
       "    </tr>\n",
       "  </thead>\n",
       "  <tbody>\n",
       "    <tr>\n",
       "      <th>0</th>\n",
       "      <td>010001</td>\n",
       "      <td>1.0</td>\n",
       "      <td>1.0</td>\n",
       "      <td>1.0</td>\n",
       "      <td>1.0</td>\n",
       "      <td>1.0</td>\n",
       "    </tr>\n",
       "    <tr>\n",
       "      <th>1</th>\n",
       "      <td>010005</td>\n",
       "      <td>1.0</td>\n",
       "      <td>1.0</td>\n",
       "      <td>0.0</td>\n",
       "      <td>1.0</td>\n",
       "      <td>1.0</td>\n",
       "    </tr>\n",
       "  </tbody>\n",
       "</table>\n",
       "</div>"
      ],
      "text/plain": [
       "Measure Name Provider ID  Able to receive lab results electronically  \\\n",
       "0                 010001                                         1.0   \n",
       "1                 010005                                         1.0   \n",
       "\n",
       "Measure Name  Able to track patients' lab results, tests, and referrals electronically between visits  \\\n",
       "0                                                           1.0                                         \n",
       "1                                                           1.0                                         \n",
       "\n",
       "Measure Name  Patient Safety Culture  Safe surgery checklist use (inpatient)  \\\n",
       "0                                1.0                                     1.0   \n",
       "1                                0.0                                     1.0   \n",
       "\n",
       "Measure Name  Safe surgery checklist use (outpatient)  \n",
       "0                                                 1.0  \n",
       "1                                                 1.0  "
      ]
     },
     "execution_count": 611,
     "metadata": {},
     "output_type": "execute_result"
    }
   ],
   "source": [
    "tf_struct = tf_struct.replace({\"Yes\": 1,\"No\": 0})\n",
    "tf_struct.head(2)"
   ]
  },
  {
   "cell_type": "markdown",
   "metadata": {},
   "source": [
    "## Combine all dataframes"
   ]
  },
  {
   "cell_type": "code",
   "execution_count": 612,
   "metadata": {},
   "outputs": [],
   "source": [
    "tf_index = pay_df_index.drop_duplicates()"
   ]
  },
  {
   "cell_type": "code",
   "execution_count": 613,
   "metadata": {
    "scrolled": true
   },
   "outputs": [],
   "source": [
    "# Start with Index\n",
    "complete = tf_index\n",
    "\n",
    "list_of_df = [tf_value_split,tf_struct,tf_pay,tf_pay_l,tf_pay_h,general_df]\n",
    "for each in list_of_df:\n",
    "    each.loc[:,'Provider ID'] = each.loc[:,'Provider ID'].apply(str)\n",
    "for each in list_of_df:\n",
    "    complete = complete.merge(each,on=\"Provider ID\",how=\"left\")"
   ]
  },
  {
   "cell_type": "code",
   "execution_count": 614,
   "metadata": {},
   "outputs": [
    {
     "data": {
      "text/html": [
       "<div>\n",
       "<style scoped>\n",
       "    .dataframe tbody tr th:only-of-type {\n",
       "        vertical-align: middle;\n",
       "    }\n",
       "\n",
       "    .dataframe tbody tr th {\n",
       "        vertical-align: top;\n",
       "    }\n",
       "\n",
       "    .dataframe thead th {\n",
       "        text-align: right;\n",
       "    }\n",
       "</style>\n",
       "<table border=\"1\" class=\"dataframe\">\n",
       "  <thead>\n",
       "    <tr style=\"text-align: right;\">\n",
       "      <th></th>\n",
       "      <th>Provider ID</th>\n",
       "      <th>Hospital name</th>\n",
       "      <th>Address</th>\n",
       "      <th>City</th>\n",
       "      <th>State</th>\n",
       "      <th>ZIP Code</th>\n",
       "      <th>County name</th>\n",
       "      <th>COMP_PAYM_90_HIP_KNEE_1</th>\n",
       "      <th>COMP_PAYM_90_HIP_KNEE_2</th>\n",
       "      <th>MORT_PAYM_30_HEART ATT_1</th>\n",
       "      <th>...</th>\n",
       "      <th>Payment for heart attack patients - higher</th>\n",
       "      <th>Payment for heart failure patients - higher</th>\n",
       "      <th>Payment for hip/knee replacement patients - higher</th>\n",
       "      <th>Payment for pneumonia patients - higher</th>\n",
       "      <th>Hospital Type</th>\n",
       "      <th>Hospital Ownership</th>\n",
       "      <th>Emergency Services</th>\n",
       "      <th>Meets criteria for meaningful use of EHRs</th>\n",
       "      <th>Hospital overall rating</th>\n",
       "      <th>Mortality national comparison</th>\n",
       "    </tr>\n",
       "  </thead>\n",
       "  <tbody>\n",
       "    <tr>\n",
       "      <th>0</th>\n",
       "      <td>171312</td>\n",
       "      <td>COMANCHE COUNTY HOSPITAL</td>\n",
       "      <td>2ND &amp; FRISCO STREET</td>\n",
       "      <td>COLDWATER</td>\n",
       "      <td>KS</td>\n",
       "      <td>67029</td>\n",
       "      <td>COMANCHE</td>\n",
       "      <td>NaN</td>\n",
       "      <td>NaN</td>\n",
       "      <td>NaN</td>\n",
       "      <td>...</td>\n",
       "      <td>NaN</td>\n",
       "      <td>NaN</td>\n",
       "      <td>NaN</td>\n",
       "      <td>25442.0</td>\n",
       "      <td>Critical Access Hospitals</td>\n",
       "      <td>Government - Local</td>\n",
       "      <td>True</td>\n",
       "      <td>True</td>\n",
       "      <td>NaN</td>\n",
       "      <td>NaN</td>\n",
       "    </tr>\n",
       "    <tr>\n",
       "      <th>1</th>\n",
       "      <td>281326</td>\n",
       "      <td>ANTELOPE MEMORIAL HOSPITAL</td>\n",
       "      <td>P O BOX 229, 102 WEST 9TH ST</td>\n",
       "      <td>NELIGH</td>\n",
       "      <td>NE</td>\n",
       "      <td>68756</td>\n",
       "      <td>ANTELOPE</td>\n",
       "      <td>NaN</td>\n",
       "      <td>NaN</td>\n",
       "      <td>NaN</td>\n",
       "      <td>...</td>\n",
       "      <td>NaN</td>\n",
       "      <td>NaN</td>\n",
       "      <td>NaN</td>\n",
       "      <td>22787.0</td>\n",
       "      <td>Critical Access Hospitals</td>\n",
       "      <td>Voluntary non-profit - Private</td>\n",
       "      <td>True</td>\n",
       "      <td>True</td>\n",
       "      <td>3.0</td>\n",
       "      <td>NaN</td>\n",
       "    </tr>\n",
       "    <tr>\n",
       "      <th>2</th>\n",
       "      <td>400021</td>\n",
       "      <td>HOSPITAL DE LA CONCEPCION</td>\n",
       "      <td>ROAD NUMBER 2 KM 173.4 CAIN ALTO</td>\n",
       "      <td>SAN GERMAN</td>\n",
       "      <td>PR</td>\n",
       "      <td>00683</td>\n",
       "      <td>SAN GERMAN</td>\n",
       "      <td>NaN</td>\n",
       "      <td>NaN</td>\n",
       "      <td>Average mortality</td>\n",
       "      <td>...</td>\n",
       "      <td>24844.0</td>\n",
       "      <td>18373.0</td>\n",
       "      <td>NaN</td>\n",
       "      <td>18950.0</td>\n",
       "      <td>Acute Care Hospitals</td>\n",
       "      <td>Voluntary non-profit - Church</td>\n",
       "      <td>True</td>\n",
       "      <td>True</td>\n",
       "      <td>NaN</td>\n",
       "      <td>Same as the national average</td>\n",
       "    </tr>\n",
       "    <tr>\n",
       "      <th>3</th>\n",
       "      <td>431309</td>\n",
       "      <td>COMMUNITY MEMORIAL HOSPITAL</td>\n",
       "      <td>809 JACKSON  POST OFFICE BOX 319</td>\n",
       "      <td>BURKE</td>\n",
       "      <td>SD</td>\n",
       "      <td>57523</td>\n",
       "      <td>GREGORY</td>\n",
       "      <td>NaN</td>\n",
       "      <td>NaN</td>\n",
       "      <td>NaN</td>\n",
       "      <td>...</td>\n",
       "      <td>NaN</td>\n",
       "      <td>NaN</td>\n",
       "      <td>NaN</td>\n",
       "      <td>NaN</td>\n",
       "      <td>Critical Access Hospitals</td>\n",
       "      <td>Voluntary non-profit - Private</td>\n",
       "      <td>True</td>\n",
       "      <td>True</td>\n",
       "      <td>NaN</td>\n",
       "      <td>NaN</td>\n",
       "    </tr>\n",
       "    <tr>\n",
       "      <th>4</th>\n",
       "      <td>330049</td>\n",
       "      <td>NORTHERN DUTCHESS HOSPITAL</td>\n",
       "      <td>6511 SPRINGBROOK AVENUE</td>\n",
       "      <td>RHINEBECK</td>\n",
       "      <td>NY</td>\n",
       "      <td>12572</td>\n",
       "      <td>DUTCHESS</td>\n",
       "      <td>Average complications</td>\n",
       "      <td>lower payment</td>\n",
       "      <td>Average mortality</td>\n",
       "      <td>...</td>\n",
       "      <td>26744.0</td>\n",
       "      <td>18169.0</td>\n",
       "      <td>19687.0</td>\n",
       "      <td>17995.0</td>\n",
       "      <td>Acute Care Hospitals</td>\n",
       "      <td>Voluntary non-profit - Private</td>\n",
       "      <td>True</td>\n",
       "      <td>True</td>\n",
       "      <td>4.0</td>\n",
       "      <td>Same as the national average</td>\n",
       "    </tr>\n",
       "    <tr>\n",
       "      <th>5</th>\n",
       "      <td>400115</td>\n",
       "      <td>CENTRO MEDICO WILMA N VAZQUEZ</td>\n",
       "      <td>CARR. 2 KM 39.5    ROAD NUMBER 2 BO ALGARROBO</td>\n",
       "      <td>VEGA BAJA</td>\n",
       "      <td>PR</td>\n",
       "      <td>00693</td>\n",
       "      <td>VEGA BAJA</td>\n",
       "      <td>NaN</td>\n",
       "      <td>NaN</td>\n",
       "      <td>NaN</td>\n",
       "      <td>...</td>\n",
       "      <td>NaN</td>\n",
       "      <td>NaN</td>\n",
       "      <td>NaN</td>\n",
       "      <td>NaN</td>\n",
       "      <td>Acute Care Hospitals</td>\n",
       "      <td>Proprietary</td>\n",
       "      <td>True</td>\n",
       "      <td>True</td>\n",
       "      <td>NaN</td>\n",
       "      <td>NaN</td>\n",
       "    </tr>\n",
       "    <tr>\n",
       "      <th>6</th>\n",
       "      <td>281344</td>\n",
       "      <td>CHERRY COUNTY HOSPITAL</td>\n",
       "      <td>P O BOX 410, 510 NORTH GREEN ST</td>\n",
       "      <td>VALENTINE</td>\n",
       "      <td>NE</td>\n",
       "      <td>69201</td>\n",
       "      <td>CHERRY</td>\n",
       "      <td>Average complications</td>\n",
       "      <td>lower payment</td>\n",
       "      <td>NaN</td>\n",
       "      <td>...</td>\n",
       "      <td>NaN</td>\n",
       "      <td>NaN</td>\n",
       "      <td>20218.0</td>\n",
       "      <td>14791.0</td>\n",
       "      <td>Critical Access Hospitals</td>\n",
       "      <td>Government - Local</td>\n",
       "      <td>True</td>\n",
       "      <td>True</td>\n",
       "      <td>3.0</td>\n",
       "      <td>NaN</td>\n",
       "    </tr>\n",
       "    <tr>\n",
       "      <th>7</th>\n",
       "      <td>471300</td>\n",
       "      <td>GRACE COTTAGE HOSPITAL</td>\n",
       "      <td>PO BOX 216</td>\n",
       "      <td>TOWNSHEND</td>\n",
       "      <td>VT</td>\n",
       "      <td>05353</td>\n",
       "      <td>WINDHAM</td>\n",
       "      <td>NaN</td>\n",
       "      <td>NaN</td>\n",
       "      <td>NaN</td>\n",
       "      <td>...</td>\n",
       "      <td>NaN</td>\n",
       "      <td>NaN</td>\n",
       "      <td>NaN</td>\n",
       "      <td>25013.0</td>\n",
       "      <td>Critical Access Hospitals</td>\n",
       "      <td>Voluntary non-profit - Private</td>\n",
       "      <td>True</td>\n",
       "      <td>True</td>\n",
       "      <td>NaN</td>\n",
       "      <td>NaN</td>\n",
       "    </tr>\n",
       "    <tr>\n",
       "      <th>8</th>\n",
       "      <td>330055</td>\n",
       "      <td>NEW YORK-PRESBYTERIAN/QUEENS</td>\n",
       "      <td>56-45 MAIN STREET</td>\n",
       "      <td>FLUSHING</td>\n",
       "      <td>NY</td>\n",
       "      <td>11355</td>\n",
       "      <td>QUEENS</td>\n",
       "      <td>Average complications</td>\n",
       "      <td>higher payment</td>\n",
       "      <td>Average mortality</td>\n",
       "      <td>...</td>\n",
       "      <td>23341.0</td>\n",
       "      <td>18474.0</td>\n",
       "      <td>28502.0</td>\n",
       "      <td>20114.0</td>\n",
       "      <td>Acute Care Hospitals</td>\n",
       "      <td>Voluntary non-profit - Private</td>\n",
       "      <td>True</td>\n",
       "      <td>True</td>\n",
       "      <td>2.0</td>\n",
       "      <td>Above the national average</td>\n",
       "    </tr>\n",
       "    <tr>\n",
       "      <th>9</th>\n",
       "      <td>330085</td>\n",
       "      <td>AURELIA OSBORN FOX MEMORIAL HOSPITAL</td>\n",
       "      <td>ONE NORTON AVENUE</td>\n",
       "      <td>ONEONTA</td>\n",
       "      <td>NY</td>\n",
       "      <td>13820</td>\n",
       "      <td>OTSEGO</td>\n",
       "      <td>Average complications</td>\n",
       "      <td>average payment</td>\n",
       "      <td>Average mortality</td>\n",
       "      <td>...</td>\n",
       "      <td>23465.0</td>\n",
       "      <td>14231.0</td>\n",
       "      <td>24434.0</td>\n",
       "      <td>15148.0</td>\n",
       "      <td>Acute Care Hospitals</td>\n",
       "      <td>Voluntary non-profit - Private</td>\n",
       "      <td>True</td>\n",
       "      <td>True</td>\n",
       "      <td>3.0</td>\n",
       "      <td>Same as the national average</td>\n",
       "    </tr>\n",
       "  </tbody>\n",
       "</table>\n",
       "<p>10 rows × 38 columns</p>\n",
       "</div>"
      ],
      "text/plain": [
       "  Provider ID                         Hospital name  \\\n",
       "0      171312              COMANCHE COUNTY HOSPITAL   \n",
       "1      281326            ANTELOPE MEMORIAL HOSPITAL   \n",
       "2      400021             HOSPITAL DE LA CONCEPCION   \n",
       "3      431309           COMMUNITY MEMORIAL HOSPITAL   \n",
       "4      330049            NORTHERN DUTCHESS HOSPITAL   \n",
       "5      400115         CENTRO MEDICO WILMA N VAZQUEZ   \n",
       "6      281344                CHERRY COUNTY HOSPITAL   \n",
       "7      471300                GRACE COTTAGE HOSPITAL   \n",
       "8      330055          NEW YORK-PRESBYTERIAN/QUEENS   \n",
       "9      330085  AURELIA OSBORN FOX MEMORIAL HOSPITAL   \n",
       "\n",
       "                                         Address        City State ZIP Code  \\\n",
       "0                            2ND & FRISCO STREET   COLDWATER    KS    67029   \n",
       "1                   P O BOX 229, 102 WEST 9TH ST      NELIGH    NE    68756   \n",
       "2               ROAD NUMBER 2 KM 173.4 CAIN ALTO  SAN GERMAN    PR    00683   \n",
       "3               809 JACKSON  POST OFFICE BOX 319       BURKE    SD    57523   \n",
       "4                        6511 SPRINGBROOK AVENUE   RHINEBECK    NY    12572   \n",
       "5  CARR. 2 KM 39.5    ROAD NUMBER 2 BO ALGARROBO   VEGA BAJA    PR    00693   \n",
       "6                P O BOX 410, 510 NORTH GREEN ST   VALENTINE    NE    69201   \n",
       "7                                     PO BOX 216   TOWNSHEND    VT    05353   \n",
       "8                              56-45 MAIN STREET    FLUSHING    NY    11355   \n",
       "9                              ONE NORTON AVENUE     ONEONTA    NY    13820   \n",
       "\n",
       "  County name COMP_PAYM_90_HIP_KNEE_1 COMP_PAYM_90_HIP_KNEE_2  \\\n",
       "0    COMANCHE                     NaN                     NaN   \n",
       "1    ANTELOPE                     NaN                     NaN   \n",
       "2  SAN GERMAN                     NaN                     NaN   \n",
       "3     GREGORY                     NaN                     NaN   \n",
       "4    DUTCHESS  Average complications            lower payment   \n",
       "5   VEGA BAJA                     NaN                     NaN   \n",
       "6      CHERRY  Average complications            lower payment   \n",
       "7     WINDHAM                     NaN                     NaN   \n",
       "8      QUEENS  Average complications           higher payment   \n",
       "9      OTSEGO  Average complications          average payment   \n",
       "\n",
       "  MORT_PAYM_30_HEART ATT_1              ...                \\\n",
       "0                      NaN              ...                 \n",
       "1                      NaN              ...                 \n",
       "2       Average mortality               ...                 \n",
       "3                      NaN              ...                 \n",
       "4       Average mortality               ...                 \n",
       "5                      NaN              ...                 \n",
       "6                      NaN              ...                 \n",
       "7                      NaN              ...                 \n",
       "8       Average mortality               ...                 \n",
       "9       Average mortality               ...                 \n",
       "\n",
       "  Payment for heart attack patients - higher  \\\n",
       "0                                        NaN   \n",
       "1                                        NaN   \n",
       "2                                    24844.0   \n",
       "3                                        NaN   \n",
       "4                                    26744.0   \n",
       "5                                        NaN   \n",
       "6                                        NaN   \n",
       "7                                        NaN   \n",
       "8                                    23341.0   \n",
       "9                                    23465.0   \n",
       "\n",
       "  Payment for heart failure patients - higher  \\\n",
       "0                                         NaN   \n",
       "1                                         NaN   \n",
       "2                                     18373.0   \n",
       "3                                         NaN   \n",
       "4                                     18169.0   \n",
       "5                                         NaN   \n",
       "6                                         NaN   \n",
       "7                                         NaN   \n",
       "8                                     18474.0   \n",
       "9                                     14231.0   \n",
       "\n",
       "  Payment for hip/knee replacement patients - higher  \\\n",
       "0                                                NaN   \n",
       "1                                                NaN   \n",
       "2                                                NaN   \n",
       "3                                                NaN   \n",
       "4                                            19687.0   \n",
       "5                                                NaN   \n",
       "6                                            20218.0   \n",
       "7                                                NaN   \n",
       "8                                            28502.0   \n",
       "9                                            24434.0   \n",
       "\n",
       "  Payment for pneumonia patients - higher              Hospital Type  \\\n",
       "0                                 25442.0  Critical Access Hospitals   \n",
       "1                                 22787.0  Critical Access Hospitals   \n",
       "2                                 18950.0       Acute Care Hospitals   \n",
       "3                                     NaN  Critical Access Hospitals   \n",
       "4                                 17995.0       Acute Care Hospitals   \n",
       "5                                     NaN       Acute Care Hospitals   \n",
       "6                                 14791.0  Critical Access Hospitals   \n",
       "7                                 25013.0  Critical Access Hospitals   \n",
       "8                                 20114.0       Acute Care Hospitals   \n",
       "9                                 15148.0       Acute Care Hospitals   \n",
       "\n",
       "               Hospital Ownership  Emergency Services  \\\n",
       "0              Government - Local                True   \n",
       "1  Voluntary non-profit - Private                True   \n",
       "2   Voluntary non-profit - Church                True   \n",
       "3  Voluntary non-profit - Private                True   \n",
       "4  Voluntary non-profit - Private                True   \n",
       "5                     Proprietary                True   \n",
       "6              Government - Local                True   \n",
       "7  Voluntary non-profit - Private                True   \n",
       "8  Voluntary non-profit - Private                True   \n",
       "9  Voluntary non-profit - Private                True   \n",
       "\n",
       "   Meets criteria for meaningful use of EHRs  Hospital overall rating  \\\n",
       "0                                       True                      NaN   \n",
       "1                                       True                      3.0   \n",
       "2                                       True                      NaN   \n",
       "3                                       True                      NaN   \n",
       "4                                       True                      4.0   \n",
       "5                                       True                      NaN   \n",
       "6                                       True                      3.0   \n",
       "7                                       True                      NaN   \n",
       "8                                       True                      2.0   \n",
       "9                                       True                      3.0   \n",
       "\n",
       "   Mortality national comparison  \n",
       "0                            NaN  \n",
       "1                            NaN  \n",
       "2   Same as the national average  \n",
       "3                            NaN  \n",
       "4   Same as the national average  \n",
       "5                            NaN  \n",
       "6                            NaN  \n",
       "7                            NaN  \n",
       "8     Above the national average  \n",
       "9   Same as the national average  \n",
       "\n",
       "[10 rows x 38 columns]"
      ]
     },
     "execution_count": 614,
     "metadata": {},
     "output_type": "execute_result"
    }
   ],
   "source": [
    "complete.head(10)"
   ]
  },
  {
   "cell_type": "code",
   "execution_count": 615,
   "metadata": {
    "scrolled": true
   },
   "outputs": [
    {
     "name": "stdout",
     "output_type": "stream",
     "text": [
      "Fields to apply hot one encoding on:\n",
      "0 : Provider ID\n",
      "1 : Hospital name\n",
      "2 : Address\n",
      "3 : City\n",
      "4 : State\n",
      "5 : ZIP Code\n",
      "6 : County name\n",
      "7 : COMP_PAYM_90_HIP_KNEE_1\n",
      "8 : COMP_PAYM_90_HIP_KNEE_2\n",
      "9 : MORT_PAYM_30_HEART ATT_1\n",
      "10 : MORT_PAYM_30_HEART ATT_2\n",
      "11 : MORT_PAYM_30_HEART FAIL_1\n",
      "12 : MORT_PAYM_30_HEART FAIL_2\n",
      "13 : MORT_PAYM_30_PNEU_1\n",
      "14 : MORT_PAYM_30_PNEU_2\n",
      "32 : Hospital Type\n",
      "33 : Hospital Ownership\n",
      "34 : Emergency Services\n",
      "35 : Meets criteria for meaningful use of EHRs\n",
      "37 : Mortality national comparison\n"
     ]
    }
   ],
   "source": [
    "print(\"Fields to apply hot one encoding on:\")\n",
    "for col in complete: \n",
    "    if str(complete.loc[:,col].dtype).startswith((\"float\",'int'))== 0:\n",
    "        complete.loc[:,col] = complete.loc[:,col].astype(str)\n",
    "        print(complete.columns.get_loc(col),\":\", col)"
   ]
  },
  {
   "cell_type": "code",
   "execution_count": 616,
   "metadata": {
    "scrolled": false
   },
   "outputs": [],
   "source": [
    "com_coded = complete.copy()\n",
    "\n",
    "lst_to_onehot = [28,29,30,31,32,33,34,35,37]\n",
    "\n",
    "# Create dummy variables of 0 and 1 as a way to on hot code categorical variables without any ordinal purpose\n",
    "dummies = pd.get_dummies(com_coded[com_coded.columns[lst_to_onehot]],dummy_na=False);"
   ]
  },
  {
   "cell_type": "code",
   "execution_count": 617,
   "metadata": {},
   "outputs": [],
   "source": [
    "com_coded = pd.concat([com_coded.drop(com_coded.columns[lst_to_onehot],axis=1),dummies],axis=1)"
   ]
  },
  {
   "cell_type": "code",
   "execution_count": 618,
   "metadata": {},
   "outputs": [
    {
     "data": {
      "text/plain": [
       "(4784, 58)"
      ]
     },
     "execution_count": 618,
     "metadata": {},
     "output_type": "execute_result"
    }
   ],
   "source": [
    "com_coded.head(3)\n",
    "com_coded.shape"
   ]
  },
  {
   "cell_type": "code",
   "execution_count": 619,
   "metadata": {},
   "outputs": [
    {
     "name": "stdout",
     "output_type": "stream",
     "text": [
      "Fields to apply label encoding on:\n",
      "0 : Provider ID\n",
      "1 : Hospital name\n",
      "2 : Address\n",
      "3 : City\n",
      "4 : State\n",
      "5 : ZIP Code\n",
      "6 : County name\n",
      "7 : COMP_PAYM_90_HIP_KNEE_1\n",
      "8 : COMP_PAYM_90_HIP_KNEE_2\n",
      "9 : MORT_PAYM_30_HEART ATT_1\n",
      "10 : MORT_PAYM_30_HEART ATT_2\n",
      "11 : MORT_PAYM_30_HEART FAIL_1\n",
      "12 : MORT_PAYM_30_HEART FAIL_2\n",
      "13 : MORT_PAYM_30_PNEU_1\n",
      "14 : MORT_PAYM_30_PNEU_2\n",
      "33 : Hospital Type_Acute Care Hospitals\n",
      "34 : Hospital Type_Childrens\n",
      "35 : Hospital Type_Critical Access Hospitals\n",
      "36 : Hospital Type_nan\n",
      "37 : Hospital Ownership_Government\n",
      "38 : Hospital Ownership_Government - Federal\n",
      "39 : Hospital Ownership_Government - Hospital District or Authority\n",
      "40 : Hospital Ownership_Government - Local\n",
      "41 : Hospital Ownership_Government - State\n",
      "42 : Hospital Ownership_Physician\n",
      "43 : Hospital Ownership_Proprietary\n",
      "44 : Hospital Ownership_Tribal\n",
      "45 : Hospital Ownership_Voluntary non-profit - Church\n",
      "46 : Hospital Ownership_Voluntary non-profit - Other\n",
      "47 : Hospital Ownership_Voluntary non-profit - Private\n",
      "48 : Hospital Ownership_nan\n",
      "49 : Emergency Services_False\n",
      "50 : Emergency Services_True\n",
      "51 : Emergency Services_nan\n",
      "52 : Meets criteria for meaningful use of EHRs_True\n",
      "53 : Meets criteria for meaningful use of EHRs_nan\n",
      "54 : Mortality national comparison_Above the national average\n",
      "55 : Mortality national comparison_Below the national average\n",
      "56 : Mortality national comparison_Same as the national average\n",
      "57 : Mortality national comparison_nan\n"
     ]
    }
   ],
   "source": [
    "print(\"Fields to apply label encoding on:\")\n",
    "for col in com_coded: \n",
    "    if str(com_coded.loc[:,col].dtype).startswith((\"float\",'int'))== 0:\n",
    "        com_coded.loc[:,col] = com_coded.loc[:,col].astype(str)\n",
    "        print(com_coded.columns.get_loc(col),\":\", col)"
   ]
  },
  {
   "cell_type": "code",
   "execution_count": 620,
   "metadata": {},
   "outputs": [],
   "source": [
    "labelencoder = LabelEncoder()\n",
    "for i in range(1,15,1):\n",
    "    com_coded.iloc[:, i] = labelencoder.fit_transform(com_coded.iloc[:, i])"
   ]
  },
  {
   "cell_type": "code",
   "execution_count": 621,
   "metadata": {},
   "outputs": [],
   "source": [
    "com_coded.set_index(\"Provider ID\", inplace=True)"
   ]
  },
  {
   "cell_type": "code",
   "execution_count": 622,
   "metadata": {},
   "outputs": [],
   "source": [
    "# print(\"Fields to apply label encoding on:\")\n",
    "# for col in com_coded: \n",
    "#     if str(com_coded.loc[:,col].dtype).startswith((\"float\",'int'))== 0:\n",
    "#         com_coded.loc[:,col] = com_coded.loc[:,col].astype(str)\n",
    "#         print(com_coded.columns.get_loc(col),\":\", col)"
   ]
  },
  {
   "cell_type": "code",
   "execution_count": 623,
   "metadata": {},
   "outputs": [],
   "source": [
    "com_coded.iloc[:,32:57] = com_coded.iloc[:,32:57].astype(float)\n",
    "# com_coded = com_coded.astype(float)"
   ]
  },
  {
   "cell_type": "code",
   "execution_count": 624,
   "metadata": {},
   "outputs": [
    {
     "name": "stdout",
     "output_type": "stream",
     "text": [
      "<class 'pandas.core.frame.DataFrame'>\n",
      "Index: 4784 entries, 171312 to 150009\n",
      "Data columns (total 57 columns):\n",
      "Hospital name                                                                              4784 non-null int32\n",
      "Address                                                                                    4784 non-null int32\n",
      "City                                                                                       4784 non-null int32\n",
      "State                                                                                      4784 non-null int32\n",
      "ZIP Code                                                                                   4784 non-null int32\n",
      "County name                                                                                4784 non-null int32\n",
      "COMP_PAYM_90_HIP_KNEE_1                                                                    4784 non-null int32\n",
      "COMP_PAYM_90_HIP_KNEE_2                                                                    4784 non-null int32\n",
      "MORT_PAYM_30_HEART ATT_1                                                                   4784 non-null int32\n",
      "MORT_PAYM_30_HEART ATT_2                                                                   4784 non-null int32\n",
      "MORT_PAYM_30_HEART FAIL_1                                                                  4784 non-null int32\n",
      "MORT_PAYM_30_HEART FAIL_2                                                                  4784 non-null int32\n",
      "MORT_PAYM_30_PNEU_1                                                                        4784 non-null int32\n",
      "MORT_PAYM_30_PNEU_2                                                                        4784 non-null int32\n",
      "Able to receive lab results electronically                                                 4784 non-null float64\n",
      "Able to track patients' lab results, tests, and referrals electronically between visits    4784 non-null float64\n",
      "Patient Safety Culture                                                                     4784 non-null float64\n",
      "Safe surgery checklist use (inpatient)                                                     4784 non-null float64\n",
      "Safe surgery checklist use (outpatient)                                                    4784 non-null float64\n",
      "Payment for heart attack patients - actual                                                 4784 non-null float64\n",
      "Payment for heart failure patients - actual                                                4784 non-null float64\n",
      "Payment for hip/knee replacement patients - actual                                         4784 non-null float64\n",
      "Payment for pneumonia patients - actual                                                    4784 non-null float64\n",
      "Payment for heart attack patients - lower                                                  4784 non-null float64\n",
      "Payment for heart failure patients - lower                                                 4784 non-null float64\n",
      "Payment for hip/knee replacement patients - lower                                          4784 non-null float64\n",
      "Payment for pneumonia patients - lower                                                     4784 non-null float64\n",
      "Hospital overall rating                                                                    4784 non-null float64\n",
      "Payment for heart attack patients - higher                                                 4784 non-null float64\n",
      "Payment for heart failure patients - higher                                                4784 non-null float64\n",
      "Payment for hip/knee replacement patients - higher                                         4784 non-null float64\n",
      "Payment for pneumonia patients - higher                                                    4784 non-null float64\n",
      "Hospital Type_Acute Care Hospitals                                                         4784 non-null float64\n",
      "Hospital Type_Childrens                                                                    4784 non-null float64\n",
      "Hospital Type_Critical Access Hospitals                                                    4784 non-null float64\n",
      "Hospital Type_nan                                                                          4784 non-null float64\n",
      "Hospital Ownership_Government                                                              4784 non-null float64\n",
      "Hospital Ownership_Government - Federal                                                    4784 non-null float64\n",
      "Hospital Ownership_Government - Hospital District or Authority                             4784 non-null float64\n",
      "Hospital Ownership_Government - Local                                                      4784 non-null float64\n",
      "Hospital Ownership_Government - State                                                      4784 non-null float64\n",
      "Hospital Ownership_Physician                                                               4784 non-null float64\n",
      "Hospital Ownership_Proprietary                                                             4784 non-null float64\n",
      "Hospital Ownership_Tribal                                                                  4784 non-null float64\n",
      "Hospital Ownership_Voluntary non-profit - Church                                           4784 non-null float64\n",
      "Hospital Ownership_Voluntary non-profit - Other                                            4784 non-null float64\n",
      "Hospital Ownership_Voluntary non-profit - Private                                          4784 non-null float64\n",
      "Hospital Ownership_nan                                                                     4784 non-null float64\n",
      "Emergency Services_False                                                                   4784 non-null float64\n",
      "Emergency Services_True                                                                    4784 non-null float64\n",
      "Emergency Services_nan                                                                     4784 non-null float64\n",
      "Meets criteria for meaningful use of EHRs_True                                             4784 non-null float64\n",
      "Meets criteria for meaningful use of EHRs_nan                                              4784 non-null float64\n",
      "Mortality national comparison_Above the national average                                   4784 non-null float64\n",
      "Mortality national comparison_Below the national average                                   4784 non-null float64\n",
      "Mortality national comparison_Same as the national average                                 4784 non-null float64\n",
      "Mortality national comparison_nan                                                          4784 non-null float64\n",
      "dtypes: float64(43), int32(14)\n",
      "memory usage: 1.9+ MB\n"
     ]
    }
   ],
   "source": [
    "com_coded_fina = com_coded.fillna(com_coded.mean())\n",
    "com_coded_fina.info()"
   ]
  },
  {
   "cell_type": "code",
   "execution_count": 627,
   "metadata": {},
   "outputs": [],
   "source": [
    "# hospital_overall_rating"
   ]
  },
  {
   "cell_type": "markdown",
   "metadata": {},
   "source": [
    "## Develop Machine Learning Model"
   ]
  },
  {
   "cell_type": "markdown",
   "metadata": {},
   "source": [
    "Try a dirty, fast model first:\n",
    "- Naive Bayes\n",
    "\n",
    "Then Random Tree\n",
    "\n",
    "Then XGBoost if needed"
   ]
  },
  {
   "cell_type": "code",
   "execution_count": 628,
   "metadata": {
    "scrolled": true
   },
   "outputs": [
    {
     "data": {
      "image/png": "[encoded data removed]",
      "text/plain": [
       "<Figure size 720x720 with 2 Axes>"
      ]
     },
     "metadata": {},
     "output_type": "display_data"
    }
   ],
   "source": [
    "# TEST CORRLINEARILATIY \n",
    "corr = com_coded.corr()\n",
    "\n",
    "plt.figure(figsize=(10,10))\n",
    "cmap = sns.diverging_palette(300, 10, as_cmap=True)\n",
    "sns.heatmap(corr,cmap=cmap, vmax=.3, center=0,\n",
    "            square=True, linewidths=.5, cbar_kws={\"shrink\": .2})\n",
    "# Find a correlation table that is less complicated visually\n",
    "plt.show()\n",
    "# This heatmap is for understanding colinearality "
   ]
  },
  {
   "cell_type": "markdown",
   "metadata": {},
   "source": [
    "Minimize highly correlated variables"
   ]
  },
  {
   "cell_type": "code",
   "execution_count": 629,
   "metadata": {},
   "outputs": [],
   "source": [
    "# Select upper triangle of correlation matrix\n",
    "upper = corr.where(np.triu(np.ones(corr.shape), k=1).astype(np.bool))\n",
    "\n",
    "# Find index of feature columns with correlation greater than 0.90\n",
    "to_drop_corr = [column for column in upper.columns if any(upper[column] > 0.90)]\n",
    "\n",
    "# Then drop those columns\n",
    "com_coded_fina = com_coded_fina.drop(to_drop_corr, axis=1)"
   ]
  },
  {
   "cell_type": "code",
   "execution_count": 630,
   "metadata": {},
   "outputs": [
    {
     "name": "stdout",
     "output_type": "stream",
     "text": [
      "After filling null values and dropping highly correlated features, we have:\n",
      "(4784, 46)\n",
      "A drop from\n",
      "(4784, 57) in the original completed dataframe\n"
     ]
    }
   ],
   "source": [
    "print(\"After filling null values and dropping highly correlated features, we have:\")\n",
    "print(com_coded_fina.shape)\n",
    "print(\"A drop from\")\n",
    "print(com_coded.shape, \"in the original completed dataframe\")"
   ]
  },
  {
   "cell_type": "code",
   "execution_count": 631,
   "metadata": {},
   "outputs": [],
   "source": [
    "labels = com_coded_fina.loc[:,\"MORT_PAYM_30_HEART ATT_1\"]\n",
    "features = com_coded_fina.drop(\"MORT_PAYM_30_HEART ATT_1\", axis=1)"
   ]
  },
  {
   "cell_type": "code",
   "execution_count": 632,
   "metadata": {},
   "outputs": [],
   "source": [
    "from sklearn.model_selection import train_test_split\n",
    "train_features, test_features, train_labels, test_labels = train_test_split(features, labels, test_size = 0.15, random_state = 42)"
   ]
  },
  {
   "cell_type": "code",
   "execution_count": 633,
   "metadata": {},
   "outputs": [
    {
     "data": {
      "text/plain": [
       "GaussianNB(priors=None, var_smoothing=1e-09)"
      ]
     },
     "execution_count": 633,
     "metadata": {},
     "output_type": "execute_result"
    }
   ],
   "source": [
    "guass_NB = GaussianNB()\n",
    "guass_NB.fit(train_features,train_labels)"
   ]
  },
  {
   "cell_type": "code",
   "execution_count": 634,
   "metadata": {},
   "outputs": [],
   "source": [
    "predicted_labels = guass_NB.predict(test_features)"
   ]
  },
  {
   "cell_type": "code",
   "execution_count": 635,
   "metadata": {},
   "outputs": [
    {
     "name": "stdout",
     "output_type": "stream",
     "text": [
      "              precision    recall  f1-score   support\n",
      "\n",
      "           0       0.82      0.51      0.63       322\n",
      "           1       0.07      0.56      0.12         9\n",
      "           2       0.00      0.00      0.00         1\n",
      "           3       1.00      0.85      0.92       386\n",
      "\n",
      "   micro avg       0.69      0.69      0.69       718\n",
      "   macro avg       0.47      0.48      0.42       718\n",
      "weighted avg       0.90      0.69      0.78       718\n",
      "\n"
     ]
    }
   ],
   "source": [
    "# Use classification_report to compare the test labels (what we know to be true) and the predicted labels generated by\n",
    "# the Gaussian Naive Bayes\n",
    "print(metrics.classification_report(test_labels, predicted_labels))"
   ]
  },
  {
   "cell_type": "code",
   "execution_count": 636,
   "metadata": {},
   "outputs": [
    {
     "name": "stdout",
     "output_type": "stream",
     "text": [
      "[[165  65  92   0]\n",
      " [  4   5   0   0]\n",
      " [  1   0   0   0]\n",
      " [ 32   5  21 328]]\n"
     ]
    }
   ],
   "source": [
    "print(metrics.confusion_matrix(test_labels, predicted_labels))"
   ]
  },
  {
   "cell_type": "code",
   "execution_count": null,
   "metadata": {},
   "outputs": [],
   "source": []
  },
  {
   "cell_type": "code",
   "execution_count": null,
   "metadata": {},
   "outputs": [],
   "source": []
  },
  {
   "cell_type": "code",
   "execution_count": null,
   "metadata": {},
   "outputs": [],
   "source": []
  }
 ],
 "metadata": {
  "kernelspec": {
   "display_name": "Python 3",
   "language": "python",
   "name": "python3"
  },
  "language_info": {
   "codemirror_mode": {
    "name": "ipython",
    "version": 3
   },
   "file_extension": ".py",
   "mimetype": "text/x-python",
   "name": "python",
   "nbconvert_exporter": "python",
   "pygments_lexer": "ipython3",
   "version": "3.6.2"
  }
 },
 "nbformat": 4,
 "nbformat_minor": 2
}
